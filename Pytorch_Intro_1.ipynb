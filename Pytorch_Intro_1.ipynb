{
  "nbformat": 4,
  "nbformat_minor": 0,
  "metadata": {
    "colab": {
      "provenance": [],
      "collapsed_sections": [
        "mppqzS6beDEi",
        "PtSKfL0HeML8",
        "1TBix_WHfpet"
      ]
    },
    "kernelspec": {
      "name": "python3",
      "display_name": "Python 3"
    },
    "language_info": {
      "name": "python"
    }
  },
  "cells": [
    {
      "cell_type": "code",
      "execution_count": null,
      "metadata": {
        "id": "FCcWWeFH0i_T"
      },
      "outputs": [],
      "source": [
        "import torch"
      ]
    },
    {
      "cell_type": "code",
      "source": [
        "torch.__version__"
      ],
      "metadata": {
        "colab": {
          "base_uri": "https://localhost:8080/",
          "height": 35
        },
        "id": "avXXUtBP1CQF",
        "outputId": "bf81c16c-0b9c-416f-a4ea-4a7ff30d6e1a"
      },
      "execution_count": null,
      "outputs": [
        {
          "output_type": "execute_result",
          "data": {
            "text/plain": [
              "'1.13.0+cu116'"
            ],
            "application/vnd.google.colaboratory.intrinsic+json": {
              "type": "string"
            }
          },
          "metadata": {},
          "execution_count": 2
        }
      ]
    },
    {
      "cell_type": "markdown",
      "source": [
        "# Tensors"
      ],
      "metadata": {
        "id": "uQ8SbyB720uB"
      }
    },
    {
      "cell_type": "markdown",
      "source": [
        "## Empty "
      ],
      "metadata": {
        "id": "221ZhmFn3f2c"
      }
    },
    {
      "cell_type": "markdown",
      "source": [
        "The tensor.empty() function returns the tensor that is filled with uninitialized data and the tensor shape is defined by the variable argument called size."
      ],
      "metadata": {
        "id": "U6SrohR0TJju"
      }
    },
    {
      "cell_type": "code",
      "source": [
        "x = torch.empty(1) #scalar"
      ],
      "metadata": {
        "id": "Iq634-Yt1GZ-"
      },
      "execution_count": null,
      "outputs": []
    },
    {
      "cell_type": "code",
      "source": [
        "x"
      ],
      "metadata": {
        "colab": {
          "base_uri": "https://localhost:8080/"
        },
        "id": "UFZhVlDz1vhw",
        "outputId": "17817b27-b557-468b-d0ab-0821ea84664e"
      },
      "execution_count": null,
      "outputs": [
        {
          "output_type": "execute_result",
          "data": {
            "text/plain": [
              "tensor([2.2061e-35])"
            ]
          },
          "metadata": {},
          "execution_count": 4
        }
      ]
    },
    {
      "cell_type": "code",
      "source": [
        "y = torch.empty(4) # 1d vector\n",
        "y"
      ],
      "metadata": {
        "colab": {
          "base_uri": "https://localhost:8080/"
        },
        "id": "8kD1YN-X3FC8",
        "outputId": "b94507da-a0e2-45ff-e1ff-0376fe44d5a6"
      },
      "execution_count": null,
      "outputs": [
        {
          "output_type": "execute_result",
          "data": {
            "text/plain": [
              "tensor([2.2061e-35, 0.0000e+00, 1.5975e-43, 1.3873e-43])"
            ]
          },
          "metadata": {},
          "execution_count": 9
        }
      ]
    },
    {
      "cell_type": "code",
      "source": [
        "y = torch.empty((2,3)) #2d matrix"
      ],
      "metadata": {
        "id": "3MOXPzka1wG4"
      },
      "execution_count": null,
      "outputs": []
    },
    {
      "cell_type": "code",
      "source": [
        "y"
      ],
      "metadata": {
        "colab": {
          "base_uri": "https://localhost:8080/"
        },
        "id": "-JPNoTyO2mhH",
        "outputId": "63c9aad7-cfdc-4f2b-8fdb-0bfb30e96a42"
      },
      "execution_count": null,
      "outputs": [
        {
          "output_type": "execute_result",
          "data": {
            "text/plain": [
              "tensor([[2.2064e-35, 0.0000e+00, 1.5975e-43],\n",
              "        [1.3873e-43, 1.4574e-43, 6.4460e-44]])"
            ]
          },
          "metadata": {},
          "execution_count": 8
        }
      ]
    },
    {
      "cell_type": "code",
      "source": [
        "z = torch.empty(3,2,3) #3d matrixx"
      ],
      "metadata": {
        "id": "tyP02PzE2m5k"
      },
      "execution_count": null,
      "outputs": []
    },
    {
      "cell_type": "code",
      "source": [
        "z"
      ],
      "metadata": {
        "colab": {
          "base_uri": "https://localhost:8080/"
        },
        "id": "cFP91TBA3XCQ",
        "outputId": "c17a998e-9847-490c-969c-47cb51c2cfbb"
      },
      "execution_count": null,
      "outputs": [
        {
          "output_type": "execute_result",
          "data": {
            "text/plain": [
              "tensor([[[ 2.1138e-35,  0.0000e+00, -7.5280e+18],\n",
              "         [ 4.5623e-41, -7.4195e+18,  4.5623e-41]],\n",
              "\n",
              "        [[-7.4184e+18,  4.5623e-41, -7.4086e+18],\n",
              "         [ 4.5623e-41, -7.4398e+18,  4.5623e-41]],\n",
              "\n",
              "        [[-7.5297e+18,  4.5623e-41, -2.3111e+21],\n",
              "         [ 4.5623e-41, -7.4094e+18,  4.5623e-41]]])"
            ]
          },
          "metadata": {},
          "execution_count": 11
        }
      ]
    },
    {
      "cell_type": "markdown",
      "source": [
        "Random"
      ],
      "metadata": {
        "id": "8vsgf9zu3jRY"
      }
    },
    {
      "cell_type": "code",
      "source": [
        "x = torch.rand(2,2)"
      ],
      "metadata": {
        "id": "FoUcdxH13Xnw"
      },
      "execution_count": null,
      "outputs": []
    },
    {
      "cell_type": "code",
      "source": [
        "x"
      ],
      "metadata": {
        "colab": {
          "base_uri": "https://localhost:8080/"
        },
        "id": "YRO74iGId4Wg",
        "outputId": "c0bd28c7-2426-4b9d-d59f-a0b949612c1a"
      },
      "execution_count": null,
      "outputs": [
        {
          "output_type": "execute_result",
          "data": {
            "text/plain": [
              "tensor([[0.5796, 0.6060],\n",
              "        [0.8716, 0.3679]])"
            ]
          },
          "metadata": {},
          "execution_count": 4
        }
      ]
    },
    {
      "cell_type": "code",
      "source": [
        "y = torch.rand(2)\n",
        "y"
      ],
      "metadata": {
        "colab": {
          "base_uri": "https://localhost:8080/"
        },
        "id": "cw8fGhOzd4uf",
        "outputId": "26bcac8a-ffaf-4c07-f5e1-62e98bfa52cc"
      },
      "execution_count": null,
      "outputs": [
        {
          "output_type": "execute_result",
          "data": {
            "text/plain": [
              "tensor([0.5886, 0.4884])"
            ]
          },
          "metadata": {},
          "execution_count": 5
        }
      ]
    },
    {
      "cell_type": "markdown",
      "source": [
        "## Zeros"
      ],
      "metadata": {
        "id": "mppqzS6beDEi"
      }
    },
    {
      "cell_type": "code",
      "source": [
        "x = torch.zeros(2,2)\n",
        "x"
      ],
      "metadata": {
        "colab": {
          "base_uri": "https://localhost:8080/"
        },
        "id": "Y1O5X0UkeBe3",
        "outputId": "3aec8315-230d-49c7-f18d-a5d49bac2c8c"
      },
      "execution_count": null,
      "outputs": [
        {
          "output_type": "execute_result",
          "data": {
            "text/plain": [
              "tensor([[0., 0.],\n",
              "        [0., 0.]])"
            ]
          },
          "metadata": {},
          "execution_count": 7
        }
      ]
    },
    {
      "cell_type": "markdown",
      "source": [
        "## Similarly !!! Ones"
      ],
      "metadata": {
        "id": "PtSKfL0HeML8"
      }
    },
    {
      "cell_type": "code",
      "source": [
        "x = torch.ones(2,2)\n",
        "x"
      ],
      "metadata": {
        "colab": {
          "base_uri": "https://localhost:8080/"
        },
        "id": "N-K_W6hReIre",
        "outputId": "9fe24029-7fae-4de2-88f8-78dca8263321"
      },
      "execution_count": null,
      "outputs": [
        {
          "output_type": "execute_result",
          "data": {
            "text/plain": [
              "tensor([[1., 1.],\n",
              "        [1., 1.]])"
            ]
          },
          "metadata": {},
          "execution_count": 8
        }
      ]
    },
    {
      "cell_type": "code",
      "source": [
        "x.dtype"
      ],
      "metadata": {
        "colab": {
          "base_uri": "https://localhost:8080/"
        },
        "id": "5N_VXCwLeZO3",
        "outputId": "0ced6717-5688-4ac0-f63a-8623f42f1f58"
      },
      "execution_count": null,
      "outputs": [
        {
          "output_type": "execute_result",
          "data": {
            "text/plain": [
              "torch.float32"
            ]
          },
          "metadata": {},
          "execution_count": 11
        }
      ]
    },
    {
      "cell_type": "code",
      "source": [
        "x = torch.ones((2,2),dtype=torch.int)"
      ],
      "metadata": {
        "id": "nPbGSxSyeUmG"
      },
      "execution_count": null,
      "outputs": []
    },
    {
      "cell_type": "code",
      "source": [
        "x"
      ],
      "metadata": {
        "colab": {
          "base_uri": "https://localhost:8080/"
        },
        "id": "xuJn02ykeky_",
        "outputId": "c4890ea4-c99a-42da-ef80-860155714771"
      },
      "execution_count": null,
      "outputs": [
        {
          "output_type": "execute_result",
          "data": {
            "text/plain": [
              "tensor([[1, 1],\n",
              "        [1, 1]], dtype=torch.int32)"
            ]
          },
          "metadata": {},
          "execution_count": 13
        }
      ]
    },
    {
      "cell_type": "code",
      "source": [
        "x.dtype"
      ],
      "metadata": {
        "colab": {
          "base_uri": "https://localhost:8080/"
        },
        "id": "DpEfeCiZeltP",
        "outputId": "ee34f9a1-8ea7-48d8-8d14-065c4b565723"
      },
      "execution_count": null,
      "outputs": [
        {
          "output_type": "execute_result",
          "data": {
            "text/plain": [
              "torch.int32"
            ]
          },
          "metadata": {},
          "execution_count": 14
        }
      ]
    },
    {
      "cell_type": "code",
      "source": [
        "x = torch.ones((2,2),dtype=torch.float16)\n",
        "x"
      ],
      "metadata": {
        "colab": {
          "base_uri": "https://localhost:8080/"
        },
        "id": "V5l4sDklenC_",
        "outputId": "7bb124b8-f23d-48e3-8ad5-5632c7859e5a"
      },
      "execution_count": null,
      "outputs": [
        {
          "output_type": "execute_result",
          "data": {
            "text/plain": [
              "tensor([[1., 1.],\n",
              "        [1., 1.]], dtype=torch.float16)"
            ]
          },
          "metadata": {},
          "execution_count": 17
        }
      ]
    },
    {
      "cell_type": "code",
      "source": [
        "x.dtype"
      ],
      "metadata": {
        "colab": {
          "base_uri": "https://localhost:8080/"
        },
        "id": "TRMgmT_1eyb3",
        "outputId": "34d9fc28-41cd-418a-c7ad-1bbd596d99cd"
      },
      "execution_count": null,
      "outputs": [
        {
          "output_type": "execute_result",
          "data": {
            "text/plain": [
              "torch.float16"
            ]
          },
          "metadata": {},
          "execution_count": 18
        }
      ]
    },
    {
      "cell_type": "code",
      "source": [
        "x.size()"
      ],
      "metadata": {
        "colab": {
          "base_uri": "https://localhost:8080/"
        },
        "id": "lUfFnAHZe56u",
        "outputId": "80642ead-49a0-41ba-c797-31be23379540"
      },
      "execution_count": null,
      "outputs": [
        {
          "output_type": "execute_result",
          "data": {
            "text/plain": [
              "torch.Size([2, 2])"
            ]
          },
          "metadata": {},
          "execution_count": 19
        }
      ]
    },
    {
      "cell_type": "markdown",
      "source": [
        "## Tensor"
      ],
      "metadata": {
        "id": "1TBix_WHfpet"
      }
    },
    {
      "cell_type": "code",
      "source": [
        "x = torch.tensor([2.2,0.15])\n",
        "x"
      ],
      "metadata": {
        "colab": {
          "base_uri": "https://localhost:8080/"
        },
        "id": "CPC6YBsee8vn",
        "outputId": "cc2b39e4-e879-491a-9616-5f9fcda28797"
      },
      "execution_count": null,
      "outputs": [
        {
          "output_type": "execute_result",
          "data": {
            "text/plain": [
              "tensor([2.2000, 0.1500])"
            ]
          },
          "metadata": {},
          "execution_count": 23
        }
      ]
    },
    {
      "cell_type": "code",
      "source": [
        "x.dtype"
      ],
      "metadata": {
        "colab": {
          "base_uri": "https://localhost:8080/"
        },
        "id": "J8eSrADjfDlu",
        "outputId": "1e68ab12-7c0c-455d-84c6-64204bbb1c91"
      },
      "execution_count": null,
      "outputs": [
        {
          "output_type": "execute_result",
          "data": {
            "text/plain": [
              "torch.float32"
            ]
          },
          "metadata": {},
          "execution_count": 24
        }
      ]
    },
    {
      "cell_type": "markdown",
      "source": [
        "# Tensor Operation "
      ],
      "metadata": {
        "id": "Wqoe2Go0f43j"
      }
    },
    {
      "cell_type": "code",
      "source": [
        "x = torch.rand(2,2)\n",
        "y = torch.rand(2,2)"
      ],
      "metadata": {
        "id": "VpClK__Yf1hu"
      },
      "execution_count": null,
      "outputs": []
    },
    {
      "cell_type": "code",
      "source": [
        "print(x)\n",
        "y"
      ],
      "metadata": {
        "colab": {
          "base_uri": "https://localhost:8080/"
        },
        "id": "sN7b47ZSgEbu",
        "outputId": "09b1973d-e82c-494f-ddaa-77a24afe114a"
      },
      "execution_count": null,
      "outputs": [
        {
          "output_type": "stream",
          "name": "stdout",
          "text": [
            "tensor([[0.1720, 0.9929],\n",
            "        [0.3049, 0.1244]])\n"
          ]
        },
        {
          "output_type": "execute_result",
          "data": {
            "text/plain": [
              "tensor([[0.7373, 0.8089],\n",
              "        [0.0938, 0.7091]])"
            ]
          },
          "metadata": {},
          "execution_count": 28
        }
      ]
    },
    {
      "cell_type": "code",
      "source": [
        "#Add (element-wise addition)\n",
        "z = x+y \n",
        "z"
      ],
      "metadata": {
        "colab": {
          "base_uri": "https://localhost:8080/"
        },
        "id": "Lz2Z6ClngG-f",
        "outputId": "e63a0cef-5336-4e2d-f93c-e1ba6e13e669"
      },
      "execution_count": null,
      "outputs": [
        {
          "output_type": "execute_result",
          "data": {
            "text/plain": [
              "tensor([[0.9093, 1.8019],\n",
              "        [0.3987, 0.8335]])"
            ]
          },
          "metadata": {},
          "execution_count": 30
        }
      ]
    },
    {
      "cell_type": "markdown",
      "source": [
        "Same add operation, but with torch add !!"
      ],
      "metadata": {
        "id": "wlAlYJAPgfqH"
      }
    },
    {
      "cell_type": "code",
      "source": [
        "z = torch.add(x,y)\n",
        "z"
      ],
      "metadata": {
        "colab": {
          "base_uri": "https://localhost:8080/"
        },
        "id": "By0AsVTkgRQf",
        "outputId": "6a900596-0602-44c6-e2f8-187daaca2e79"
      },
      "execution_count": null,
      "outputs": [
        {
          "output_type": "execute_result",
          "data": {
            "text/plain": [
              "tensor([[0.9093, 1.8019],\n",
              "        [0.3987, 0.8335]])"
            ]
          },
          "metadata": {},
          "execution_count": 32
        }
      ]
    },
    {
      "cell_type": "markdown",
      "source": [
        "Inplace ADD !!"
      ],
      "metadata": {
        "id": "WPt0N5jsglj7"
      }
    },
    {
      "cell_type": "code",
      "source": [
        "x = torch.rand(2,2)\n",
        "y = torch.rand(2,2)"
      ],
      "metadata": {
        "id": "Q5lrPnXigWuX"
      },
      "execution_count": null,
      "outputs": []
    },
    {
      "cell_type": "code",
      "source": [
        "#Inplace ADD\n",
        "y = torch.add_(x) \n",
        "#this will modify our y and add all of the elements to our y "
      ],
      "metadata": {
        "id": "kSWWR1gGhxNW"
      },
      "execution_count": null,
      "outputs": []
    },
    {
      "cell_type": "markdown",
      "source": [
        "In pytorch, if we have _ underscore after every method !! is an inplace operation !!\n",
        "\n",
        "- This will modify the variable that it is applied on !!"
      ],
      "metadata": {
        "id": "NHsh27ueiH1o"
      }
    },
    {
      "cell_type": "code",
      "source": [
        "#sub \n",
        "z = torch.sub(x,y) #element-wise substraction\n",
        "z"
      ],
      "metadata": {
        "colab": {
          "base_uri": "https://localhost:8080/"
        },
        "id": "l5UGNNvCiRmN",
        "outputId": "0e5c85e4-b2bc-4c21-b3f7-0a87ab53b73e"
      },
      "execution_count": null,
      "outputs": [
        {
          "output_type": "execute_result",
          "data": {
            "text/plain": [
              "tensor([[ 0.6681,  0.1341],\n",
              "        [-0.5065, -0.1572]])"
            ]
          },
          "metadata": {},
          "execution_count": 35
        }
      ]
    },
    {
      "cell_type": "code",
      "source": [
        "#mul\n",
        "z = torch.mul(x,y)\n",
        "z"
      ],
      "metadata": {
        "colab": {
          "base_uri": "https://localhost:8080/"
        },
        "id": "Pkuw4RT6ipiu",
        "outputId": "cd6716ea-a5fd-4504-85de-8ebe75f96dcd"
      },
      "execution_count": null,
      "outputs": [
        {
          "output_type": "execute_result",
          "data": {
            "text/plain": [
              "tensor([[0.0365, 0.4530],\n",
              "        [0.1512, 0.2840]])"
            ]
          },
          "metadata": {},
          "execution_count": 37
        }
      ]
    },
    {
      "cell_type": "code",
      "source": [
        "#division\n",
        "z = torch.div(x,y)\n",
        "z"
      ],
      "metadata": {
        "colab": {
          "base_uri": "https://localhost:8080/"
        },
        "id": "HCmy4m9Xi1bF",
        "outputId": "3ddc216f-76fc-45b9-ec61-00bcf755d38b"
      },
      "execution_count": null,
      "outputs": [
        {
          "output_type": "execute_result",
          "data": {
            "text/plain": [
              "tensor([[14.1715,  1.2200],\n",
              "        [ 0.2939,  0.7453]])"
            ]
          },
          "metadata": {},
          "execution_count": 39
        }
      ]
    },
    {
      "cell_type": "markdown",
      "source": [
        "## Tensor Slicing !!"
      ],
      "metadata": {
        "id": "xJ6y6jkAjetd"
      }
    },
    {
      "cell_type": "code",
      "source": [
        "x = torch.rand(5,3)\n",
        "x"
      ],
      "metadata": {
        "colab": {
          "base_uri": "https://localhost:8080/"
        },
        "id": "1PGr1VM7jeYt",
        "outputId": "aa4ef103-43d7-4869-f4f3-544516ef20a3"
      },
      "execution_count": null,
      "outputs": [
        {
          "output_type": "execute_result",
          "data": {
            "text/plain": [
              "tensor([[0.0240, 0.4017, 0.0132],\n",
              "        [0.3680, 0.2301, 0.3683],\n",
              "        [0.1771, 0.0623, 0.8601],\n",
              "        [0.5766, 0.5273, 0.4449],\n",
              "        [0.3009, 0.7220, 0.2876]])"
            ]
          },
          "metadata": {},
          "execution_count": 41
        }
      ]
    },
    {
      "cell_type": "code",
      "source": [
        "#we want to slice all rows but single column !!\n",
        "print(x[:,0])"
      ],
      "metadata": {
        "colab": {
          "base_uri": "https://localhost:8080/"
        },
        "id": "5upRomnXjbn9",
        "outputId": "f172822e-2e70-42d7-efcc-be849ee216c0"
      },
      "execution_count": null,
      "outputs": [
        {
          "output_type": "stream",
          "name": "stdout",
          "text": [
            "tensor([0.0240, 0.3680, 0.1771, 0.5766, 0.3009])\n"
          ]
        }
      ]
    },
    {
      "cell_type": "code",
      "source": [
        "# all columns but single row\n",
        "x[0,:]"
      ],
      "metadata": {
        "colab": {
          "base_uri": "https://localhost:8080/"
        },
        "id": "9B0_G78hj5p-",
        "outputId": "9e64ce74-44a1-4443-ce76-17b78de2638b"
      },
      "execution_count": null,
      "outputs": [
        {
          "output_type": "execute_result",
          "data": {
            "text/plain": [
              "tensor([0.0240, 0.4017, 0.0132])"
            ]
          },
          "metadata": {},
          "execution_count": 45
        }
      ]
    },
    {
      "cell_type": "code",
      "source": [
        "# getting value of 1st row's 1st column element !!\n",
        "x[0,0]"
      ],
      "metadata": {
        "colab": {
          "base_uri": "https://localhost:8080/"
        },
        "id": "ZntkLUzYkLqd",
        "outputId": "2970d1a8-a4ed-44ee-be6f-f8bae607ec05"
      },
      "execution_count": null,
      "outputs": [
        {
          "output_type": "execute_result",
          "data": {
            "text/plain": [
              "tensor(0.0240)"
            ]
          },
          "metadata": {},
          "execution_count": 46
        }
      ]
    },
    {
      "cell_type": "code",
      "source": [
        "#if we want item from tensor, we can use item() method !!\n",
        "x[0,0].item()"
      ],
      "metadata": {
        "colab": {
          "base_uri": "https://localhost:8080/"
        },
        "id": "91m9S0njkwVl",
        "outputId": "b88be80b-7d36-4f76-9418-f754225baba9"
      },
      "execution_count": null,
      "outputs": [
        {
          "output_type": "execute_result",
          "data": {
            "text/plain": [
              "0.023952186107635498"
            ]
          },
          "metadata": {},
          "execution_count": 47
        }
      ]
    },
    {
      "cell_type": "markdown",
      "source": [
        "## Reshaping Tensor "
      ],
      "metadata": {
        "id": "p0h5FszslN3O"
      }
    },
    {
      "cell_type": "code",
      "source": [
        "#if we want to reshape, the tensor, then we have to use view() method!!\n",
        "\n",
        "x = torch.rand(4,4)\n",
        "print('Before Reshaping: (4X4)')\n",
        "print(x)\n",
        "print()\n",
        "#4*4 = 16 single row vector\n",
        "print('After Reshaping: (16X1)')\n",
        "y = x.view(16) \n",
        "y\n",
        "\n",
        "#NOTE: Element should match !!"
      ],
      "metadata": {
        "colab": {
          "base_uri": "https://localhost:8080/"
        },
        "id": "3OlT_pxEk_qV",
        "outputId": "4edf1c50-7c9d-43f4-b699-0f3298589ce8"
      },
      "execution_count": null,
      "outputs": [
        {
          "output_type": "stream",
          "name": "stdout",
          "text": [
            "Before Reshaping: \n",
            "tensor([[0.9767, 0.8641, 0.8981, 0.4910],\n",
            "        [0.2709, 0.3989, 0.4079, 0.8920],\n",
            "        [0.8526, 0.8582, 0.6788, 0.1828],\n",
            "        [0.4798, 0.6732, 0.3957, 0.6828]])\n",
            "\n",
            "After Reshaping: \n"
          ]
        },
        {
          "output_type": "execute_result",
          "data": {
            "text/plain": [
              "tensor([0.9767, 0.8641, 0.8981, 0.4910, 0.2709, 0.3989, 0.4079, 0.8920, 0.8526,\n",
              "        0.8582, 0.6788, 0.1828, 0.4798, 0.6732, 0.3957, 0.6828])"
            ]
          },
          "metadata": {},
          "execution_count": 52
        }
      ]
    },
    {
      "cell_type": "code",
      "source": [
        "x = torch.rand(4,4) \n",
        "\n",
        "y = x.view(-1,8)\n",
        "\n",
        "print(y)\n",
        "\n",
        "print(y.size())\n",
        "\n",
        "#if we give single value, and -1 Then  pytorch will take care about the size"
      ],
      "metadata": {
        "colab": {
          "base_uri": "https://localhost:8080/"
        },
        "id": "s2rG_7Cql3c1",
        "outputId": "1baceb93-a330-4beb-fb88-8209ef72f9de"
      },
      "execution_count": null,
      "outputs": [
        {
          "output_type": "stream",
          "name": "stdout",
          "text": [
            "tensor([[0.4762, 0.8864, 0.0985, 0.0527, 0.8507, 0.3539, 0.7927, 0.1851],\n",
            "        [0.5630, 0.9309, 0.1980, 0.5913, 0.5360, 0.9645, 0.6356, 0.3951]])\n",
            "torch.Size([2, 8])\n"
          ]
        }
      ]
    },
    {
      "cell_type": "code",
      "source": [
        "y = x.view(-1,-1)"
      ],
      "metadata": {
        "colab": {
          "base_uri": "https://localhost:8080/",
          "height": 168
        },
        "id": "e2MhWs9bm6Q0",
        "outputId": "a19324a8-13c1-4449-f1e7-7b9a3f29ffa6"
      },
      "execution_count": null,
      "outputs": [
        {
          "output_type": "error",
          "ename": "RuntimeError",
          "evalue": "ignored",
          "traceback": [
            "\u001b[0;31m---------------------------------------------------------------------------\u001b[0m",
            "\u001b[0;31mRuntimeError\u001b[0m                              Traceback (most recent call last)",
            "\u001b[0;32m<ipython-input-55-6376c7a809bc>\u001b[0m in \u001b[0;36m<module>\u001b[0;34m\u001b[0m\n\u001b[0;32m----> 1\u001b[0;31m \u001b[0my\u001b[0m \u001b[0;34m=\u001b[0m \u001b[0mx\u001b[0m\u001b[0;34m.\u001b[0m\u001b[0mview\u001b[0m\u001b[0;34m(\u001b[0m\u001b[0;34m-\u001b[0m\u001b[0;36m1\u001b[0m\u001b[0;34m,\u001b[0m\u001b[0;34m-\u001b[0m\u001b[0;36m1\u001b[0m\u001b[0;34m)\u001b[0m\u001b[0;34m\u001b[0m\u001b[0;34m\u001b[0m\u001b[0m\n\u001b[0m",
            "\u001b[0;31mRuntimeError\u001b[0m: only one dimension can be inferred"
          ]
        }
      ]
    },
    {
      "cell_type": "markdown",
      "source": [
        "## Numpy to Tensor "
      ],
      "metadata": {
        "id": "yVsx3XG8pWrc"
      }
    },
    {
      "cell_type": "code",
      "source": [
        "import numpy as np"
      ],
      "metadata": {
        "id": "8cAriGV9nJhr"
      },
      "execution_count": null,
      "outputs": []
    },
    {
      "cell_type": "code",
      "source": [
        "a = np.ones(5)"
      ],
      "metadata": {
        "id": "jyuSfC3mrLuc"
      },
      "execution_count": null,
      "outputs": []
    },
    {
      "cell_type": "code",
      "source": [
        "b = torch.from_numpy(a)"
      ],
      "metadata": {
        "id": "kgjeV4xUrOnE"
      },
      "execution_count": null,
      "outputs": []
    },
    {
      "cell_type": "code",
      "source": [
        "b"
      ],
      "metadata": {
        "colab": {
          "base_uri": "https://localhost:8080/"
        },
        "id": "aoP1a3rNrSjE",
        "outputId": "8d64be00-5669-416a-ac33-7f5c4097ff5b"
      },
      "execution_count": null,
      "outputs": [
        {
          "output_type": "execute_result",
          "data": {
            "text/plain": [
              "tensor([1., 1., 1., 1., 1.], dtype=torch.float64)"
            ]
          },
          "metadata": {},
          "execution_count": 5
        }
      ]
    },
    {
      "cell_type": "markdown",
      "source": [
        "## Check GPU "
      ],
      "metadata": {
        "id": "1OI3uKlarXz2"
      }
    },
    {
      "cell_type": "code",
      "source": [
        "torch.cuda.is_available()"
      ],
      "metadata": {
        "colab": {
          "base_uri": "https://localhost:8080/"
        },
        "id": "QG4Ecyhwr0CS",
        "outputId": "b7d6e2cf-76d0-4d59-838e-3195dfbc148e"
      },
      "execution_count": null,
      "outputs": [
        {
          "output_type": "execute_result",
          "data": {
            "text/plain": [
              "False"
            ]
          },
          "metadata": {},
          "execution_count": 6
        }
      ]
    },
    {
      "cell_type": "code",
      "source": [
        "if torch.cuda.is_available():\n",
        "  device = torch.device('cuda')\n",
        "  x = torch.ones(5,device=device)\n",
        "  y = torch.ones(5)\n",
        "  y = y.to(device)\n",
        "  #operation\n",
        "  z = x + y\n",
        "  z.numpy()\n",
        "\n",
        "  z = z.to('cpu')"
      ],
      "metadata": {
        "id": "BARYzZJJrTK0"
      },
      "execution_count": null,
      "outputs": []
    },
    {
      "cell_type": "code",
      "source": [],
      "metadata": {
        "id": "0PNfbZkosQUN"
      },
      "execution_count": null,
      "outputs": []
    }
  ]
}
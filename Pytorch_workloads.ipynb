{
 "cells": [
  {
   "cell_type": "markdown",
   "id": "29bbb095-e4bb-4227-b91c-d47b9e555a4f",
   "metadata": {},
   "source": [
    "# PyTorch Workflows"
   ]
  },
  {
   "cell_type": "code",
   "execution_count": 1,
   "id": "aaa65361-80d6-4dab-8c2d-d7021002075f",
   "metadata": {},
   "outputs": [
    {
     "data": {
      "text/plain": [
       "{1: 'data (prepare and load)',\n",
       " 2: 'build model',\n",
       " 3: 'fitting the model to data (training)',\n",
       " 4: 'making predictions and evaluting a model',\n",
       " 5: 'saving and loading a model',\n",
       " 6: 'putting it all together'}"
      ]
     },
     "execution_count": 1,
     "metadata": {},
     "output_type": "execute_result"
    }
   ],
   "source": [
    "what_were_covering = { 1: \"data (prepare and load)\", \n",
    "                       2: \"build model\",\n",
    "                       3: \"fitting the model to data (training)\", \n",
    "                       4: \"making predictions and evaluting a model\",\n",
    "                       5: \"saving and loading a model\", \n",
    "                       6: \"putting it all together\"\n",
    "}\n",
    "\n",
    "what_were_covering"
   ]
  },
  {
   "cell_type": "code",
   "execution_count": 1,
   "id": "204ad31f-d0b6-4170-99ae-b813135a9786",
   "metadata": {},
   "outputs": [],
   "source": [
    "import torch \n",
    "from torch import nn # nn contains all of PyTorch's building blocks for neural network!\n",
    "import matplotlib.pyplot as plt "
   ]
  },
  {
   "cell_type": "code",
   "execution_count": 4,
   "id": "251b323e-fb1c-41d7-876a-4518fe672e3c",
   "metadata": {},
   "outputs": [
    {
     "data": {
      "text/plain": [
       "'2.1.0+cu121'"
      ]
     },
     "execution_count": 4,
     "metadata": {},
     "output_type": "execute_result"
    }
   ],
   "source": [
    "torch.__version__"
   ]
  },
  {
   "cell_type": "markdown",
   "id": "eb318969-f00d-4377-82ec-c2ed5b3d9400",
   "metadata": {},
   "source": [
    "## 1) Data (Preparing and Loading)  \n",
    "\n",
    "Data can be almost anything... in machine learning!\n",
    "\n",
    "* Excel Sheets,\n",
    "* Images of any kind,\n",
    "* Videos (Youtube has lots of data...)\n",
    "* Audio like songs and Podcasts\n",
    "* DNA\n",
    "* Text Data\n",
    "\n",
    "Machine Learning is a game of two parts: \n",
    "1. Get data into a numerical representation.\n",
    "2. Build a model to learn patterns in that numerical representation.\n",
    "\n",
    "To showcase this, let's create some **known** data using the linear regression formula. \n",
    "\n",
    "We'll use a linear regression formula to make a straight line with **known parameter**  "
   ]
  },
  {
   "cell_type": "code",
   "execution_count": 2,
   "id": "92855985-bc1c-45f0-8182-3e927663a7a9",
   "metadata": {},
   "outputs": [
    {
     "data": {
      "text/plain": [
       "(tensor([[0.0000],\n",
       "         [0.0200],\n",
       "         [0.0400],\n",
       "         [0.0600],\n",
       "         [0.0800],\n",
       "         [0.1000],\n",
       "         [0.1200],\n",
       "         [0.1400],\n",
       "         [0.1600],\n",
       "         [0.1800]]),\n",
       " tensor([[0.3000],\n",
       "         [0.3140],\n",
       "         [0.3280],\n",
       "         [0.3420],\n",
       "         [0.3560],\n",
       "         [0.3700],\n",
       "         [0.3840],\n",
       "         [0.3980],\n",
       "         [0.4120],\n",
       "         [0.4260]]),\n",
       " 50,\n",
       " 50)"
      ]
     },
     "execution_count": 2,
     "metadata": {},
     "output_type": "execute_result"
    }
   ],
   "source": [
    "#Create known parameter \n",
    "weight = 0.7\n",
    "bias = 0.3 \n",
    "\n",
    "#create data\n",
    "start = 0 \n",
    "end = 1 \n",
    "step = 0.02\n",
    "X = torch.arange(start,end,step).unsqueeze(dim=1)\n",
    "\n",
    "y = weight * X + bias\n",
    "\n",
    "X[:10], y[:10], len(X), len(y)"
   ]
  },
  {
   "cell_type": "code",
   "execution_count": 4,
   "id": "e67ebb5b-96f5-4ae8-86b2-514c5bd757df",
   "metadata": {},
   "outputs": [
    {
     "data": {
      "text/plain": [
       "0.314"
      ]
     },
     "execution_count": 4,
     "metadata": {},
     "output_type": "execute_result"
    }
   ],
   "source": [
    "#this is how y is getting popoulated!\n",
    "weight * 0.0200 + bias"
   ]
  },
  {
   "cell_type": "markdown",
   "id": "9b139426-0683-4e3c-a024-e883151b738e",
   "metadata": {},
   "source": [
    "### Splitting data into Train, Test sets\n",
    "\n",
    "1. Training set\n",
    "2. Validation set\n",
    "3. Test set"
   ]
  },
  {
   "cell_type": "code",
   "execution_count": 5,
   "id": "f14b5fa6-d386-44ef-bb76-273aa8ea512e",
   "metadata": {},
   "outputs": [
    {
     "data": {
      "text/plain": [
       "40.0"
      ]
     },
     "execution_count": 5,
     "metadata": {},
     "output_type": "execute_result"
    }
   ],
   "source": [
    "0.8 * len(X) # getting 80% of data from whole dataset"
   ]
  },
  {
   "cell_type": "code",
   "execution_count": 3,
   "id": "ca323f7f-9123-47fc-bfe5-27b87bd3a59f",
   "metadata": {},
   "outputs": [
    {
     "data": {
      "text/plain": [
       "40"
      ]
     },
     "execution_count": 3,
     "metadata": {},
     "output_type": "execute_result"
    }
   ],
   "source": [
    "# Create a train/test split\n",
    "train_split = int(0.8 * len(X))\n",
    "train_split"
   ]
  },
  {
   "cell_type": "code",
   "execution_count": 4,
   "id": "5443dd87-b64e-4221-a353-b5ed7467addd",
   "metadata": {},
   "outputs": [
    {
     "name": "stdout",
     "output_type": "stream",
     "text": [
      "Training set: torch.Size([40, 1]), torch.Size([40, 1])\n"
     ]
    }
   ],
   "source": [
    "X_train, y_train = X[:train_split], y[:train_split]\n",
    "X_test, y_test = X[train_split:], y[train_split:]\n",
    "\n",
    "print(f\"Training set: {X_train.shape}, {y_train.shape}\")"
   ]
  },
  {
   "cell_type": "markdown",
   "id": "f289557b-7497-4798-b6ce-030eb5b22a73",
   "metadata": {},
   "source": [
    "How might we better view our data? \n",
    "\n",
    "This is where the data explorer's motto comes in! \n",
    "\n",
    "\"Visualize, Visualize...\""
   ]
  },
  {
   "cell_type": "code",
   "execution_count": 5,
   "id": "619a0c75-06a8-4252-917a-391d0f2b07e6",
   "metadata": {},
   "outputs": [],
   "source": [
    "def plot_prediction(train_data=X_train, train_label=y_train, \n",
    "                   test_data=X_test, test_label = y_test, predictions=None):\n",
    "    \"\"\"\n",
    "    Plots training data, test data and compares predictions. \n",
    "    \"\"\"\n",
    "    plt.figure(figsize=(10,7))\n",
    "\n",
    "    # Plot Training data in blue\n",
    "    plt.scatter(train_data, train_label, c=\"b\", s=4, label=\"Training data\")\n",
    "\n",
    "    #plot test data in green\n",
    "    plt.scatter(test_data, test_label, c=\"g\", s=4, label=\"Test data\")\n",
    "\n",
    "    if predictions is not None:\n",
    "        plt.scatter(test_data, predictions, c=\"r\", s=4, label=\"Predictions\")\n",
    "\n",
    "    #Show the legends\n",
    "    plt.legend(prop={\"size\": 10})\n",
    "       "
   ]
  },
  {
   "cell_type": "code",
   "execution_count": 6,
   "id": "6ec9baa2-41a1-4849-b66d-cc1d36b37a23",
   "metadata": {},
   "outputs": [
    {
     "data": {
      "image/png": "[encoded data removed]",
      "text/plain": [
       "<Figure size 1000x700 with 1 Axes>"
      ]
     },
     "metadata": {},
     "output_type": "display_data"
    }
   ],
   "source": [
    "plot_prediction()"
   ]
  },
  {
   "cell_type": "markdown",
   "id": "687ba076-3c8c-41d9-91b7-ee8937cb2e7d",
   "metadata": {},
   "source": [
    "### 2. Building Model \n",
    "\n",
    "Linear Regression Model\n",
    "\n",
    "what our model does: \n",
    "* Start with random values (weights and Bias)\n",
    "* Looks at the training data and adjust the random values to better represent (or get closer to) the ideal values (weights & Bias).\n",
    "\n",
    "How does it do so? \n",
    "\n",
    "Through two main alogirthms:\n",
    "1. Gradient Descent\n",
    "2. Backpropagation"
   ]
  },
  {
   "cell_type": "code",
   "execution_count": 7,
   "id": "2fee3a8b-33ec-4b0b-b404-da88c932bbb1",
   "metadata": {},
   "outputs": [],
   "source": [
    "from torch import nn\n",
    "\n",
    "#Create a linear regression model class\n",
    "#we are inheritting nn module\n",
    "class LinearRegressionModel(nn.Module): # <- Almost everything in pytorch inherhits from nn.Module\n",
    "    def __init__(self):\n",
    "        super().__init__()\n",
    "        self.weight = nn.Parameter(torch.rand(1, \n",
    "                                              requires_grad=True, \n",
    "                                              dtype=torch.float))\n",
    "        \n",
    "        self.bias = nn.Parameter(torch.rand(1, \n",
    "                                           requires_grad=True, \n",
    "                                           dtype=torch.float))\n",
    "\n",
    "    #forward method is defined to describe the computation in the model.\n",
    "    def forward(self, x: torch.Tensor) ->  torch.Tensor:\n",
    "        #x is input data\n",
    "        return self.weight * x + self.bias #linear regression formula."
   ]
  },
  {
   "cell_type": "markdown",
   "id": "ccb044c1-680a-49f0-92e2-7596f86ce8a4",
   "metadata": {},
   "source": [
    "### PyTorch model building Essentials \n",
    "\n",
    "* torch.nn -> contains all of the building blocks for Neural Networks (computational graph).\n",
    "* torch.nn.Parameters -> what parameters should our model try and learn, often a PyTorch layer from torch.nn will set these for us.\n",
    "* torch.nn.Module -> The base class for all the neural network modules, if you subclass it, you should overwrite forward().   7\n",
    "* torch.optim -> this where the optimizers in Pytorch live, they will help in gradient descent.\n",
    "* def forward() - All nn.modules subclasses, requires you to overwrite forward(), this is method defines what happens in the forward computation.   "
   ]
  },
  {
   "cell_type": "markdown",
   "id": "c1e56d47-24d4-4d61-a7f1-1891f93cab7c",
   "metadata": {},
   "source": [
    "### Checking the contents of our PyTorch Model. \n",
    "\n",
    "Now we've created a model, let's see what's inside....\n",
    "\n",
    "So we can check out model's parameters or what's inside our model using '.parameters()'"
   ]
  },
  {
   "cell_type": "code",
   "execution_count": 8,
   "id": "44185cba-c601-4656-ac57-2894e9cc733e",
   "metadata": {},
   "outputs": [
    {
     "data": {
      "text/plain": [
       "[Parameter containing:\n",
       " tensor([0.8823], requires_grad=True),\n",
       " Parameter containing:\n",
       " tensor([0.9150], requires_grad=True)]"
      ]
     },
     "execution_count": 8,
     "metadata": {},
     "output_type": "execute_result"
    }
   ],
   "source": [
    "#Create a random seed\n",
    "RANDOM_SEED = 42\n",
    "torch.manual_seed(RANDOM_SEED)\n",
    "\n",
    "#Create a instance of the model. \n",
    "model_0 = LinearRegressionModel()\n",
    "\n",
    "#Check out the parameters\n",
    "model_0\n",
    "\n",
    "#generator object\n",
    "model_0.parameters()\n",
    "\n",
    "list(model_0.parameters())"
   ]
  },
  {
   "cell_type": "code",
   "execution_count": 12,
   "id": "ca7df61c-2b2d-4c61-a854-4965ee6e198e",
   "metadata": {},
   "outputs": [
    {
     "data": {
      "text/plain": [
       "OrderedDict([('weight', tensor([0.8823])), ('bias', tensor([0.9150]))])"
      ]
     },
     "execution_count": 12,
     "metadata": {},
     "output_type": "execute_result"
    }
   ],
   "source": [
    "#List of named Parameters\n",
    "model_0.state_dict()"
   ]
  },
  {
   "cell_type": "markdown",
   "id": "8d3065e2-8cd1-4d5f-94b2-df5cfaa0b28a",
   "metadata": {},
   "source": [
    "### Making Prediction using 'torch.inference_mode()'\n",
    "\n",
    "To check our model's Predictive power, let's see how well it predicts 'y_test' based on 'x_test' \n",
    "\n",
    "When we pass data through our model, it's going to run it through the 'forward()'."
   ]
  },
  {
   "cell_type": "code",
   "execution_count": 13,
   "id": "632ec02b-f6f8-4a67-96d5-e51e24f812a8",
   "metadata": {},
   "outputs": [
    {
     "data": {
      "text/plain": [
       "tensor([[0.8000],\n",
       "        [0.8200],\n",
       "        [0.8400],\n",
       "        [0.8600],\n",
       "        [0.8800],\n",
       "        [0.9000],\n",
       "        [0.9200],\n",
       "        [0.9400],\n",
       "        [0.9600],\n",
       "        [0.9800]])"
      ]
     },
     "execution_count": 13,
     "metadata": {},
     "output_type": "execute_result"
    }
   ],
   "source": [
    "#These are our test data\n",
    "X_test"
   ]
  },
  {
   "cell_type": "code",
   "execution_count": 14,
   "id": "73dcd2e2-f2a6-4fa8-b29d-45221b5fdcde",
   "metadata": {},
   "outputs": [
    {
     "data": {
      "text/plain": [
       "tensor([[0.8600],\n",
       "        [0.8740],\n",
       "        [0.8880],\n",
       "        [0.9020],\n",
       "        [0.9160],\n",
       "        [0.9300],\n",
       "        [0.9440],\n",
       "        [0.9580],\n",
       "        [0.9720],\n",
       "        [0.9860]])"
      ]
     },
     "execution_count": 14,
     "metadata": {},
     "output_type": "execute_result"
    }
   ],
   "source": [
    "#these are test label (Actual)\n",
    "y_test"
   ]
  },
  {
   "cell_type": "code",
   "execution_count": 9,
   "id": "b4464279-e1c4-400c-9383-02fea66c1df6",
   "metadata": {},
   "outputs": [
    {
     "data": {
      "text/plain": [
       "tensor([[1.6208],\n",
       "        [1.6385],\n",
       "        [1.6561],\n",
       "        [1.6738],\n",
       "        [1.6914],\n",
       "        [1.7090],\n",
       "        [1.7267],\n",
       "        [1.7443],\n",
       "        [1.7620],\n",
       "        [1.7796]])"
      ]
     },
     "execution_count": 9,
     "metadata": {},
     "output_type": "execute_result"
    }
   ],
   "source": [
    "#Make Predictions with model\n",
    "with torch.inference_mode():\n",
    "    y_pred = model_0(X_test)\n",
    "\n",
    "#Predicted values\n",
    "y_pred"
   ]
  },
  {
   "cell_type": "code",
   "execution_count": 16,
   "id": "40fe533f-3582-479f-841f-cf7a0437800b",
   "metadata": {},
   "outputs": [
    {
     "data": {
      "text/plain": [
       "tensor([[0.8600],\n",
       "        [0.8740],\n",
       "        [0.8880],\n",
       "        [0.9020],\n",
       "        [0.9160],\n",
       "        [0.9300],\n",
       "        [0.9440],\n",
       "        [0.9580],\n",
       "        [0.9720],\n",
       "        [0.9860]])"
      ]
     },
     "execution_count": 16,
     "metadata": {},
     "output_type": "execute_result"
    }
   ],
   "source": [
    "#Actual values\n",
    "y_test"
   ]
  },
  {
   "cell_type": "code",
   "execution_count": 17,
   "id": "dad42cec-8de5-402a-90ea-34832e4807b1",
   "metadata": {},
   "outputs": [
    {
     "data": {
      "image/png": "[encoded data removed]",
      "text/plain": [
       "<Figure size 1000x700 with 1 Axes>"
      ]
     },
     "metadata": {},
     "output_type": "display_data"
    }
   ],
   "source": [
    "#Visualize our predictions\n",
    "plot_prediction(predictions=y_pred)"
   ]
  },
  {
   "cell_type": "markdown",
   "id": "1738eb53-cec7-494c-b5ff-5a0aabea096d",
   "metadata": {},
   "source": [
    "### For Predictions (Inference) we have two options"
   ]
  },
  {
   "cell_type": "markdown",
   "id": "11fe8792-0d5b-43e7-8e30-9c5f1f98ce6f",
   "metadata": {},
   "source": [
    "#### Option-1 \n",
    "\n",
    "Using model without context manager"
   ]
  },
  {
   "cell_type": "code",
   "execution_count": 18,
   "id": "faa1be77-8364-44ab-bc3c-b22e7e0a12ee",
   "metadata": {},
   "outputs": [
    {
     "data": {
      "text/plain": [
       "tensor([[1.6208],\n",
       "        [1.6385],\n",
       "        [1.6561],\n",
       "        [1.6738],\n",
       "        [1.6914],\n",
       "        [1.7090],\n",
       "        [1.7267],\n",
       "        [1.7443],\n",
       "        [1.7620],\n",
       "        [1.7796]], grad_fn=<AddBackward0>)"
      ]
     },
     "execution_count": 18,
     "metadata": {},
     "output_type": "execute_result"
    }
   ],
   "source": [
    "y_preds = model_0(X_test)\n",
    "\n",
    "y_preds"
   ]
  },
  {
   "cell_type": "markdown",
   "id": "a6ab7c09-56c3-462b-aaa2-8f2b3b91e9f7",
   "metadata": {},
   "source": [
    "#### Option-2 \n",
    "With context Manager\n",
    "\n",
    "What inference_mode() does ? \n",
    "\n",
    "It will turn off that gradient tracking! \n",
    "\n",
    "Essentially It will remove all the gradients tracking which is useless when we are doing inference!\n",
    "\n",
    "Disables all the gradient tracking which are used in Training (for updation of weights and bias). \n",
    "\n",
    "Before: In pytorch, there are using torch.no_grad() -> to get..\n",
    "\n",
    "torch.no_grad() replaced with torch.inference_mode() (Context Manager)!\n",
    "\n",
    "**It will make your inference code in PyTorch run Faster**\n",
    "\n",
    "See more about Inference mode here: https://pytorch.org/docs/stable/generated/torch.inference_mode.html\n",
    "\n",
    "**You can also do something similar with torch.no_grad(), however inference_mode() is preferred**"
   ]
  },
  {
   "cell_type": "code",
   "execution_count": 17,
   "id": "0427ce64-f426-484d-88de-c36efc01ed02",
   "metadata": {},
   "outputs": [
    {
     "data": {
      "text/plain": [
       "tensor([[1.6208],\n",
       "        [1.6385],\n",
       "        [1.6561],\n",
       "        [1.6738],\n",
       "        [1.6914],\n",
       "        [1.7090],\n",
       "        [1.7267],\n",
       "        [1.7443],\n",
       "        [1.7620],\n",
       "        [1.7796]])"
      ]
     },
     "execution_count": 17,
     "metadata": {},
     "output_type": "execute_result"
    }
   ],
   "source": [
    "#Make Predictions with model\n",
    "with torch.inference_mode(): #Context Manager\n",
    "    y_pred = model_0(X_test)\n",
    "\n",
    "#Predicted values\n",
    "y_pred"
   ]
  },
  {
   "cell_type": "markdown",
   "id": "7c0dcea9-4807-4a90-a9bb-42de7c58e066",
   "metadata": {},
   "source": [
    "## 3. Training the model\n",
    "\n",
    "The whole idea of training is for a model to move from some **unknown** parameters (these may be random) to some **know parameters**\n",
    "\n",
    "Or In other words, from a poor representation of the data to better representation of data!\n",
    "\n",
    "One way to measure how poor or how wrong our model's predictions are is to use **Loss functions** \n",
    "\n",
    "\n",
    "Note: Loss function may also be called cost function or criterion in different areas. \n",
    "\n",
    "`Parameter`: model will sets!\n",
    "\n",
    "`Hyperparameter`: is the value, we the datascientist or ML engineer sets!\n",
    "\n",
    "Things we need to Train:\n",
    "\n",
    "* **Loss function:** A function to measure how wrong your model's predictions are to the ideal ouputs (actual labels). \n",
    "\n",
    "     --> lower the better!\n",
    "\n",
    "* **Optimizer:** Takes into account the loss of a model and adjusts the model's parameters (Weights, Bias in our case) to improve the loss function.\n",
    "\n",
    "    - `Params`: the model parameters you'd like to optimize, for example: params=model_0.parameters()\n",
    "    - `lr (learning rate)`: the learning rate is a hyperparameter that defines how big/small the optimizer changes the parameters with each step (a small `lr` results in small changes, a large `lr` results in large change).  \n",
    "And Specifically for PyTorch, we need: \n",
    "\n",
    "* A Training Loop.\n",
    "* A Test Loop. "
   ]
  },
  {
   "cell_type": "code",
   "execution_count": 10,
   "id": "b851a725-c0f6-4712-952e-55ec2c25b32c",
   "metadata": {},
   "outputs": [],
   "source": [
    "### Setup Loss function \n",
    "loss_fn = nn.L1Loss()\n",
    "\n",
    "### Setup a Optimizer (SGD)\n",
    "optimizer = torch.optim.SGD(params=model_0.parameters(), \n",
    "                           lr=0.01) #lr = learning rate \n"
   ]
  },
  {
   "cell_type": "markdown",
   "id": "691d1cba-c52b-4d6f-8729-1e538eb1c5ff",
   "metadata": {},
   "source": [
    "### Remember\n",
    "`Q: Which loss function and optimizer should I use?`\n",
    "`A: This will be problem specific. but with experience, you'll get an idea of what works and what doesn't with your particular problem set`\n",
    "\n",
    "For example: \n",
    "\n",
    "- For a regression problem, \n",
    "            Loss function: MAE(Mean Average Error), MSE(Mean Squared Error). In pytorch, nn.L1Loss() - MAE, nn.L2Loss() - MSE. \n",
    "            Optimizer: torch.SGD(), torch.ADAM() and so on...\n",
    "\n",
    "- For a classification problem, like classifying whether a photo is of a dog or cat, you'll likely want to use a loss function of \n",
    "            Loss function: nn.BCELoss() (Binary Cross Entropy Loss). \n",
    "            OPtimzer: torch.SGD(), torch.ADAM() ..."
   ]
  },
  {
   "cell_type": "markdown",
   "id": "2af79d53-ec18-42d4-8bac-2e360ebf3014",
   "metadata": {},
   "source": [
    "### Building a Training Loop\n",
    "\n",
    "A couple of things we need in a training loop: \n",
    "\n",
    " 0. Loop through the Data. \n",
    " 1. Forward pass (this involves data moving through our model's `forward()` function) - also called, `forward propagation`.\n",
    " 2. Calculate the loss (compare forward pass predictions to ground truth labels).  \n",
    " 3. Optimizer zero grad.\n",
    " 4. Loss backwards - moves from backward through the network to calculate the gradients of the each of the parameters of our model with respect to the loss. - (**BackPropagation**)\n",
    " 5. Optimizer step - use the optimzer to adjust our model's parameters to try and improve the loss. **(gradient descent)**"
   ]
  },
  {
   "cell_type": "code",
   "execution_count": 12,
   "id": "552a384d-21e1-4bfc-9941-abb6d2012eb4",
   "metadata": {},
   "outputs": [],
   "source": [
    "### Setup Loss function \n",
    "loss_fn = nn.L1Loss()\n",
    "\n",
    "### Setup a Optimizer (SGD)\n",
    "optimizer = torch.optim.SGD(params=model_0.parameters(), \n",
    "                           lr=0.01) #lr = learning rate "
   ]
  },
  {
   "cell_type": "code",
   "execution_count": null,
   "id": "e0409a7d-de72-40ff-b6f9-13b4b048f1d3",
   "metadata": {},
   "outputs": [],
   "source": [
    "#An epoch is one loop through the data.. (this is a hyperparameters)\n",
    "epochs = 1 \n",
    "\n",
    "#Training\n",
    "## 0. Loop through the data.\n",
    "for epoch in range(epochs): \n",
    "    #set the model to Training mode. \n",
    "    model_0.train() #train mode - sets all the parameters that requires gradients to True!\n",
    "\n",
    "    #1. Forward Pass\n",
    "    y_pred = model_0(X_train)\n",
    "\n",
    "    # 2. Calculate the loss (MAE) - L1Loss()\n",
    "    loss = loss_fn(y_pred,y_train) \n",
    "\n",
    "    # 3. Optimizer zero grad\n",
    "    ## zeros the values (fresh start)\n",
    "    optimizer.zero_grad()\n",
    "\n",
    "    #4. Perform back propagation on the loss\n",
    "    loss.backward()\n",
    "\n",
    "    #5.Step the optimizer (Performs Gradient descent)\n",
    "    ## By default, how the optimizer changes will accumulate through the loop so..\n",
    "    ## we have to zero them, above in step3\n",
    "    optimizer.step() \n",
    "    \n",
    "## model_0.eval() # turns off gradient tracking"
   ]
  }
 ],
 "metadata": {
  "kernelspec": {
   "display_name": "Python 3 (ipykernel)",
   "language": "python",
   "name": "python3"
  },
  "language_info": {
   "codemirror_mode": {
    "name": "ipython",
    "version": 3
   },
   "file_extension": ".py",
   "mimetype": "text/x-python",
   "name": "python",
   "nbconvert_exporter": "python",
   "pygments_lexer": "ipython3",
   "version": "3.10.13"
  }
 },
 "nbformat": 4,
 "nbformat_minor": 5
}

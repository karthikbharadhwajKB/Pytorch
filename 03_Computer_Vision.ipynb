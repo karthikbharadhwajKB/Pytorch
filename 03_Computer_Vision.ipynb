{
 "cells": [
  {
   "cell_type": "markdown",
   "id": "40863123-9c37-497b-80e4-6941891dd78a",
   "metadata": {},
   "source": [
    "# PyTorch Computer Vision"
   ]
  },
  {
   "cell_type": "markdown",
   "id": "ede9988f-f949-419b-a9b9-dedce32821c8",
   "metadata": {},
   "source": [
    "## 1. Importing Dependencies"
   ]
  },
  {
   "cell_type": "code",
   "execution_count": 1,
   "id": "24ed9963-1963-4db5-b7ce-58246eb60f1b",
   "metadata": {},
   "outputs": [
    {
     "name": "stdout",
     "output_type": "stream",
     "text": [
      "PyTorch version: 2.1.0+cu118\n",
      "torchvision version: 0.16.0+cu118\n"
     ]
    }
   ],
   "source": [
    "# Import PyTorch\n",
    "import torch\n",
    "from torch import nn\n",
    "\n",
    "# Import torchvision \n",
    "import torchvision\n",
    "from torchvision import datasets\n",
    "from torchvision.transforms import ToTensor\n",
    "\n",
    "# Import matplotlib for visualization\n",
    "import matplotlib.pyplot as plt\n",
    "\n",
    "# Check versions\n",
    "# Note: your PyTorch version shouldn't be lower than 1.10.0 and torchvision version shouldn't be lower than 0.11\n",
    "print(f\"PyTorch version: {torch.__version__}\\ntorchvision version: {torchvision.__version__}\")"
   ]
  },
  {
   "cell_type": "markdown",
   "id": "033ecf4a-6a7c-4018-87d4-d62671814abd",
   "metadata": {},
   "source": [
    "## 2. Getting Dataset"
   ]
  },
  {
   "cell_type": "code",
   "execution_count": 2,
   "id": "8ffb4584-8e91-41fa-8a3a-e0514c6df396",
   "metadata": {},
   "outputs": [],
   "source": [
    "# Setup training data\n",
    "train_data = datasets.FashionMNIST(\n",
    "    root=\"data\", # where to download data to?\n",
    "    train=True, # get training data\n",
    "    download=True, # download data if it doesn't exist on disk\n",
    "    transform=ToTensor(), # images come as PIL format, we want to turn into Torch tensors\n",
    "    target_transform=None # you can transform labels as well\n",
    ")\n",
    "\n",
    "# Setup testing data\n",
    "test_data = datasets.FashionMNIST(\n",
    "    root=\"data\",\n",
    "    train=False, # get test data\n",
    "    download=True,\n",
    "    transform=ToTensor()\n",
    ")"
   ]
  },
  {
   "cell_type": "code",
   "execution_count": 3,
   "id": "8428bf2f-2081-4917-9731-97f469878363",
   "metadata": {},
   "outputs": [
    {
     "data": {
      "text/plain": [
       "(tensor([[[0.0000, 0.0000, 0.0000, 0.0000, 0.0000, 0.0000, 0.0000, 0.0000,\n",
       "           0.0000, 0.0000, 0.0000, 0.0000, 0.0000, 0.0000, 0.0000, 0.0000,\n",
       "           0.0000, 0.0000, 0.0000, 0.0000, 0.0000, 0.0000, 0.0000, 0.0000,\n",
       "           0.0000, 0.0000, 0.0000, 0.0000],\n",
       "          [0.0000, 0.0000, 0.0000, 0.0000, 0.0000, 0.0000, 0.0000, 0.0000,\n",
       "           0.0000, 0.0000, 0.0000, 0.0000, 0.0000, 0.0000, 0.0000, 0.0000,\n",
       "           0.0000, 0.0000, 0.0000, 0.0000, 0.0000, 0.0000, 0.0000, 0.0000,\n",
       "           0.0000, 0.0000, 0.0000, 0.0000],\n",
       "          [0.0000, 0.0000, 0.0000, 0.0000, 0.0000, 0.0000, 0.0000, 0.0000,\n",
       "           0.0000, 0.0000, 0.0000, 0.0000, 0.0000, 0.0000, 0.0000, 0.0000,\n",
       "           0.0000, 0.0000, 0.0000, 0.0000, 0.0000, 0.0000, 0.0000, 0.0000,\n",
       "           0.0000, 0.0000, 0.0000, 0.0000],\n",
       "          [0.0000, 0.0000, 0.0000, 0.0000, 0.0000, 0.0000, 0.0000, 0.0000,\n",
       "           0.0000, 0.0000, 0.0000, 0.0000, 0.0039, 0.0000, 0.0000, 0.0510,\n",
       "           0.2863, 0.0000, 0.0000, 0.0039, 0.0157, 0.0000, 0.0000, 0.0000,\n",
       "           0.0000, 0.0039, 0.0039, 0.0000],\n",
       "          [0.0000, 0.0000, 0.0000, 0.0000, 0.0000, 0.0000, 0.0000, 0.0000,\n",
       "           0.0000, 0.0000, 0.0000, 0.0000, 0.0118, 0.0000, 0.1412, 0.5333,\n",
       "           0.4980, 0.2431, 0.2118, 0.0000, 0.0000, 0.0000, 0.0039, 0.0118,\n",
       "           0.0157, 0.0000, 0.0000, 0.0118],\n",
       "          [0.0000, 0.0000, 0.0000, 0.0000, 0.0000, 0.0000, 0.0000, 0.0000,\n",
       "           0.0000, 0.0000, 0.0000, 0.0000, 0.0235, 0.0000, 0.4000, 0.8000,\n",
       "           0.6902, 0.5255, 0.5647, 0.4824, 0.0902, 0.0000, 0.0000, 0.0000,\n",
       "           0.0000, 0.0471, 0.0392, 0.0000],\n",
       "          [0.0000, 0.0000, 0.0000, 0.0000, 0.0000, 0.0000, 0.0000, 0.0000,\n",
       "           0.0000, 0.0000, 0.0000, 0.0000, 0.0000, 0.0000, 0.6078, 0.9255,\n",
       "           0.8118, 0.6980, 0.4196, 0.6118, 0.6314, 0.4275, 0.2510, 0.0902,\n",
       "           0.3020, 0.5098, 0.2824, 0.0588],\n",
       "          [0.0000, 0.0000, 0.0000, 0.0000, 0.0000, 0.0000, 0.0000, 0.0000,\n",
       "           0.0000, 0.0000, 0.0000, 0.0039, 0.0000, 0.2706, 0.8118, 0.8745,\n",
       "           0.8549, 0.8471, 0.8471, 0.6392, 0.4980, 0.4745, 0.4784, 0.5725,\n",
       "           0.5529, 0.3451, 0.6745, 0.2588],\n",
       "          [0.0000, 0.0000, 0.0000, 0.0000, 0.0000, 0.0000, 0.0000, 0.0000,\n",
       "           0.0000, 0.0039, 0.0039, 0.0039, 0.0000, 0.7843, 0.9098, 0.9098,\n",
       "           0.9137, 0.8980, 0.8745, 0.8745, 0.8431, 0.8353, 0.6431, 0.4980,\n",
       "           0.4824, 0.7686, 0.8980, 0.0000],\n",
       "          [0.0000, 0.0000, 0.0000, 0.0000, 0.0000, 0.0000, 0.0000, 0.0000,\n",
       "           0.0000, 0.0000, 0.0000, 0.0000, 0.0000, 0.7176, 0.8824, 0.8471,\n",
       "           0.8745, 0.8941, 0.9216, 0.8902, 0.8784, 0.8706, 0.8784, 0.8667,\n",
       "           0.8745, 0.9608, 0.6784, 0.0000],\n",
       "          [0.0000, 0.0000, 0.0000, 0.0000, 0.0000, 0.0000, 0.0000, 0.0000,\n",
       "           0.0000, 0.0000, 0.0000, 0.0000, 0.0000, 0.7569, 0.8941, 0.8549,\n",
       "           0.8353, 0.7765, 0.7059, 0.8314, 0.8235, 0.8275, 0.8353, 0.8745,\n",
       "           0.8627, 0.9529, 0.7922, 0.0000],\n",
       "          [0.0000, 0.0000, 0.0000, 0.0000, 0.0000, 0.0000, 0.0000, 0.0000,\n",
       "           0.0000, 0.0039, 0.0118, 0.0000, 0.0471, 0.8588, 0.8627, 0.8314,\n",
       "           0.8549, 0.7529, 0.6627, 0.8902, 0.8157, 0.8549, 0.8784, 0.8314,\n",
       "           0.8863, 0.7725, 0.8196, 0.2039],\n",
       "          [0.0000, 0.0000, 0.0000, 0.0000, 0.0000, 0.0000, 0.0000, 0.0000,\n",
       "           0.0000, 0.0000, 0.0235, 0.0000, 0.3882, 0.9569, 0.8706, 0.8627,\n",
       "           0.8549, 0.7961, 0.7765, 0.8667, 0.8431, 0.8353, 0.8706, 0.8627,\n",
       "           0.9608, 0.4667, 0.6549, 0.2196],\n",
       "          [0.0000, 0.0000, 0.0000, 0.0000, 0.0000, 0.0000, 0.0000, 0.0000,\n",
       "           0.0000, 0.0157, 0.0000, 0.0000, 0.2157, 0.9255, 0.8941, 0.9020,\n",
       "           0.8941, 0.9412, 0.9098, 0.8353, 0.8549, 0.8745, 0.9176, 0.8510,\n",
       "           0.8510, 0.8196, 0.3608, 0.0000],\n",
       "          [0.0000, 0.0000, 0.0039, 0.0157, 0.0235, 0.0275, 0.0078, 0.0000,\n",
       "           0.0000, 0.0000, 0.0000, 0.0000, 0.9294, 0.8863, 0.8510, 0.8745,\n",
       "           0.8706, 0.8588, 0.8706, 0.8667, 0.8471, 0.8745, 0.8980, 0.8431,\n",
       "           0.8549, 1.0000, 0.3020, 0.0000],\n",
       "          [0.0000, 0.0118, 0.0000, 0.0000, 0.0000, 0.0000, 0.0000, 0.0000,\n",
       "           0.0000, 0.2431, 0.5686, 0.8000, 0.8941, 0.8118, 0.8353, 0.8667,\n",
       "           0.8549, 0.8157, 0.8275, 0.8549, 0.8784, 0.8745, 0.8588, 0.8431,\n",
       "           0.8784, 0.9569, 0.6235, 0.0000],\n",
       "          [0.0000, 0.0000, 0.0000, 0.0000, 0.0706, 0.1725, 0.3216, 0.4196,\n",
       "           0.7412, 0.8941, 0.8627, 0.8706, 0.8510, 0.8863, 0.7843, 0.8039,\n",
       "           0.8275, 0.9020, 0.8784, 0.9176, 0.6902, 0.7373, 0.9804, 0.9725,\n",
       "           0.9137, 0.9333, 0.8431, 0.0000],\n",
       "          [0.0000, 0.2235, 0.7333, 0.8157, 0.8784, 0.8667, 0.8784, 0.8157,\n",
       "           0.8000, 0.8392, 0.8157, 0.8196, 0.7843, 0.6235, 0.9608, 0.7569,\n",
       "           0.8078, 0.8745, 1.0000, 1.0000, 0.8667, 0.9176, 0.8667, 0.8275,\n",
       "           0.8627, 0.9098, 0.9647, 0.0000],\n",
       "          [0.0118, 0.7922, 0.8941, 0.8784, 0.8667, 0.8275, 0.8275, 0.8392,\n",
       "           0.8039, 0.8039, 0.8039, 0.8627, 0.9412, 0.3137, 0.5882, 1.0000,\n",
       "           0.8980, 0.8667, 0.7373, 0.6039, 0.7490, 0.8235, 0.8000, 0.8196,\n",
       "           0.8706, 0.8941, 0.8824, 0.0000],\n",
       "          [0.3843, 0.9137, 0.7765, 0.8235, 0.8706, 0.8980, 0.8980, 0.9176,\n",
       "           0.9765, 0.8627, 0.7608, 0.8431, 0.8510, 0.9451, 0.2549, 0.2863,\n",
       "           0.4157, 0.4588, 0.6588, 0.8588, 0.8667, 0.8431, 0.8510, 0.8745,\n",
       "           0.8745, 0.8784, 0.8980, 0.1137],\n",
       "          [0.2941, 0.8000, 0.8314, 0.8000, 0.7569, 0.8039, 0.8275, 0.8824,\n",
       "           0.8471, 0.7255, 0.7725, 0.8078, 0.7765, 0.8353, 0.9412, 0.7647,\n",
       "           0.8902, 0.9608, 0.9373, 0.8745, 0.8549, 0.8314, 0.8196, 0.8706,\n",
       "           0.8627, 0.8667, 0.9020, 0.2627],\n",
       "          [0.1882, 0.7961, 0.7176, 0.7608, 0.8353, 0.7725, 0.7255, 0.7451,\n",
       "           0.7608, 0.7529, 0.7922, 0.8392, 0.8588, 0.8667, 0.8627, 0.9255,\n",
       "           0.8824, 0.8471, 0.7804, 0.8078, 0.7294, 0.7098, 0.6941, 0.6745,\n",
       "           0.7098, 0.8039, 0.8078, 0.4510],\n",
       "          [0.0000, 0.4784, 0.8588, 0.7569, 0.7020, 0.6706, 0.7176, 0.7686,\n",
       "           0.8000, 0.8235, 0.8353, 0.8118, 0.8275, 0.8235, 0.7843, 0.7686,\n",
       "           0.7608, 0.7490, 0.7647, 0.7490, 0.7765, 0.7529, 0.6902, 0.6118,\n",
       "           0.6549, 0.6941, 0.8235, 0.3608],\n",
       "          [0.0000, 0.0000, 0.2902, 0.7412, 0.8314, 0.7490, 0.6863, 0.6745,\n",
       "           0.6863, 0.7098, 0.7255, 0.7373, 0.7412, 0.7373, 0.7569, 0.7765,\n",
       "           0.8000, 0.8196, 0.8235, 0.8235, 0.8275, 0.7373, 0.7373, 0.7608,\n",
       "           0.7529, 0.8471, 0.6667, 0.0000],\n",
       "          [0.0078, 0.0000, 0.0000, 0.0000, 0.2588, 0.7843, 0.8706, 0.9294,\n",
       "           0.9373, 0.9490, 0.9647, 0.9529, 0.9569, 0.8667, 0.8627, 0.7569,\n",
       "           0.7490, 0.7020, 0.7137, 0.7137, 0.7098, 0.6902, 0.6510, 0.6588,\n",
       "           0.3882, 0.2275, 0.0000, 0.0000],\n",
       "          [0.0000, 0.0000, 0.0000, 0.0000, 0.0000, 0.0000, 0.0000, 0.1569,\n",
       "           0.2392, 0.1725, 0.2824, 0.1608, 0.1373, 0.0000, 0.0000, 0.0000,\n",
       "           0.0000, 0.0000, 0.0000, 0.0000, 0.0000, 0.0000, 0.0000, 0.0000,\n",
       "           0.0000, 0.0000, 0.0000, 0.0000],\n",
       "          [0.0000, 0.0000, 0.0000, 0.0000, 0.0000, 0.0000, 0.0000, 0.0000,\n",
       "           0.0000, 0.0000, 0.0000, 0.0000, 0.0000, 0.0000, 0.0000, 0.0000,\n",
       "           0.0000, 0.0000, 0.0000, 0.0000, 0.0000, 0.0000, 0.0000, 0.0000,\n",
       "           0.0000, 0.0000, 0.0000, 0.0000],\n",
       "          [0.0000, 0.0000, 0.0000, 0.0000, 0.0000, 0.0000, 0.0000, 0.0000,\n",
       "           0.0000, 0.0000, 0.0000, 0.0000, 0.0000, 0.0000, 0.0000, 0.0000,\n",
       "           0.0000, 0.0000, 0.0000, 0.0000, 0.0000, 0.0000, 0.0000, 0.0000,\n",
       "           0.0000, 0.0000, 0.0000, 0.0000]]]),\n",
       " 9)"
      ]
     },
     "execution_count": 3,
     "metadata": {},
     "output_type": "execute_result"
    }
   ],
   "source": [
    "# See first training sample\n",
    "image, label = train_data[0]\n",
    "image, label"
   ]
  },
  {
   "cell_type": "code",
   "execution_count": 4,
   "id": "b5c6ae1f-32b6-4457-98fe-1f16fef920e2",
   "metadata": {},
   "outputs": [
    {
     "data": {
      "text/plain": [
       "torch.Size([1, 28, 28])"
      ]
     },
     "execution_count": 4,
     "metadata": {},
     "output_type": "execute_result"
    }
   ],
   "source": [
    "image.shape"
   ]
  },
  {
   "cell_type": "code",
   "execution_count": 5,
   "id": "7159738f-ff2a-4056-9c61-f9548416a2e3",
   "metadata": {},
   "outputs": [
    {
     "data": {
      "text/plain": [
       "(60000, 60000, 10000, 10000)"
      ]
     },
     "execution_count": 5,
     "metadata": {},
     "output_type": "execute_result"
    }
   ],
   "source": [
    "# How many samples are there? \n",
    "len(train_data.data), len(train_data.targets), len(test_data.data), len(test_data.targets)"
   ]
  },
  {
   "cell_type": "code",
   "execution_count": 6,
   "id": "4d58fb0a-063b-4724-8223-ff5154fa60a2",
   "metadata": {},
   "outputs": [
    {
     "data": {
      "text/plain": [
       "['T-shirt/top',\n",
       " 'Trouser',\n",
       " 'Pullover',\n",
       " 'Dress',\n",
       " 'Coat',\n",
       " 'Sandal',\n",
       " 'Shirt',\n",
       " 'Sneaker',\n",
       " 'Bag',\n",
       " 'Ankle boot']"
      ]
     },
     "execution_count": 6,
     "metadata": {},
     "output_type": "execute_result"
    }
   ],
   "source": [
    "#class names\n",
    "# See classes\n",
    "class_names = train_data.classes\n",
    "class_names"
   ]
  },
  {
   "cell_type": "code",
   "execution_count": 7,
   "id": "a9f9b414-ce48-49f8-be25-0201fba364f8",
   "metadata": {},
   "outputs": [
    {
     "data": {
      "text/plain": [
       "{'T-shirt/top': 0,\n",
       " 'Trouser': 1,\n",
       " 'Pullover': 2,\n",
       " 'Dress': 3,\n",
       " 'Coat': 4,\n",
       " 'Sandal': 5,\n",
       " 'Shirt': 6,\n",
       " 'Sneaker': 7,\n",
       " 'Bag': 8,\n",
       " 'Ankle boot': 9}"
      ]
     },
     "execution_count": 7,
     "metadata": {},
     "output_type": "execute_result"
    }
   ],
   "source": [
    "#clasess to idx \n",
    "classes_to_idx = train_data.class_to_idx\n",
    "classes_to_idx"
   ]
  },
  {
   "cell_type": "markdown",
   "id": "92d454b0-1be6-45ff-9ba0-5d78b996bdb9",
   "metadata": {},
   "source": [
    "### 1.2 Visualization of data"
   ]
  },
  {
   "cell_type": "code",
   "execution_count": 8,
   "id": "5924231d-fceb-445e-858b-1a0b9e5e1ece",
   "metadata": {},
   "outputs": [
    {
     "data": {
      "text/plain": [
       "<matplotlib.image.AxesImage at 0x1ce5a2d20d0>"
      ]
     },
     "execution_count": 8,
     "metadata": {},
     "output_type": "execute_result"
    },
    {
     "data": {
      "image/png": "[encoded data removed]",
      "text/plain": [
       "<Figure size 500x500 with 1 Axes>"
      ]
     },
     "metadata": {},
     "output_type": "display_data"
    }
   ],
   "source": [
    "image, label = train_data[1]\n",
    "plt.figure(figsize=(5,5))\n",
    "plt.title(class_names[label])\n",
    "plt.imshow(image.squeeze(),cmap='gray')"
   ]
  },
  {
   "cell_type": "code",
   "execution_count": 9,
   "id": "c7c79151-1ee9-4b04-8079-da390f406b01",
   "metadata": {},
   "outputs": [
    {
     "data": {
      "image/png": "[encoded data removed]",
      "text/plain": [
       "<Figure size 900x900 with 16 Axes>"
      ]
     },
     "metadata": {},
     "output_type": "display_data"
    }
   ],
   "source": [
    "#plot more random images from the dataset\n",
    "torch.manual_seed(42)\n",
    "\n",
    "fig = plt.figure(figsize=(9,9))\n",
    "rows, cols = 4,4 #16 images, labels\n",
    "\n",
    "for i in range(1,rows*cols+1):\n",
    "    random_idx = torch.randint(0,len(train_data), size=[1]).item()\n",
    "    img, label = train_data[random_idx]\n",
    "    fig.add_subplot(rows, cols, i)\n",
    "    plt.imshow(img.squeeze(), cmap='gray')\n",
    "    plt.title(class_names[label])\n",
    "    plt.axis(False)"
   ]
  },
  {
   "cell_type": "markdown",
   "id": "99ba57ee-c161-4a63-bb23-117230bfb3a4",
   "metadata": {},
   "source": [
    "## 2. Preparing DataLoader"
   ]
  },
  {
   "cell_type": "code",
   "execution_count": 10,
   "id": "85a73781-9649-4b2d-a1b8-f93cfe921e6f",
   "metadata": {},
   "outputs": [],
   "source": [
    "from torch.utils.data import DataLoader"
   ]
  },
  {
   "cell_type": "code",
   "execution_count": 11,
   "id": "1c08a351-c9fe-4f54-b52e-6f3e6aff2fe9",
   "metadata": {},
   "outputs": [
    {
     "data": {
      "text/plain": [
       "(<torch.utils.data.dataloader.DataLoader at 0x1ce5a3ed520>,\n",
       " <torch.utils.data.dataloader.DataLoader at 0x1ce5a7b7f70>)"
      ]
     },
     "execution_count": 11,
     "metadata": {},
     "output_type": "execute_result"
    }
   ],
   "source": [
    "#Setup Batch size hyperparameters\n",
    "BATCH_SIZE = 32 \n",
    "\n",
    "#Dataloader - Turn dataset into iterable (batches)\n",
    "train_dataloader = DataLoader(dataset=train_data, \n",
    "                             batch_size=BATCH_SIZE, \n",
    "                             shuffle=True)\n",
    "\n",
    "test_dataloader = DataLoader(dataset=test_data, \n",
    "                            batch_size=BATCH_SIZE,\n",
    "                            shuffle=False)\n",
    "\n",
    "train_dataloader, test_dataloader"
   ]
  },
  {
   "cell_type": "code",
   "execution_count": 12,
   "id": "f43a54d6-f499-49ed-9e6e-fcec3dc31503",
   "metadata": {},
   "outputs": [
    {
     "name": "stdout",
     "output_type": "stream",
     "text": [
      "Dataloader: (<torch.utils.data.dataloader.DataLoader object at 0x000001CE5A3ED520>, <torch.utils.data.dataloader.DataLoader object at 0x000001CE5A7B7F70>)\n",
      "Batch Size: 32\n",
      "Length of Train Dataloader: 1875\n",
      "Length of Test Dataloader: 313\n",
      "1875.0\n"
     ]
    }
   ],
   "source": [
    "#Let's check out what's we've created\n",
    "print(f'Dataloader: {train_dataloader, test_dataloader}')\n",
    "print('Batch Size: 32')\n",
    "print(f'Length of Train Dataloader: {len(train_dataloader)}')\n",
    "print(f'Length of Test Dataloader: {len(test_dataloader)}')\n",
    "print(f'{len(train_data)/32}')"
   ]
  },
  {
   "cell_type": "code",
   "execution_count": 13,
   "id": "0eb6ea36-4568-4f8b-a667-29a0f57dcda2",
   "metadata": {},
   "outputs": [
    {
     "data": {
      "text/plain": [
       "(torch.Size([32, 1, 28, 28]), torch.Size([32]))"
      ]
     },
     "execution_count": 13,
     "metadata": {},
     "output_type": "execute_result"
    }
   ],
   "source": [
    "#check out what's inside the train dataloader\n",
    "train_features_batch, train_labels_batch = next(iter(train_dataloader)) \n",
    "train_features_batch.shape, train_labels_batch.shape"
   ]
  },
  {
   "cell_type": "code",
   "execution_count": 14,
   "id": "e782bcdf-9688-4dd2-ad5b-cf4faff0c7fd",
   "metadata": {},
   "outputs": [
    {
     "data": {
      "image/png": "[encoded data removed]",
      "text/plain": [
       "<Figure size 640x480 with 1 Axes>"
      ]
     },
     "metadata": {},
     "output_type": "display_data"
    }
   ],
   "source": [
    "#Show a sample (random)\n",
    "random_idx = torch.randint(1,len(train_features_batch),size=[1]).item()\n",
    "img, label = train_features_batch[random_idx], train_labels_batch[random_idx]\n",
    "plt.imshow(img.squeeze(),cmap='gray')\n",
    "plt.title(class_names[label])\n",
    "plt.show()"
   ]
  },
  {
   "cell_type": "markdown",
   "id": "0486f219-d403-4ac3-92a2-183e8a068e73",
   "metadata": {},
   "source": [
    "## 3. Model 0: Build a Basline Model\n",
    "\n",
    "When starting to build a series of machine learning modelling experiments, it's best pratice to start with a baseline model.\n",
    "\n",
    "A Baseline model is a simple model you will try and improve upon with subsequent models/experiments. \n",
    "\n",
    "In other words: start simply and add complexity when neccessary!"
   ]
  },
  {
   "cell_type": "code",
   "execution_count": 15,
   "id": "b1662101-cf98-4383-8d2c-40801f97b8e0",
   "metadata": {},
   "outputs": [
    {
     "name": "stdout",
     "output_type": "stream",
     "text": [
      "Orginal Shape: torch.Size([1, 28, 28]) -> [color_channel, height, width]\n",
      "Flattened X shape: torch.Size([1, 784]) -> [color_channel, height*width]\n"
     ]
    }
   ],
   "source": [
    "#creating a Flatten layer \n",
    "flatten_model = nn.Flatten()\n",
    "\n",
    "#get a single sample \n",
    "x = train_features_batch[0]\n",
    "\n",
    "print(f'Orginal Shape: {x.shape} -> [color_channel, height, width]')\n",
    "\n",
    "#Flatten the sample \n",
    "output = flatten_model(x)\n",
    "\n",
    "#print what's happening \n",
    "print(f'Flattened X shape: {output.shape} -> [color_channel, height*width]') #flattened output"
   ]
  },
  {
   "cell_type": "code",
   "execution_count": 16,
   "id": "21e6cdac-7482-4a8c-909e-955cd354b985",
   "metadata": {},
   "outputs": [
    {
     "data": {
      "text/plain": [
       "784"
      ]
     },
     "execution_count": 16,
     "metadata": {},
     "output_type": "execute_result"
    }
   ],
   "source": [
    "28*28 "
   ]
  },
  {
   "cell_type": "markdown",
   "id": "c4683ee2-777d-4dc5-9218-e26e9bc13d00",
   "metadata": {},
   "source": [
    "One value per pixel!"
   ]
  },
  {
   "cell_type": "code",
   "execution_count": 17,
   "id": "3f1aacee-13fe-45a9-8f64-1f4fdbbd0bde",
   "metadata": {},
   "outputs": [],
   "source": [
    "from torch import nn \n",
    "\n",
    "class FashionMNISTModelV0(nn.Module):\n",
    "    def __init__(self, input_shape: int, hidden_units: int, output_shape: int):\n",
    "        super().__init__()\n",
    "        self.layer_stack = nn.Sequential(\n",
    "            nn.Flatten(),\n",
    "            nn.Linear(in_features=input_shape, out_features=hidden_units),\n",
    "            nn.Linear(in_features=hidden_units, out_features=output_shape)\n",
    "        ) \n",
    "    def forward(self,x: torch.Tensor) -> torch.Tensor:\n",
    "        return self.layer_stack(x)"
   ]
  },
  {
   "cell_type": "code",
   "execution_count": 18,
   "id": "7a0df96c-7229-4b1e-aa75-60e829193fe0",
   "metadata": {},
   "outputs": [],
   "source": [
    "#does our model need non-linearity to learn!\n",
    "#let's find out!\n",
    "\n",
    "torch.manual_seed(42)\n",
    "\n",
    "#setup model with input parameters\n",
    "model_0 = FashionMNISTModelV0(input_shape=784, #28*28 (flattened)\n",
    "                              hidden_units=524,\n",
    "                             output_shape=len(class_names) #class labels\n",
    "                             ).to('cpu')"
   ]
  },
  {
   "cell_type": "code",
   "execution_count": 19,
   "id": "d5e63f38-35a4-43ad-82c6-ab181a05c7ea",
   "metadata": {},
   "outputs": [
    {
     "data": {
      "text/plain": [
       "torch.Size([1, 1, 28, 28])"
      ]
     },
     "execution_count": 19,
     "metadata": {},
     "output_type": "execute_result"
    }
   ],
   "source": [
    "#pass a dummy x \n",
    "dummy_x = torch.rand([1,1,28,28]) #[batch_size (1), color_channels(1) - gray, height, weight]\n",
    "\n",
    "dummy_x.shape"
   ]
  },
  {
   "cell_type": "code",
   "execution_count": 20,
   "id": "55f99fa1-dbc0-4fc3-bae2-1afef0337804",
   "metadata": {},
   "outputs": [
    {
     "data": {
      "text/plain": [
       "<matplotlib.image.AxesImage at 0x1ce5aa4bcd0>"
      ]
     },
     "execution_count": 20,
     "metadata": {},
     "output_type": "execute_result"
    },
    {
     "data": {
      "image/png": "[encoded data removed]",
      "text/plain": [
       "<Figure size 640x480 with 1 Axes>"
      ]
     },
     "metadata": {},
     "output_type": "display_data"
    }
   ],
   "source": [
    "#plot this dummy x (random)\n",
    "plt.imshow(dummy_x.squeeze())"
   ]
  },
  {
   "cell_type": "code",
   "execution_count": 21,
   "id": "0dac53c4-c755-4ff3-ba5e-de679dd7bc3f",
   "metadata": {},
   "outputs": [
    {
     "data": {
      "text/plain": [
       "tensor([[ 0.1566, -0.0282,  0.0274, -0.2790,  0.4473,  0.1897, -0.0755, -0.0300,\n",
       "         -0.0104,  0.0050]], grad_fn=<AddmmBackward0>)"
      ]
     },
     "execution_count": 21,
     "metadata": {},
     "output_type": "execute_result"
    }
   ],
   "source": [
    "model_0(dummy_x)"
   ]
  },
  {
   "cell_type": "code",
   "execution_count": 22,
   "id": "14c7ce7b-9e96-4d3c-9baf-069f6de803e4",
   "metadata": {},
   "outputs": [
    {
     "data": {
      "text/plain": [
       "OrderedDict([('layer_stack.1.weight',\n",
       "              tensor([[ 0.0273,  0.0296, -0.0084,  ..., -0.0142,  0.0093,  0.0135],\n",
       "                      [-0.0188, -0.0354,  0.0187,  ..., -0.0106, -0.0001,  0.0115],\n",
       "                      [-0.0008,  0.0017,  0.0045,  ..., -0.0127, -0.0188,  0.0059],\n",
       "                      ...,\n",
       "                      [-0.0041,  0.0226, -0.0340,  ...,  0.0312, -0.0041,  0.0036],\n",
       "                      [-0.0144, -0.0357, -0.0258,  ...,  0.0058, -0.0035,  0.0034],\n",
       "                      [ 0.0311, -0.0223, -0.0316,  ...,  0.0181, -0.0326,  0.0032]])),\n",
       "             ('layer_stack.1.bias',\n",
       "              tensor([-0.0141,  0.0156,  0.0253,  0.0164,  0.0193, -0.0355, -0.0276,  0.0266,\n",
       "                      -0.0250, -0.0264,  0.0052, -0.0179,  0.0296,  0.0309, -0.0246,  0.0017,\n",
       "                      -0.0017, -0.0159,  0.0062,  0.0316,  0.0211,  0.0215,  0.0133, -0.0229,\n",
       "                      -0.0190,  0.0186, -0.0297,  0.0193,  0.0146, -0.0201,  0.0235, -0.0294,\n",
       "                      -0.0247, -0.0267,  0.0049,  0.0141,  0.0341,  0.0112, -0.0039,  0.0342,\n",
       "                       0.0226, -0.0181,  0.0010, -0.0276, -0.0155,  0.0076,  0.0165,  0.0210,\n",
       "                       0.0316, -0.0193,  0.0195,  0.0252, -0.0251,  0.0295,  0.0114, -0.0239,\n",
       "                      -0.0096, -0.0319,  0.0169,  0.0092,  0.0087,  0.0232,  0.0343, -0.0023,\n",
       "                      -0.0057, -0.0267,  0.0292,  0.0144,  0.0092,  0.0157, -0.0231, -0.0087,\n",
       "                      -0.0198, -0.0224, -0.0026, -0.0082,  0.0298, -0.0119, -0.0314,  0.0031,\n",
       "                       0.0288, -0.0087, -0.0220, -0.0203,  0.0029,  0.0230, -0.0292,  0.0252,\n",
       "                      -0.0297,  0.0249, -0.0299, -0.0132,  0.0322,  0.0352, -0.0018, -0.0321,\n",
       "                      -0.0342,  0.0233, -0.0159,  0.0184,  0.0055, -0.0298,  0.0170,  0.0013,\n",
       "                      -0.0071,  0.0340, -0.0125,  0.0064, -0.0160, -0.0211, -0.0006,  0.0274,\n",
       "                      -0.0098, -0.0160, -0.0013,  0.0258, -0.0318, -0.0270,  0.0024,  0.0246,\n",
       "                       0.0117, -0.0108,  0.0028,  0.0087, -0.0035,  0.0024,  0.0299,  0.0234,\n",
       "                       0.0234, -0.0322,  0.0167, -0.0285,  0.0275,  0.0242, -0.0165, -0.0285,\n",
       "                       0.0108,  0.0246, -0.0324,  0.0123,  0.0008, -0.0128, -0.0200, -0.0173,\n",
       "                       0.0274, -0.0155,  0.0356,  0.0229,  0.0344,  0.0207, -0.0280, -0.0328,\n",
       "                      -0.0035,  0.0207, -0.0034,  0.0230,  0.0027, -0.0223, -0.0230,  0.0257,\n",
       "                      -0.0106, -0.0208, -0.0159,  0.0301,  0.0161,  0.0294,  0.0089,  0.0099,\n",
       "                       0.0253, -0.0214,  0.0096,  0.0027, -0.0307,  0.0018,  0.0116,  0.0277,\n",
       "                      -0.0271,  0.0158, -0.0284,  0.0249,  0.0292, -0.0138,  0.0101,  0.0235,\n",
       "                      -0.0076, -0.0117, -0.0348, -0.0192,  0.0068, -0.0317,  0.0215, -0.0142,\n",
       "                      -0.0248,  0.0266, -0.0180, -0.0193,  0.0264,  0.0354,  0.0277, -0.0134,\n",
       "                       0.0161,  0.0339, -0.0144, -0.0232, -0.0097,  0.0042, -0.0134,  0.0021,\n",
       "                      -0.0320,  0.0135,  0.0030,  0.0313,  0.0128, -0.0196,  0.0331,  0.0027,\n",
       "                      -0.0062,  0.0063,  0.0229,  0.0098, -0.0234, -0.0167,  0.0173, -0.0305,\n",
       "                      -0.0206,  0.0280, -0.0225, -0.0196, -0.0343, -0.0039,  0.0067,  0.0255,\n",
       "                       0.0151, -0.0337,  0.0195, -0.0043,  0.0032, -0.0287,  0.0337,  0.0153,\n",
       "                       0.0078, -0.0088,  0.0202, -0.0230,  0.0205,  0.0255,  0.0287, -0.0200,\n",
       "                       0.0341,  0.0295, -0.0201,  0.0158, -0.0271, -0.0248, -0.0130, -0.0194,\n",
       "                       0.0335, -0.0183,  0.0157, -0.0275,  0.0003,  0.0155,  0.0330,  0.0288,\n",
       "                      -0.0155,  0.0083,  0.0105, -0.0027, -0.0055,  0.0026, -0.0315,  0.0057,\n",
       "                      -0.0102, -0.0172,  0.0065, -0.0269,  0.0287,  0.0290, -0.0059,  0.0161,\n",
       "                       0.0040, -0.0016,  0.0031,  0.0234, -0.0324, -0.0189,  0.0332, -0.0354,\n",
       "                       0.0089,  0.0130,  0.0325, -0.0072,  0.0329, -0.0066, -0.0153, -0.0064,\n",
       "                      -0.0346, -0.0095, -0.0284, -0.0218, -0.0346, -0.0320,  0.0328, -0.0354,\n",
       "                      -0.0118,  0.0177,  0.0029, -0.0317,  0.0214, -0.0318, -0.0106, -0.0100,\n",
       "                      -0.0150,  0.0275,  0.0205,  0.0198,  0.0130, -0.0247,  0.0238,  0.0118,\n",
       "                       0.0189, -0.0027, -0.0100, -0.0023, -0.0032, -0.0079,  0.0322,  0.0128,\n",
       "                       0.0150,  0.0334, -0.0315, -0.0152, -0.0290, -0.0201,  0.0068, -0.0145,\n",
       "                      -0.0127, -0.0129, -0.0258, -0.0021, -0.0252,  0.0043,  0.0107,  0.0019,\n",
       "                       0.0027, -0.0119,  0.0155, -0.0263, -0.0151,  0.0339, -0.0028,  0.0102,\n",
       "                      -0.0180,  0.0276, -0.0047,  0.0282, -0.0150, -0.0217,  0.0107, -0.0001,\n",
       "                      -0.0336, -0.0130, -0.0228,  0.0073, -0.0156, -0.0336,  0.0296, -0.0104,\n",
       "                      -0.0231, -0.0070,  0.0161,  0.0096, -0.0332, -0.0133,  0.0088,  0.0012,\n",
       "                       0.0314,  0.0173,  0.0026, -0.0323, -0.0262,  0.0150,  0.0022,  0.0136,\n",
       "                      -0.0242,  0.0061, -0.0339,  0.0351,  0.0179, -0.0345, -0.0289,  0.0023,\n",
       "                      -0.0312, -0.0260,  0.0024, -0.0029, -0.0189,  0.0012, -0.0091,  0.0076,\n",
       "                      -0.0195,  0.0034, -0.0002,  0.0073,  0.0030,  0.0337,  0.0099,  0.0134,\n",
       "                      -0.0166,  0.0186, -0.0013,  0.0059,  0.0306, -0.0193,  0.0323,  0.0272,\n",
       "                      -0.0348, -0.0295, -0.0011, -0.0316, -0.0229,  0.0182, -0.0070, -0.0202,\n",
       "                       0.0187, -0.0055,  0.0121, -0.0013,  0.0173, -0.0168, -0.0315,  0.0323,\n",
       "                       0.0064,  0.0340,  0.0087,  0.0302, -0.0227, -0.0095,  0.0276,  0.0237,\n",
       "                       0.0221, -0.0327,  0.0032, -0.0047, -0.0044,  0.0192,  0.0110,  0.0221,\n",
       "                       0.0272, -0.0230,  0.0117,  0.0143,  0.0176, -0.0168, -0.0347,  0.0280,\n",
       "                       0.0343, -0.0084,  0.0152, -0.0090,  0.0270,  0.0122,  0.0087, -0.0230,\n",
       "                      -0.0320, -0.0138,  0.0088, -0.0176, -0.0338, -0.0152, -0.0118,  0.0111,\n",
       "                       0.0053, -0.0201, -0.0166,  0.0279,  0.0071,  0.0258,  0.0303,  0.0098,\n",
       "                      -0.0320,  0.0259,  0.0231,  0.0357, -0.0151, -0.0141,  0.0345, -0.0167,\n",
       "                       0.0044, -0.0158,  0.0217,  0.0044, -0.0305, -0.0022, -0.0253, -0.0112,\n",
       "                      -0.0082,  0.0285, -0.0085,  0.0325, -0.0224,  0.0108,  0.0033, -0.0033,\n",
       "                      -0.0035,  0.0327,  0.0126, -0.0047,  0.0027, -0.0311, -0.0200, -0.0263,\n",
       "                       0.0350,  0.0110,  0.0230, -0.0185, -0.0191, -0.0065, -0.0262,  0.0042,\n",
       "                       0.0237,  0.0337,  0.0136,  0.0292])),\n",
       "             ('layer_stack.2.weight',\n",
       "              tensor([[-0.0171, -0.0052,  0.0034,  ..., -0.0248, -0.0126, -0.0070],\n",
       "                      [ 0.0327, -0.0295,  0.0185,  ...,  0.0361, -0.0213, -0.0303],\n",
       "                      [ 0.0212,  0.0010,  0.0206,  ...,  0.0122, -0.0301, -0.0171],\n",
       "                      ...,\n",
       "                      [-0.0252, -0.0143,  0.0182,  ..., -0.0232, -0.0076,  0.0150],\n",
       "                      [ 0.0391,  0.0118, -0.0051,  ..., -0.0303,  0.0372,  0.0311],\n",
       "                      [ 0.0011, -0.0433,  0.0163,  ..., -0.0225,  0.0143, -0.0413]])),\n",
       "             ('layer_stack.2.bias',\n",
       "              tensor([ 0.0307,  0.0300, -0.0031, -0.0308, -0.0280,  0.0056, -0.0225,  0.0166,\n",
       "                      -0.0186,  0.0355]))])"
      ]
     },
     "execution_count": 22,
     "metadata": {},
     "output_type": "execute_result"
    }
   ],
   "source": [
    "model_0.state_dict()"
   ]
  },
  {
   "cell_type": "markdown",
   "id": "812c884f-a34f-4cda-9cc2-9d24d944b444",
   "metadata": {},
   "source": [
    "### 3.1 Setup Loss, Optimizer and Evaluation metrics\n",
    "\n",
    "* **Loss function** - since we're working with multi-class data, our loss function will be `nn.CrossEntropyLoss()` \n",
    "* **Optimizer** - SGD or Adam.\n",
    "* **Evaluation Metric** - since we are working with classification, let's use Accuracy as our evaluation metric. "
   ]
  },
  {
   "cell_type": "code",
   "execution_count": 23,
   "id": "42b2158a-28a2-4ac0-b10d-3db3f09fac99",
   "metadata": {},
   "outputs": [
    {
     "name": "stdout",
     "output_type": "stream",
     "text": [
      "Downloading helper_function.py\n"
     ]
    }
   ],
   "source": [
    "import requests \n",
    "from pathlib import Path\n",
    "\n",
    "#Download helper functions from repo\n",
    "url = 'https://raw.githubusercontent.com/mrdbourke/pytorch-deep-learning/main/helper_functions.py'\n",
    "\n",
    "if Path('helper_functions.py').is_file(): \n",
    "    print('helper_function.py Already exists!, Skipping Download...')\n",
    "else: \n",
    "    print('Downloading helper_function.py')\n",
    "    request = requests.get(url)\n",
    "    with open('helper_function.py','wb') as f: \n",
    "        f.write(request.content)"
   ]
  },
  {
   "cell_type": "code",
   "execution_count": 24,
   "id": "660792b1-c5b0-4263-84b0-b4006aeabe79",
   "metadata": {},
   "outputs": [],
   "source": [
    "#import accuracy metric \n",
    "from helper_function import accuracy_fn\n",
    "\n",
    "#setup loss function\n",
    "loss_fn = nn.CrossEntropyLoss() \n",
    "\n",
    "#setup optimizer \n",
    "optimizer = torch.optim.SGD(params=model_0.parameters(), \n",
    "                            lr=0.1)"
   ]
  },
  {
   "cell_type": "markdown",
   "id": "84dd9169-925a-4367-b2d4-001ee8087066",
   "metadata": {},
   "source": [
    "### 3.2 Creating a function to time our experiments \n",
    "\n",
    "Machine Learning is very experimental. \n",
    "\n",
    "Two of the main things you'll often want to track are: \n",
    "\n",
    "1. Model's Performance (loss and Accuracy values). (Effective-ness)\n",
    "2. How fast it runs. (Efficency)"
   ]
  },
  {
   "cell_type": "code",
   "execution_count": 25,
   "id": "7471e5a3-46ab-4d00-92a5-9cc1336af15f",
   "metadata": {},
   "outputs": [],
   "source": [
    "from timeit import default_timer as timer \n",
    "\n",
    "def print_train_time(start: float, end: float, device: torch.device = None):\n",
    "    '''\n",
    "    Prints Difference between start and end time.\n",
    "    '''\n",
    "    total_time = end - start \n",
    "    print(f'Train time on {device}: {total_time:.3f} seconds')\n",
    "    return total_time"
   ]
  },
  {
   "cell_type": "code",
   "execution_count": 26,
   "id": "44f19227-39a9-48ac-ba15-758b0c8a4cb2",
   "metadata": {},
   "outputs": [
    {
     "name": "stdout",
     "output_type": "stream",
     "text": [
      "Train time on cpu: 0.000 seconds\n"
     ]
    },
    {
     "data": {
      "text/plain": [
       "3.4299999999376496e-05"
      ]
     },
     "execution_count": 26,
     "metadata": {},
     "output_type": "execute_result"
    }
   ],
   "source": [
    "#sample test \n",
    "start_time = timer() \n",
    "##\n",
    "## Some code here!\n",
    "##\n",
    "end_time = timer() \n",
    "print_train_time(start=start_time, end=end_time, device='cpu')"
   ]
  },
  {
   "cell_type": "markdown",
   "id": "55802922-a6f3-492e-a863-b40e09c02cbf",
   "metadata": {},
   "source": [
    "### 3.3 Creating a Training Loop and training a Model on batches of data.\n",
    "\n",
    "1. Loop through epochs.\n",
    "2. Loop through training batches, perform training steps, calculate the train loss **per batch**.\n",
    "3. Loop through testing batches, perform testing steps, calculate the test loss **per batch**.\n",
    "4. Print out what's happening.\n",
    "5. Time it all."
   ]
  },
  {
   "cell_type": "code",
   "execution_count": 27,
   "id": "9e4f668e-97c7-4f49-adcc-c2048355d383",
   "metadata": {},
   "outputs": [],
   "source": [
    "#import tqdm for progress bar"
   ]
  },
  {
   "cell_type": "code",
   "execution_count": 28,
   "id": "337fb42a-50b5-47f5-9b9e-8d295cd03c8f",
   "metadata": {},
   "outputs": [
    {
     "name": "stderr",
     "output_type": "stream",
     "text": [
      "  0%|                                                                                            | 0/3 [00:00<?, ?it/s]"
     ]
    },
    {
     "name": "stdout",
     "output_type": "stream",
     "text": [
      "Epoch: 0\n",
      "------\n",
      "Looked at 0/60000 samples.\n",
      "Looked at 12800/60000 samples.\n",
      "Looked at 25600/60000 samples.\n",
      "Looked at 38400/60000 samples.\n",
      "Looked at 51200/60000 samples.\n"
     ]
    },
    {
     "name": "stderr",
     "output_type": "stream",
     "text": [
      " 33%|████████████████████████████                                                        | 1/3 [00:14<00:29, 14.68s/it]"
     ]
    },
    {
     "name": "stdout",
     "output_type": "stream",
     "text": [
      "\n",
      "Train Loss: 0.5696 | Test Loss: 0.5005 - Test Acc: 82.5379\n",
      "Epoch: 1\n",
      "------\n",
      "Looked at 0/60000 samples.\n",
      "Looked at 12800/60000 samples.\n",
      "Looked at 25600/60000 samples.\n",
      "Looked at 38400/60000 samples.\n",
      "Looked at 51200/60000 samples.\n"
     ]
    },
    {
     "name": "stderr",
     "output_type": "stream",
     "text": [
      " 67%|████████████████████████████████████████████████████████                            | 2/3 [00:29<00:14, 14.74s/it]"
     ]
    },
    {
     "name": "stdout",
     "output_type": "stream",
     "text": [
      "\n",
      "Train Loss: 0.4738 | Test Loss: 0.4848 - Test Acc: 82.9073\n",
      "Epoch: 2\n",
      "------\n",
      "Looked at 0/60000 samples.\n",
      "Looked at 12800/60000 samples.\n",
      "Looked at 25600/60000 samples.\n",
      "Looked at 38400/60000 samples.\n",
      "Looked at 51200/60000 samples.\n"
     ]
    },
    {
     "name": "stderr",
     "output_type": "stream",
     "text": [
      "100%|████████████████████████████████████████████████████████████████████████████████████| 3/3 [00:46<00:00, 15.64s/it]"
     ]
    },
    {
     "name": "stdout",
     "output_type": "stream",
     "text": [
      "\n",
      "Train Loss: 0.4539 | Test Loss: 0.4770 - Test Acc: 83.4565\n",
      "Train time on cpu: 46.913 seconds\n"
     ]
    },
    {
     "name": "stderr",
     "output_type": "stream",
     "text": [
      "\n"
     ]
    }
   ],
   "source": [
    "#import tqdm for progress bar \n",
    "from tqdm import tqdm \n",
    "\n",
    "#set the seed and start tim\n",
    "torch.manual_seed(42)\n",
    "train_time_start_on_cpu = timer()\n",
    "\n",
    "#set the number of Epochs \n",
    "EPOCHS = 3 \n",
    "\n",
    "#Create training and test loop \n",
    "for epoch in tqdm(range(EPOCHS)):\n",
    "    print(f'Epoch: {epoch}\\n------')\n",
    "    #Training \n",
    "    train_loss = 0\n",
    "    #Add a loop to loop through the training batches\n",
    "    for batch, (X,y) in enumerate(train_dataloader):\n",
    "        #training mode\n",
    "        model_0.train()\n",
    "        #1. forward pass \n",
    "        y_pred = model_0(X)\n",
    "\n",
    "        #2. Calculate the loss (per Batch) \n",
    "        loss = loss_fn(y_pred, y)\n",
    "        train_loss += loss # accumulate the train loss\n",
    "\n",
    "        #3. optimizer zero grad \n",
    "        optimizer.zero_grad()\n",
    "\n",
    "        #4. Loss backwards \n",
    "        loss.backward()\n",
    "\n",
    "        #5. optimizer step \n",
    "        optimizer.step()\n",
    "\n",
    "        #printing out what's happening\n",
    "        if batch % 400 == 0: \n",
    "            print(f'Looked at {batch * len(X)}/{len(train_dataloader.dataset)} samples.')\n",
    "\n",
    "    #Divide total train loss by length of train dataloader \n",
    "    train_loss /= len(train_dataloader)\n",
    "\n",
    "    ### Testing\n",
    "    test_loss, test_acc = 0,0 \n",
    "    model_0.eval()\n",
    "    with torch.inference_mode():\n",
    "        for X_test, y_test in test_dataloader:\n",
    "            #1. forward pass \n",
    "            test_pred = model_0(X_test)\n",
    "\n",
    "            #2. calculate the loss (accumulatively)\n",
    "            test_loss += loss_fn(test_pred, y_test )\n",
    "\n",
    "            #3 accuracy \n",
    "            test_acc += accuracy_fn(y_true=y_test, y_pred=test_pred.argmax(dim=1)) \n",
    "     \n",
    "        ## Calculate the Test loss Average per batch\n",
    "        test_loss /= len(test_dataloader)\n",
    "    \n",
    "        ## calculate the test accuracy average per batch\n",
    "        test_acc /= len(test_dataloader)\n",
    "\n",
    "    #printing what's happening!\n",
    "    print(f'\\nTrain Loss: {train_loss:.4f} | Test Loss: {test_loss:.4f} - Test Acc: {test_acc:.4f}')\n",
    "\n",
    "#calculate training time\n",
    "train_time_end_on_cpu = timer()\n",
    "total_train_time_model_0 = print_train_time(start=train_time_start_on_cpu, \n",
    "                                            end=train_time_end_on_cpu, \n",
    "                                            device=str(next(model_0.parameters()).device))"
   ]
  },
  {
   "cell_type": "code",
   "execution_count": 29,
   "id": "63f1de31-6cf4-4823-b0e7-82189c13b399",
   "metadata": {},
   "outputs": [
    {
     "data": {
      "text/plain": [
       "'cpu'"
      ]
     },
     "execution_count": 29,
     "metadata": {},
     "output_type": "execute_result"
    }
   ],
   "source": [
    "str(next(model_0.parameters()).device)"
   ]
  },
  {
   "cell_type": "markdown",
   "id": "2c6a56c5-6ade-4a45-9485-a2f778afe4d1",
   "metadata": {},
   "source": [
    "## 4. Make Predictions and get Model 0 results"
   ]
  },
  {
   "cell_type": "code",
   "execution_count": 30,
   "id": "6e2ca47d-f46e-4d85-b513-840d3d1c99f5",
   "metadata": {},
   "outputs": [],
   "source": [
    "#random seed\n",
    "torch.manual_seed(42) \n",
    "\n",
    "def eval_model(model: torch.nn.Module,\n",
    "              data_loader: torch.utils.data.DataLoader, loss_fn: torch.nn.Module, accuracy_fn, device):\n",
    "    \"\"\"Returns a dictionary containing the results of model predicting on data_loader. \"\"\"\n",
    "    \n",
    "    loss, acc = 0, 0\n",
    "    model.eval() \n",
    "    with torch.inference_mode():\n",
    "        for X,y in tqdm(data_loader):\n",
    "            # put the data on device \n",
    "            X, y = X.to(device), y.to(device)\n",
    "            # Make Predictions\n",
    "            y_pred = model(X)\n",
    "\n",
    "            #Accumulate the loss and acc values per batch\n",
    "            loss += loss_fn(y_pred, y)\n",
    "            acc += accuracy_fn(y, y_pred.argmax(dim=1))\n",
    "        \n",
    "        # Scale loss and acc to find the average loss/acc per batch. \n",
    "        loss /= len(data_loader)\n",
    "        acc /= len(data_loader)\n",
    "\n",
    "    return {'model_name': model.__class__.__name__, #only works when our model was created with a Class\n",
    "           'model_loss': loss.item(), \n",
    "           'model_acc':acc}"
   ]
  },
  {
   "cell_type": "code",
   "execution_count": 65,
   "id": "d03d5817-6bdf-4ef3-bbab-70f6b1bfea6a",
   "metadata": {},
   "outputs": [
    {
     "name": "stderr",
     "output_type": "stream",
     "text": [
      "100%|███████████████████████████████████████████████████████████████████████████████| 313/313 [00:02<00:00, 156.43it/s]\n"
     ]
    },
    {
     "data": {
      "text/plain": [
       "{'model_name': 'FashionMNISTModelV0',\n",
       " 'model_loss': 0.4770429730415344,\n",
       " 'model_acc': 83.4564696485623}"
      ]
     },
     "execution_count": 65,
     "metadata": {},
     "output_type": "execute_result"
    }
   ],
   "source": [
    "#Calculate model_0 results on test dataset\n",
    "model_0_results = eval_model(model=model_0, \n",
    "                             data_loader=test_dataloader,\n",
    "                             loss_fn=loss_fn, \n",
    "                             accuracy_fn=accuracy_fn, device='cpu')\n",
    "model_0_results"
   ]
  },
  {
   "cell_type": "markdown",
   "id": "9e931fdd-4182-4507-a21b-d54d245f2df6",
   "metadata": {},
   "source": [
    "## 5. Setup Device Agnostic-code (for using a GPU if there is one!)"
   ]
  },
  {
   "cell_type": "code",
   "execution_count": 32,
   "id": "1df0fb4c-724e-4730-9dbf-176a87462ce0",
   "metadata": {},
   "outputs": [
    {
     "name": "stdout",
     "output_type": "stream",
     "text": [
      "Sun Dec 10 09:33:11 2023       \n",
      "+-----------------------------------------------------------------------------+\n",
      "| NVIDIA-SMI 512.15       Driver Version: 512.15       CUDA Version: 11.6     |\n",
      "|-------------------------------+----------------------+----------------------+\n",
      "| GPU  Name            TCC/WDDM | Bus-Id        Disp.A | Volatile Uncorr. ECC |\n",
      "| Fan  Temp  Perf  Pwr:Usage/Cap|         Memory-Usage | GPU-Util  Compute M. |\n",
      "|                               |                      |               MIG M. |\n",
      "|===============================+======================+======================|\n",
      "|   0  NVIDIA GeForce ... WDDM  | 00000000:01:00.0 Off |                  N/A |\n",
      "| N/A   40C    P8     4W /  N/A |    126MiB /  6144MiB |      0%      Default |\n",
      "|                               |                      |                  N/A |\n",
      "+-------------------------------+----------------------+----------------------+\n",
      "                                                                               \n",
      "+-----------------------------------------------------------------------------+\n",
      "| Processes:                                                                  |\n",
      "|  GPU   GI   CI        PID   Type   Process name                  GPU Memory |\n",
      "|        ID   ID                                                   Usage      |\n",
      "|=============================================================================|\n",
      "|    0   N/A  N/A      1692    C+G                                   N/A      |\n",
      "|    0   N/A  N/A     17316    C+G   ...ser\\Application\\brave.exe    N/A      |\n",
      "+-----------------------------------------------------------------------------+\n"
     ]
    }
   ],
   "source": [
    "!nvidia-smi"
   ]
  },
  {
   "cell_type": "code",
   "execution_count": 33,
   "id": "23f8a3f1-3ef1-4480-b5c0-d0ba893bde89",
   "metadata": {},
   "outputs": [
    {
     "name": "stdout",
     "output_type": "stream",
     "text": [
      "Target Device: cuda\n"
     ]
    }
   ],
   "source": [
    "device = 'cuda' if torch.cuda.is_available() else 'cpu'\n",
    "\n",
    "print(f'Target Device: {device}')"
   ]
  },
  {
   "cell_type": "markdown",
   "id": "ae1fc322-34da-431a-93a8-4e4549d7ff22",
   "metadata": {},
   "source": [
    "### 6. Model-1: Building a better model with (Linearity & Non-Linearity) \n",
    "\n",
    "We learned about the power of Non-linearity"
   ]
  },
  {
   "cell_type": "code",
   "execution_count": 34,
   "id": "fb7a568d-2cfa-439c-9c5a-53bd2d08147d",
   "metadata": {},
   "outputs": [],
   "source": [
    "#Create a model with linear layers and non-linear layers\n",
    "from torch import nn \n",
    "class FashionMNISTModelV1(nn.Module):\n",
    "    def __init__(self, input_shape: int, hidden_units:int, output_shape: int):\n",
    "        super().__init__()\n",
    "        self.layers_stack = nn.Sequential(\n",
    "            nn.Flatten(), # flatten inputs into single vector.\n",
    "            nn.Linear(in_features=input_shape, out_features=hidden_units),\n",
    "            nn.ReLU(),\n",
    "            nn.Linear(in_features=hidden_units, out_features=hidden_units),\n",
    "            nn.ReLU(),\n",
    "            nn.Linear(in_features=hidden_units, out_features=output_shape)\n",
    "        )\n",
    "\n",
    "    def forward(self,x: torch.Tensor) -> torch.Tensor:\n",
    "        return self.layers_stack(x)"
   ]
  },
  {
   "cell_type": "code",
   "execution_count": 35,
   "id": "136401fd-35b6-41d7-8585-31968da25574",
   "metadata": {},
   "outputs": [
    {
     "data": {
      "text/plain": [
       "784"
      ]
     },
     "execution_count": 35,
     "metadata": {},
     "output_type": "execute_result"
    }
   ],
   "source": [
    "28*28"
   ]
  },
  {
   "cell_type": "code",
   "execution_count": 36,
   "id": "d94b9809-b805-43c5-b5d4-6f05c954337f",
   "metadata": {},
   "outputs": [
    {
     "data": {
      "text/plain": [
       "FashionMNISTModelV1(\n",
       "  (layers_stack): Sequential(\n",
       "    (0): Flatten(start_dim=1, end_dim=-1)\n",
       "    (1): Linear(in_features=784, out_features=524, bias=True)\n",
       "    (2): ReLU()\n",
       "    (3): Linear(in_features=524, out_features=524, bias=True)\n",
       "    (4): ReLU()\n",
       "    (5): Linear(in_features=524, out_features=10, bias=True)\n",
       "  )\n",
       ")"
      ]
     },
     "execution_count": 36,
     "metadata": {},
     "output_type": "execute_result"
    }
   ],
   "source": [
    "#create a instance of model\n",
    "model_1 = FashionMNISTModelV1(input_shape=784, hidden_units=524, output_shape=len(class_names))\n",
    "\n",
    "model_1.to(device)"
   ]
  },
  {
   "cell_type": "code",
   "execution_count": 37,
   "id": "bf01e9cc-1c62-4a4c-96d2-ddeeca4a1809",
   "metadata": {},
   "outputs": [
    {
     "data": {
      "text/plain": [
       "OrderedDict([('layers_stack.1.weight',\n",
       "              tensor([[-0.0084,  0.0328, -0.0078,  ...,  0.0135, -0.0188, -0.0354],\n",
       "                      [ 0.0187,  0.0085, -0.0182,  ...,  0.0115, -0.0008,  0.0017],\n",
       "                      [ 0.0045,  0.0133, -0.0108,  ...,  0.0059,  0.0100,  0.0273],\n",
       "                      ...,\n",
       "                      [-0.0340,  0.0078,  0.0110,  ...,  0.0036, -0.0144, -0.0357],\n",
       "                      [-0.0258, -0.0112,  0.0320,  ...,  0.0034,  0.0311, -0.0223],\n",
       "                      [-0.0316,  0.0255, -0.0300,  ...,  0.0032, -0.0141,  0.0156]],\n",
       "                     device='cuda:0')),\n",
       "             ('layers_stack.1.bias',\n",
       "              tensor([ 0.0253,  0.0164,  0.0193, -0.0355, -0.0276,  0.0266, -0.0250, -0.0264,\n",
       "                       0.0052, -0.0179,  0.0296,  0.0309, -0.0246,  0.0017, -0.0017, -0.0159,\n",
       "                       0.0062,  0.0316,  0.0211,  0.0215,  0.0133, -0.0229, -0.0190,  0.0186,\n",
       "                      -0.0297,  0.0193,  0.0146, -0.0201,  0.0235, -0.0294, -0.0247, -0.0267,\n",
       "                       0.0049,  0.0141,  0.0341,  0.0112, -0.0039,  0.0342,  0.0226, -0.0181,\n",
       "                       0.0010, -0.0276, -0.0155,  0.0076,  0.0165,  0.0210,  0.0316, -0.0193,\n",
       "                       0.0195,  0.0252, -0.0251,  0.0295,  0.0114, -0.0239, -0.0096, -0.0319,\n",
       "                       0.0169,  0.0092,  0.0087,  0.0232,  0.0343, -0.0023, -0.0057, -0.0267,\n",
       "                       0.0292,  0.0144,  0.0092,  0.0157, -0.0231, -0.0087, -0.0198, -0.0224,\n",
       "                      -0.0026, -0.0082,  0.0298, -0.0119, -0.0314,  0.0031,  0.0288, -0.0087,\n",
       "                      -0.0220, -0.0203,  0.0029,  0.0230, -0.0292,  0.0252, -0.0297,  0.0249,\n",
       "                      -0.0299, -0.0132,  0.0322,  0.0352, -0.0018, -0.0321, -0.0342,  0.0233,\n",
       "                      -0.0159,  0.0184,  0.0055, -0.0298,  0.0170,  0.0013, -0.0071,  0.0340,\n",
       "                      -0.0125,  0.0064, -0.0160, -0.0211, -0.0006,  0.0274, -0.0098, -0.0160,\n",
       "                      -0.0013,  0.0258, -0.0318, -0.0270,  0.0024,  0.0246,  0.0117, -0.0108,\n",
       "                       0.0028,  0.0087, -0.0035,  0.0024,  0.0299,  0.0234,  0.0234, -0.0322,\n",
       "                       0.0167, -0.0285,  0.0275,  0.0242, -0.0165, -0.0285,  0.0108,  0.0246,\n",
       "                      -0.0324,  0.0123,  0.0008, -0.0128, -0.0200, -0.0173,  0.0274, -0.0155,\n",
       "                       0.0356,  0.0229,  0.0344,  0.0207, -0.0280, -0.0328, -0.0035,  0.0207,\n",
       "                      -0.0034,  0.0230,  0.0027, -0.0223, -0.0230,  0.0257, -0.0106, -0.0208,\n",
       "                      -0.0159,  0.0301,  0.0161,  0.0294,  0.0089,  0.0099,  0.0253, -0.0214,\n",
       "                       0.0096,  0.0027, -0.0307,  0.0018,  0.0116,  0.0277, -0.0271,  0.0158,\n",
       "                      -0.0284,  0.0249,  0.0292, -0.0138,  0.0101,  0.0235, -0.0076, -0.0117,\n",
       "                      -0.0348, -0.0192,  0.0068, -0.0317,  0.0215, -0.0142, -0.0248,  0.0266,\n",
       "                      -0.0180, -0.0193,  0.0264,  0.0354,  0.0277, -0.0134,  0.0161,  0.0339,\n",
       "                      -0.0144, -0.0232, -0.0097,  0.0042, -0.0134,  0.0021, -0.0320,  0.0135,\n",
       "                       0.0030,  0.0313,  0.0128, -0.0196,  0.0331,  0.0027, -0.0062,  0.0063,\n",
       "                       0.0229,  0.0098, -0.0234, -0.0167,  0.0173, -0.0305, -0.0206,  0.0280,\n",
       "                      -0.0225, -0.0196, -0.0343, -0.0039,  0.0067,  0.0255,  0.0151, -0.0337,\n",
       "                       0.0195, -0.0043,  0.0032, -0.0287,  0.0337,  0.0153,  0.0078, -0.0088,\n",
       "                       0.0202, -0.0230,  0.0205,  0.0255,  0.0287, -0.0200,  0.0341,  0.0295,\n",
       "                      -0.0201,  0.0158, -0.0271, -0.0248, -0.0130, -0.0194,  0.0335, -0.0183,\n",
       "                       0.0157, -0.0275,  0.0003,  0.0155,  0.0330,  0.0288, -0.0155,  0.0083,\n",
       "                       0.0105, -0.0027, -0.0055,  0.0026, -0.0315,  0.0057, -0.0102, -0.0172,\n",
       "                       0.0065, -0.0269,  0.0287,  0.0290, -0.0059,  0.0161,  0.0040, -0.0016,\n",
       "                       0.0031,  0.0234, -0.0324, -0.0189,  0.0332, -0.0354,  0.0089,  0.0130,\n",
       "                       0.0325, -0.0072,  0.0329, -0.0066, -0.0153, -0.0064, -0.0346, -0.0095,\n",
       "                      -0.0284, -0.0218, -0.0346, -0.0320,  0.0328, -0.0354, -0.0118,  0.0177,\n",
       "                       0.0029, -0.0317,  0.0214, -0.0318, -0.0106, -0.0100, -0.0150,  0.0275,\n",
       "                       0.0205,  0.0198,  0.0130, -0.0247,  0.0238,  0.0118,  0.0189, -0.0027,\n",
       "                      -0.0100, -0.0023, -0.0032, -0.0079,  0.0322,  0.0128,  0.0150,  0.0334,\n",
       "                      -0.0315, -0.0152, -0.0290, -0.0201,  0.0068, -0.0145, -0.0127, -0.0129,\n",
       "                      -0.0258, -0.0021, -0.0252,  0.0043,  0.0107,  0.0019,  0.0027, -0.0119,\n",
       "                       0.0155, -0.0263, -0.0151,  0.0339, -0.0028,  0.0102, -0.0180,  0.0276,\n",
       "                      -0.0047,  0.0282, -0.0150, -0.0217,  0.0107, -0.0001, -0.0336, -0.0130,\n",
       "                      -0.0228,  0.0073, -0.0156, -0.0336,  0.0296, -0.0104, -0.0231, -0.0070,\n",
       "                       0.0161,  0.0096, -0.0332, -0.0133,  0.0088,  0.0012,  0.0314,  0.0173,\n",
       "                       0.0026, -0.0323, -0.0262,  0.0150,  0.0022,  0.0136, -0.0242,  0.0061,\n",
       "                      -0.0339,  0.0351,  0.0179, -0.0345, -0.0289,  0.0023, -0.0312, -0.0260,\n",
       "                       0.0024, -0.0029, -0.0189,  0.0012, -0.0091,  0.0076, -0.0195,  0.0034,\n",
       "                      -0.0002,  0.0073,  0.0030,  0.0337,  0.0099,  0.0134, -0.0166,  0.0186,\n",
       "                      -0.0013,  0.0059,  0.0306, -0.0193,  0.0323,  0.0272, -0.0348, -0.0295,\n",
       "                      -0.0011, -0.0316, -0.0229,  0.0182, -0.0070, -0.0202,  0.0187, -0.0055,\n",
       "                       0.0121, -0.0013,  0.0173, -0.0168, -0.0315,  0.0323,  0.0064,  0.0340,\n",
       "                       0.0087,  0.0302, -0.0227, -0.0095,  0.0276,  0.0237,  0.0221, -0.0327,\n",
       "                       0.0032, -0.0047, -0.0044,  0.0192,  0.0110,  0.0221,  0.0272, -0.0230,\n",
       "                       0.0117,  0.0143,  0.0176, -0.0168, -0.0347,  0.0280,  0.0343, -0.0084,\n",
       "                       0.0152, -0.0090,  0.0270,  0.0122,  0.0087, -0.0230, -0.0320, -0.0138,\n",
       "                       0.0088, -0.0176, -0.0338, -0.0152, -0.0118,  0.0111,  0.0053, -0.0201,\n",
       "                      -0.0166,  0.0279,  0.0071,  0.0258,  0.0303,  0.0098, -0.0320,  0.0259,\n",
       "                       0.0231,  0.0357, -0.0151, -0.0141,  0.0345, -0.0167,  0.0044, -0.0158,\n",
       "                       0.0217,  0.0044, -0.0305, -0.0022, -0.0253, -0.0112, -0.0082,  0.0285,\n",
       "                      -0.0085,  0.0325, -0.0224,  0.0108,  0.0033, -0.0033, -0.0035,  0.0327,\n",
       "                       0.0126, -0.0047,  0.0027, -0.0311, -0.0200, -0.0263,  0.0350,  0.0110,\n",
       "                       0.0230, -0.0185, -0.0191, -0.0065, -0.0262,  0.0042,  0.0237,  0.0337,\n",
       "                       0.0136,  0.0292, -0.0140, -0.0042], device='cuda:0')),\n",
       "             ('layers_stack.3.weight',\n",
       "              tensor([[ 0.0034,  0.0412,  0.0180,  ..., -0.0070,  0.0327, -0.0295],\n",
       "                      [ 0.0185,  0.0364, -0.0434,  ..., -0.0303,  0.0212,  0.0010],\n",
       "                      [ 0.0206,  0.0290,  0.0232,  ..., -0.0171, -0.0299,  0.0223],\n",
       "                      ...,\n",
       "                      [-0.0278,  0.0294, -0.0268,  ..., -0.0211,  0.0110,  0.0210],\n",
       "                      [-0.0348,  0.0246,  0.0131,  ..., -0.0091,  0.0135, -0.0194],\n",
       "                      [-0.0338,  0.0143, -0.0147,  ..., -0.0119,  0.0084,  0.0256]],\n",
       "                     device='cuda:0')),\n",
       "             ('layers_stack.3.bias',\n",
       "              tensor([-0.0258, -0.0346,  0.0402,  0.0002, -0.0387,  0.0299,  0.0229, -0.0289,\n",
       "                      -0.0115, -0.0088, -0.0081,  0.0376,  0.0309, -0.0268,  0.0341,  0.0378,\n",
       "                      -0.0124, -0.0409, -0.0149,  0.0024,  0.0178, -0.0229,  0.0244,  0.0273,\n",
       "                      -0.0251,  0.0401,  0.0425, -0.0018,  0.0012, -0.0318,  0.0345,  0.0085,\n",
       "                       0.0093, -0.0233,  0.0022, -0.0293, -0.0093, -0.0344, -0.0391, -0.0266,\n",
       "                      -0.0100,  0.0081, -0.0231, -0.0224,  0.0354, -0.0251,  0.0323,  0.0170,\n",
       "                       0.0004,  0.0035,  0.0084,  0.0181,  0.0267, -0.0218,  0.0110, -0.0100,\n",
       "                       0.0058,  0.0088, -0.0315, -0.0018,  0.0270, -0.0312, -0.0429,  0.0035,\n",
       "                      -0.0318,  0.0107, -0.0341,  0.0228,  0.0232,  0.0028, -0.0116,  0.0382,\n",
       "                      -0.0280, -0.0006, -0.0007,  0.0197, -0.0242,  0.0143, -0.0411, -0.0138,\n",
       "                      -0.0394, -0.0111,  0.0361,  0.0266, -0.0096,  0.0320, -0.0416, -0.0226,\n",
       "                       0.0377,  0.0295,  0.0397,  0.0426, -0.0127,  0.0049, -0.0076, -0.0114,\n",
       "                      -0.0042,  0.0009,  0.0414, -0.0088,  0.0349,  0.0365,  0.0419,  0.0094,\n",
       "                      -0.0171, -0.0403,  0.0052, -0.0165,  0.0353, -0.0038, -0.0093, -0.0430,\n",
       "                       0.0403,  0.0122, -0.0054,  0.0408,  0.0099,  0.0170,  0.0243, -0.0170,\n",
       "                      -0.0177,  0.0166,  0.0073,  0.0221,  0.0176, -0.0266, -0.0237,  0.0274,\n",
       "                       0.0228,  0.0184,  0.0279,  0.0367,  0.0099, -0.0166,  0.0051, -0.0426,\n",
       "                       0.0172, -0.0066, -0.0138,  0.0322,  0.0220,  0.0404, -0.0367, -0.0166,\n",
       "                       0.0280,  0.0002,  0.0116, -0.0211, -0.0210, -0.0065,  0.0240,  0.0073,\n",
       "                      -0.0412,  0.0165,  0.0185, -0.0430, -0.0216,  0.0151, -0.0291, -0.0041,\n",
       "                       0.0053,  0.0112, -0.0408,  0.0393, -0.0190, -0.0305, -0.0010, -0.0415,\n",
       "                       0.0273, -0.0164,  0.0305,  0.0328,  0.0036, -0.0190,  0.0367, -0.0109,\n",
       "                       0.0317,  0.0101,  0.0282, -0.0299,  0.0389, -0.0277, -0.0428,  0.0345,\n",
       "                      -0.0213,  0.0259,  0.0060,  0.0334,  0.0294, -0.0117, -0.0410,  0.0414,\n",
       "                      -0.0167, -0.0388,  0.0247, -0.0287, -0.0377,  0.0009, -0.0002, -0.0053,\n",
       "                       0.0213, -0.0080,  0.0433, -0.0427,  0.0190, -0.0371,  0.0012,  0.0137,\n",
       "                       0.0348, -0.0165,  0.0224, -0.0153,  0.0357, -0.0131, -0.0372, -0.0387,\n",
       "                       0.0283,  0.0206, -0.0423,  0.0272, -0.0333, -0.0397, -0.0223,  0.0072,\n",
       "                      -0.0073, -0.0192, -0.0129, -0.0151, -0.0358, -0.0385,  0.0215, -0.0344,\n",
       "                       0.0405, -0.0357, -0.0089, -0.0250, -0.0037, -0.0328, -0.0177, -0.0020,\n",
       "                       0.0033, -0.0155,  0.0370, -0.0208, -0.0267, -0.0365,  0.0425, -0.0287,\n",
       "                      -0.0028,  0.0115,  0.0405,  0.0281, -0.0134, -0.0418, -0.0122, -0.0286,\n",
       "                      -0.0210,  0.0094, -0.0330,  0.0415, -0.0137,  0.0283, -0.0339,  0.0306,\n",
       "                       0.0389,  0.0409,  0.0305, -0.0127,  0.0274, -0.0075,  0.0103, -0.0358,\n",
       "                      -0.0278,  0.0324,  0.0121, -0.0128,  0.0064, -0.0398, -0.0116,  0.0254,\n",
       "                      -0.0001,  0.0118,  0.0223, -0.0089,  0.0303, -0.0102, -0.0298,  0.0236,\n",
       "                       0.0400, -0.0022, -0.0032,  0.0148, -0.0240,  0.0237,  0.0270, -0.0289,\n",
       "                       0.0226, -0.0109, -0.0299,  0.0123, -0.0244, -0.0138,  0.0111, -0.0287,\n",
       "                       0.0058,  0.0038,  0.0150,  0.0086,  0.0267, -0.0334, -0.0090, -0.0265,\n",
       "                       0.0308,  0.0216, -0.0365,  0.0417,  0.0120, -0.0085, -0.0365, -0.0237,\n",
       "                       0.0117,  0.0075,  0.0208, -0.0052, -0.0032,  0.0430, -0.0169,  0.0317,\n",
       "                       0.0355, -0.0149, -0.0281,  0.0042, -0.0099,  0.0072, -0.0282,  0.0103,\n",
       "                       0.0295,  0.0147,  0.0229, -0.0199,  0.0331,  0.0343, -0.0052, -0.0032,\n",
       "                       0.0037, -0.0093,  0.0245, -0.0434,  0.0435, -0.0327, -0.0361, -0.0133,\n",
       "                      -0.0233,  0.0394, -0.0185, -0.0257, -0.0371,  0.0358, -0.0296,  0.0217,\n",
       "                      -0.0340, -0.0192,  0.0288,  0.0070,  0.0047,  0.0339, -0.0201,  0.0109,\n",
       "                       0.0148,  0.0200,  0.0320,  0.0390,  0.0413,  0.0020,  0.0251,  0.0357,\n",
       "                       0.0336, -0.0119, -0.0037, -0.0109,  0.0068, -0.0105,  0.0108, -0.0220,\n",
       "                       0.0342, -0.0183,  0.0221, -0.0014,  0.0033,  0.0184, -0.0113, -0.0313,\n",
       "                      -0.0108, -0.0273, -0.0181,  0.0309,  0.0329,  0.0330,  0.0236,  0.0300,\n",
       "                      -0.0366,  0.0147,  0.0269,  0.0252, -0.0219,  0.0215,  0.0237, -0.0373,\n",
       "                      -0.0167, -0.0233, -0.0313, -0.0079,  0.0138, -0.0141, -0.0186, -0.0194,\n",
       "                      -0.0036,  0.0266, -0.0327,  0.0322,  0.0277,  0.0262, -0.0008,  0.0355,\n",
       "                      -0.0079, -0.0349,  0.0332, -0.0038,  0.0169, -0.0133,  0.0338, -0.0067,\n",
       "                       0.0365,  0.0421,  0.0100, -0.0385, -0.0260, -0.0276,  0.0375,  0.0098,\n",
       "                       0.0260,  0.0383, -0.0196, -0.0343, -0.0069, -0.0187,  0.0168,  0.0190,\n",
       "                       0.0408,  0.0316,  0.0228, -0.0322,  0.0377,  0.0436,  0.0100,  0.0433,\n",
       "                      -0.0345, -0.0169, -0.0418, -0.0170, -0.0383, -0.0196, -0.0417, -0.0214,\n",
       "                      -0.0386,  0.0261,  0.0218,  0.0144, -0.0320,  0.0394, -0.0305,  0.0010,\n",
       "                       0.0171, -0.0364, -0.0108, -0.0033,  0.0110, -0.0411,  0.0142,  0.0098,\n",
       "                      -0.0016, -0.0151,  0.0185, -0.0016, -0.0296, -0.0376,  0.0088, -0.0151,\n",
       "                       0.0011, -0.0287, -0.0090, -0.0293, -0.0055,  0.0225,  0.0170, -0.0338,\n",
       "                       0.0372, -0.0008, -0.0021,  0.0387,  0.0046,  0.0241, -0.0156, -0.0079,\n",
       "                      -0.0305,  0.0136, -0.0035,  0.0323,  0.0009, -0.0173, -0.0285,  0.0110,\n",
       "                      -0.0221,  0.0188,  0.0282,  0.0285,  0.0050,  0.0150, -0.0334, -0.0126,\n",
       "                      -0.0267, -0.0004, -0.0148, -0.0223], device='cuda:0')),\n",
       "             ('layers_stack.5.weight',\n",
       "              tensor([[-0.0379, -0.0219,  0.0288,  ..., -0.0007,  0.0233,  0.0053],\n",
       "                      [ 0.0314, -0.0101, -0.0047,  ..., -0.0277, -0.0223, -0.0147],\n",
       "                      [-0.0055,  0.0118,  0.0025,  ...,  0.0257,  0.0409, -0.0286],\n",
       "                      ...,\n",
       "                      [ 0.0094, -0.0236,  0.0317,  ...,  0.0363, -0.0058, -0.0374],\n",
       "                      [ 0.0303, -0.0416,  0.0405,  ...,  0.0419,  0.0380,  0.0087],\n",
       "                      [ 0.0371, -0.0004,  0.0358,  ..., -0.0071, -0.0135,  0.0288]],\n",
       "                     device='cuda:0')),\n",
       "             ('layers_stack.5.bias',\n",
       "              tensor([-0.0387,  0.0066,  0.0150,  0.0357, -0.0087, -0.0310, -0.0376,  0.0361,\n",
       "                      -0.0102, -0.0153], device='cuda:0'))])"
      ]
     },
     "execution_count": 37,
     "metadata": {},
     "output_type": "execute_result"
    }
   ],
   "source": [
    "model_1.state_dict()"
   ]
  },
  {
   "cell_type": "markdown",
   "id": "846f2465-9f54-4f66-8849-695059d43d1b",
   "metadata": {},
   "source": [
    "Here, we couldn't find ReLu layer weights & Bias, because it's not learnable layer! "
   ]
  },
  {
   "cell_type": "code",
   "execution_count": 38,
   "id": "cabec16e-1acf-4e59-a883-9d07d0f98540",
   "metadata": {},
   "outputs": [
    {
     "data": {
      "text/plain": [
       "device(type='cuda', index=0)"
      ]
     },
     "execution_count": 38,
     "metadata": {},
     "output_type": "execute_result"
    }
   ],
   "source": [
    "#check on what device we are on? \n",
    "next(model_1.parameters()).device"
   ]
  },
  {
   "cell_type": "markdown",
   "id": "1149108e-171f-48b2-971d-9cf2aff74f28",
   "metadata": {},
   "source": [
    "So, now our model is going to train using GPU!"
   ]
  },
  {
   "cell_type": "code",
   "execution_count": 39,
   "id": "40269e81-d13e-4fd9-b809-05b5b0df3832",
   "metadata": {},
   "outputs": [],
   "source": [
    "#create random dummy x \n",
    "dummy_x = torch.rand([1,28,28]) #[batch_size, color_channel, height, weight]"
   ]
  },
  {
   "cell_type": "code",
   "execution_count": 40,
   "id": "0ea8f6e6-cecc-4689-843f-7601b73c2ebb",
   "metadata": {},
   "outputs": [
    {
     "data": {
      "text/plain": [
       "<matplotlib.image.AxesImage at 0x1ce007936a0>"
      ]
     },
     "execution_count": 40,
     "metadata": {},
     "output_type": "execute_result"
    },
    {
     "data": {
      "image/png": "[encoded data removed]",
      "text/plain": [
       "<Figure size 640x480 with 1 Axes>"
      ]
     },
     "metadata": {},
     "output_type": "display_data"
    }
   ],
   "source": [
    "#visualize dummy_x\n",
    "plt.imshow(dummy_x.squeeze(), cmap='gray')"
   ]
  },
  {
   "cell_type": "code",
   "execution_count": 41,
   "id": "e2281f18-716a-464a-8cf3-9418039bc5bc",
   "metadata": {},
   "outputs": [],
   "source": [
    "#random prediction on dummy_x\n",
    "model_1.eval()\n",
    "with torch.inference_mode():\n",
    "    pred = model_1(dummy_x.to(device)).squeeze()"
   ]
  },
  {
   "cell_type": "code",
   "execution_count": 42,
   "id": "56ed070e-0ca9-4e99-97ec-9d83b13ea4e9",
   "metadata": {},
   "outputs": [
    {
     "data": {
      "text/plain": [
       "tensor([-0.0859,  0.0575,  0.0546, -0.0168,  0.0835, -0.1079,  0.0813,  0.0162,\n",
       "         0.0380, -0.0575], device='cuda:0')"
      ]
     },
     "execution_count": 42,
     "metadata": {},
     "output_type": "execute_result"
    }
   ],
   "source": [
    "pred"
   ]
  },
  {
   "cell_type": "code",
   "execution_count": 43,
   "id": "240bdec6-2840-46d3-966c-3f12dc87cb7a",
   "metadata": {},
   "outputs": [
    {
     "data": {
      "text/plain": [
       "10"
      ]
     },
     "execution_count": 43,
     "metadata": {},
     "output_type": "execute_result"
    }
   ],
   "source": [
    "#raw logits of 10 classes\n",
    "len(pred)"
   ]
  },
  {
   "cell_type": "code",
   "execution_count": 44,
   "id": "0f7d8252-06db-4bbe-82e1-0a054a6c9da3",
   "metadata": {},
   "outputs": [
    {
     "name": "stdout",
     "output_type": "stream",
     "text": [
      "Predicted label: Coat\n"
     ]
    }
   ],
   "source": [
    "pred_label = pred.argmax()\n",
    "\n",
    "print(f'Predicted label: {class_names[pred_label]}')"
   ]
  },
  {
   "cell_type": "markdown",
   "id": "26d7e2f0-66dd-4fba-9e47-94afd288118a",
   "metadata": {},
   "source": [
    "### 6.1  Setup Loss function & Optimizer "
   ]
  },
  {
   "cell_type": "code",
   "execution_count": 45,
   "id": "a18a87b4-a680-4bd8-9885-b8c0182982ff",
   "metadata": {},
   "outputs": [],
   "source": [
    "loss_fn = nn.CrossEntropyLoss()\n",
    "\n",
    "optimizer = torch.optim.Adam(params=model_1.parameters(),\n",
    "                            lr=0.01)"
   ]
  },
  {
   "cell_type": "markdown",
   "id": "d48723e7-a798-4b48-aece-eef5de4d6905",
   "metadata": {},
   "source": [
    "### 6.2 Functionizing Training Loop & Test Loop  \n",
    "\n",
    "Let's create a function for: \n",
    "* Training loop - `train_step()`\n",
    "* Testing loop - `test_step()`"
   ]
  },
  {
   "cell_type": "code",
   "execution_count": 46,
   "id": "64c11fcc-b803-4fa9-aa81-adb6edf299c1",
   "metadata": {},
   "outputs": [],
   "source": [
    "def train_step(model: torch.nn.Module, data_loader: torch.utils.data.DataLoader, \n",
    "               loss_fn: torch.nn.Module, optimizer: torch.optim.Optimizer, \n",
    "               accuracy_fn, device: torch.device = device):\n",
    "    '''Performs Training loop'''\n",
    "    train_loss, train_acc = 0,0\n",
    "    \n",
    "    # putting model imto train mode\n",
    "    model.train()\n",
    "\n",
    "    #Add a loop to loop through the training batches\n",
    "    for batch, (X,y) in enumerate(data_loader):\n",
    "        # put data on target device\n",
    "        X, y = X.to(device), y.to(device)\n",
    "\n",
    "        #1.forward pass\n",
    "        y_pred = model(X)\n",
    "\n",
    "        #2.calculate the loss\n",
    "        loss = loss_fn(y_pred, y)\n",
    "        train_loss += loss #Accumulating train_loss\n",
    "\n",
    "        #accuracy \n",
    "        acc = accuracy_fn(y, \n",
    "                          y_pred.argmax(dim=1)) # go from logits --> prediction labels\n",
    "        train_acc += acc #accumulating train acc\n",
    "        \n",
    "        #3. optimizer zero grad\n",
    "        optimizer.zero_grad()\n",
    "\n",
    "        #4. loss backward \n",
    "        loss.backward()\n",
    "\n",
    "        #5. optimizer step \n",
    "        optimizer.step()\n",
    "\n",
    "    # Divide total loss and acc by length of train dataloader\n",
    "    train_loss /= len(data_loader)\n",
    "    train_acc /= len(data_loader)\n",
    "\n",
    "    #print out what's happening\n",
    "    print(f'Train Loss: {train_loss:.5f} | Train Acc: {train_acc:.3f}%')"
   ]
  },
  {
   "cell_type": "code",
   "execution_count": 47,
   "id": "f8b0c347-70e4-43d6-827d-1eb7f2518006",
   "metadata": {},
   "outputs": [],
   "source": [
    "def test_step(model: torch.nn.Module, data_loader: torch.utils.data.DataLoader,\n",
    "              loss_fn: torch.nn.Module, accuracy_fn,\n",
    "                device: torch.device = device):\n",
    "    '''Performs a Test loop on dataloader..'''\n",
    "    test_loss, test_acc = 0,0 \n",
    "    \n",
    "    #put the model in eval mode\n",
    "    model.eval()\n",
    "    \n",
    "    #turn on inference mode\n",
    "    with torch.inference_mode():\n",
    "        for X,y in data_loader:\n",
    "            #send the data to target device\n",
    "            X,y = X.to(device), y.to(device)\n",
    "\n",
    "            #forward pass \n",
    "            y_pred = model(X)\n",
    "\n",
    "            #calculate the loss \n",
    "            loss = loss_fn(y_pred, y)\n",
    "            test_loss += loss #accumulating loss\n",
    "\n",
    "            #accuracy \n",
    "            acc = accuracy_fn(y, y_pred.argmax(dim=1))\n",
    "            test_acc += acc\n",
    "\n",
    "        # Adjust metrics and print out \n",
    "        test_loss /= len(data_loader)\n",
    "        test_acc /= len(data_loader)\n",
    "    \n",
    "        #print out what's happening\n",
    "        print(f'Test Loss: {test_loss:.5f} | Test Acc: {test_acc:.3f}%')"
   ]
  },
  {
   "cell_type": "code",
   "execution_count": 48,
   "id": "44faad44-c726-44fc-8cf3-9d0590b6ff81",
   "metadata": {},
   "outputs": [],
   "source": [
    "## Hyperparameters ## \n",
    "RANDOM_SEED = 42 \n",
    "EPOCHS = 5"
   ]
  },
  {
   "cell_type": "code",
   "execution_count": 49,
   "id": "e654394d-1b60-4462-a71d-a18a1f83e8ea",
   "metadata": {},
   "outputs": [
    {
     "name": "stderr",
     "output_type": "stream",
     "text": [
      "  0%|                                                                                            | 0/5 [00:00<?, ?it/s]"
     ]
    },
    {
     "name": "stdout",
     "output_type": "stream",
     "text": [
      "Epoch: 0\n",
      "------\n",
      "Train Loss: 0.57563 | Train Acc: 79.700%\n"
     ]
    },
    {
     "name": "stderr",
     "output_type": "stream",
     "text": [
      " 20%|████████████████▊                                                                   | 1/5 [00:28<01:52, 28.00s/it]"
     ]
    },
    {
     "name": "stdout",
     "output_type": "stream",
     "text": [
      "Test Loss: 0.48120 | Test Acc: 82.328%\n",
      "Epoch: 1\n",
      "------\n",
      "Train Loss: 0.46676 | Train Acc: 83.792%\n"
     ]
    },
    {
     "name": "stderr",
     "output_type": "stream",
     "text": [
      " 40%|█████████████████████████████████▌                                                  | 2/5 [00:48<01:10, 23.65s/it]"
     ]
    },
    {
     "name": "stdout",
     "output_type": "stream",
     "text": [
      "Test Loss: 0.48783 | Test Acc: 82.069%\n",
      "Epoch: 2\n",
      "------\n",
      "Train Loss: 0.43485 | Train Acc: 84.768%\n"
     ]
    },
    {
     "name": "stderr",
     "output_type": "stream",
     "text": [
      " 60%|██████████████████████████████████████████████████▍                                 | 3/5 [01:12<00:47, 23.88s/it]"
     ]
    },
    {
     "name": "stdout",
     "output_type": "stream",
     "text": [
      "Test Loss: 0.44682 | Test Acc: 84.075%\n",
      "Epoch: 3\n",
      "------\n",
      "Train Loss: 0.41816 | Train Acc: 85.177%\n"
     ]
    },
    {
     "name": "stderr",
     "output_type": "stream",
     "text": [
      " 80%|███████████████████████████████████████████████████████████████████▏                | 4/5 [01:39<00:24, 24.92s/it]"
     ]
    },
    {
     "name": "stdout",
     "output_type": "stream",
     "text": [
      "Test Loss: 0.47096 | Test Acc: 83.716%\n",
      "Epoch: 4\n",
      "------\n",
      "Train Loss: 0.41182 | Train Acc: 85.390%\n"
     ]
    },
    {
     "name": "stderr",
     "output_type": "stream",
     "text": [
      "100%|████████████████████████████████████████████████████████████████████████████████████| 5/5 [02:02<00:00, 24.50s/it]"
     ]
    },
    {
     "name": "stdout",
     "output_type": "stream",
     "text": [
      "Test Loss: 0.43285 | Test Acc: 85.363%\n",
      "Train time on cuda: 122.529 seconds\n"
     ]
    },
    {
     "name": "stderr",
     "output_type": "stream",
     "text": [
      "\n"
     ]
    }
   ],
   "source": [
    "#Random seed\n",
    "torch.manual_seed(RANDOM_SEED)\n",
    "\n",
    "#start time\n",
    "train_time_start_on_gpu = timer()\n",
    "\n",
    "#Create a Optimization and evalaution loop using train_step() and test_step()\n",
    "for epoch in tqdm(range(EPOCHS)):\n",
    "    print(f'Epoch: {epoch}\\n------')\n",
    "\n",
    "    #training loop\n",
    "    train_step(model=model_1, data_loader=train_dataloader,\n",
    "              loss_fn=loss_fn, optimizer=optimizer, \n",
    "              accuracy_fn=accuracy_fn, device=device)\n",
    "    #test loop\n",
    "    test_step(model=model_1, data_loader=test_dataloader,\n",
    "             loss_fn=loss_fn, accuracy_fn=accuracy_fn, device=device)\n",
    "\n",
    "#end time\n",
    "train_time_end_on_gpu = timer()\n",
    "total_time_model_1 = print_train_time(start=train_time_start_on_gpu, end=train_time_end_on_gpu, device=device)"
   ]
  },
  {
   "cell_type": "markdown",
   "id": "fbbf368f-2b95-4278-a360-c3ac4f7273cc",
   "metadata": {},
   "source": [
    "> **Note**: Sometimes, depending on your data/hardware you might find that your model trains faster on CPU than GPU.\n",
    ">\n",
    "> Why is this ?\n",
    ">\n",
    "> 1. It could be that the overhead for copying data/model to and from the GPU outweighs the compute benefits offered by GPU.\n",
    "> 2. The hardware you're using has a better CPU in terms compute capability than the GPU.\n",
    ">\n",
    ">   more: https://horace.io/brrr_intro.html"
   ]
  },
  {
   "cell_type": "code",
   "execution_count": 50,
   "id": "13bcb90c-3309-4398-8095-4ec513356213",
   "metadata": {},
   "outputs": [
    {
     "name": "stderr",
     "output_type": "stream",
     "text": [
      "100%|███████████████████████████████████████████████████████████████████████████████| 313/313 [00:02<00:00, 128.68it/s]\n"
     ]
    },
    {
     "data": {
      "text/plain": [
       "{'model_name': 'FashionMNISTModelV1',\n",
       " 'model_loss': 0.43285030126571655,\n",
       " 'model_acc': 85.36341853035144}"
      ]
     },
     "execution_count": 50,
     "metadata": {},
     "output_type": "execute_result"
    }
   ],
   "source": [
    "#get model_1 results dictionary \n",
    "model_1_results = eval_model(model=model_1, data_loader=test_dataloader, \n",
    "                            loss_fn=loss_fn, accuracy_fn=accuracy_fn, device=device)\n",
    "\n",
    "model_1_results"
   ]
  },
  {
   "cell_type": "code",
   "execution_count": 51,
   "id": "85da68c3-4ae9-42df-a103-6a73ad77b6fd",
   "metadata": {},
   "outputs": [
    {
     "data": {
      "text/plain": [
       "{'model_name': 'FashionMNISTModelV0',\n",
       " 'model_loss': 0.4770429730415344,\n",
       " 'model_acc': 83.4564696485623}"
      ]
     },
     "execution_count": 51,
     "metadata": {},
     "output_type": "execute_result"
    }
   ],
   "source": [
    "model_0_results"
   ]
  },
  {
   "cell_type": "markdown",
   "id": "e8a2f2d9-3a1d-4bb8-83f5-61370122e320",
   "metadata": {},
   "source": [
    "## 7. Model-2: Building a Convolutional Neural Network (CNN)\n",
    "\n",
    "* CNN's are also known as ConvNets. \n",
    "\n",
    "* CNN's are known for their capabilities to find patterns in visual data.\n",
    "\n",
    "To find out what's happening inside a CNN, see this website: https://poloclub.github.io/cnn-explainer/"
   ]
  },
  {
   "cell_type": "code",
   "execution_count": 77,
   "id": "b7c729e3-f3d2-49ef-98cd-fae3540ef98c",
   "metadata": {},
   "outputs": [],
   "source": [
    "#Create a convolutional neural network \n",
    "class FashionMNISTModelV2(nn.Module):\n",
    "    '''\n",
    "    Model architecture that replicates the Tiny-VGG \n",
    "    model from CNN explainer website.  \n",
    "    '''\n",
    "    def __init__(self, input_shape: int, hidden_units: int, output_shape: int):\n",
    "        super().__init__()\n",
    "        # Conv Block -> block is comprised of multi-layers \n",
    "        # ex of block: [conv_layer, ReLu, MaxPool]\n",
    "        # overall architecture comprised of multi-blocks\n",
    "        # Architecture: input_layer + block1 + block2 + .. + block_n + output_layer\n",
    "        #Feature extractor 1\n",
    "        self.conv_block1 = nn.Sequential(\n",
    "            nn.Conv2d(in_channels=input_shape, \n",
    "                      out_channels=hidden_units, \n",
    "                      kernel_size=(3,3),\n",
    "                      stride=1, \n",
    "                      padding=1), #values we can set ourselves in our NN's are Hyperparameters\n",
    "            nn.ReLU(), \n",
    "            nn.Conv2d(in_channels=hidden_units, \n",
    "                      out_channels=hidden_units, \n",
    "                      kernel_size=(3,3), \n",
    "                      stride=1,\n",
    "                      padding=1),\n",
    "            nn.ReLU(), \n",
    "            nn.MaxPool2d(kernel_size=(2,2))\n",
    "        )\n",
    "        #Feature extractor 2\n",
    "        self.conv_block2 = nn.Sequential(\n",
    "            nn.Conv2d(in_channels=hidden_units, \n",
    "                     out_channels=hidden_units,\n",
    "                     kernel_size=(3,3),\n",
    "                     stride=1,\n",
    "                     padding=1), \n",
    "            nn.ReLU(), \n",
    "            nn.Conv2d(in_channels=hidden_units,\n",
    "                     out_channels=hidden_units, \n",
    "                     kernel_size=3, \n",
    "                     stride=1,\n",
    "                     padding=1),\n",
    "            nn.ReLU(),\n",
    "            nn.MaxPool2d(kernel_size=(2,2))\n",
    "        )\n",
    "        #classifier layer\n",
    "        self.classifier = nn.Sequential(\n",
    "            nn.Flatten(), \n",
    "            nn.Linear(in_features=hidden_units*7*7, #there is a trick to calculating this...\n",
    "                     out_features=output_shape)\n",
    "        )\n",
    "    def forward(self,x: torch.Tensor) -> torch.Tensor:\n",
    "        x = self.conv_block1(x)\n",
    "        #print(f'Output shape of conv_block_1: {x.shape}')\n",
    "        x = self.conv_block2(x)\n",
    "        #print(f'Output shape of conv_block_2: {x.shape}')\n",
    "        output = self.classifier(x)\n",
    "        #print(f'Output shape of Classifier: {output.shape}')\n",
    "        return output"
   ]
  },
  {
   "cell_type": "code",
   "execution_count": 53,
   "id": "b3dcac3e-870f-4546-bab7-a60904a8e6d4",
   "metadata": {},
   "outputs": [
    {
     "data": {
      "text/plain": [
       "torch.Size([1, 28, 28])"
      ]
     },
     "execution_count": 53,
     "metadata": {},
     "output_type": "execute_result"
    }
   ],
   "source": [
    "image.shape"
   ]
  },
  {
   "cell_type": "code",
   "execution_count": 78,
   "id": "ef5297b1-3844-497b-9add-0b594bf8439f",
   "metadata": {},
   "outputs": [
    {
     "data": {
      "text/plain": [
       "FashionMNISTModelV2(\n",
       "  (conv_block1): Sequential(\n",
       "    (0): Conv2d(1, 10, kernel_size=(3, 3), stride=(1, 1), padding=(1, 1))\n",
       "    (1): ReLU()\n",
       "    (2): Conv2d(10, 10, kernel_size=(3, 3), stride=(1, 1), padding=(1, 1))\n",
       "    (3): ReLU()\n",
       "    (4): MaxPool2d(kernel_size=(2, 2), stride=(2, 2), padding=0, dilation=1, ceil_mode=False)\n",
       "  )\n",
       "  (conv_block2): Sequential(\n",
       "    (0): Conv2d(10, 10, kernel_size=(3, 3), stride=(1, 1), padding=(1, 1))\n",
       "    (1): ReLU()\n",
       "    (2): Conv2d(10, 10, kernel_size=(3, 3), stride=(1, 1), padding=(1, 1))\n",
       "    (3): ReLU()\n",
       "    (4): MaxPool2d(kernel_size=(2, 2), stride=(2, 2), padding=0, dilation=1, ceil_mode=False)\n",
       "  )\n",
       "  (classifier): Sequential(\n",
       "    (0): Flatten(start_dim=1, end_dim=-1)\n",
       "    (1): Linear(in_features=490, out_features=10, bias=True)\n",
       "  )\n",
       ")"
      ]
     },
     "execution_count": 78,
     "metadata": {},
     "output_type": "execute_result"
    }
   ],
   "source": [
    "#random seed\n",
    "torch.manual_seed(RANDOM_SEED)\n",
    "\n",
    "#instantiating our model \n",
    "#input_shape is number of channels in the input image.\n",
    "model_2 = FashionMNISTModelV2(input_shape=1, \n",
    "                              hidden_units=10, \n",
    "                              output_shape=len(class_names)).to(device)\n",
    "model_2"
   ]
  },
  {
   "cell_type": "markdown",
   "id": "a4ee482a-a680-4c5e-91ae-dbacc2d2e272",
   "metadata": {},
   "source": [
    "## * Passing Sample Image through our TinyVGG model"
   ]
  },
  {
   "cell_type": "code",
   "execution_count": 55,
   "id": "b6a3bddc-ed4c-4878-becb-3ee31eeaecb7",
   "metadata": {},
   "outputs": [],
   "source": [
    "#pick random image and label from the data\n",
    "image, label = train_data[500]"
   ]
  },
  {
   "cell_type": "code",
   "execution_count": 56,
   "id": "a4a22414-0ef7-4dbb-b988-f1f7c56fd589",
   "metadata": {},
   "outputs": [
    {
     "data": {
      "image/png": "[encoded data removed]",
      "text/plain": [
       "<Figure size 640x480 with 1 Axes>"
      ]
     },
     "metadata": {},
     "output_type": "display_data"
    }
   ],
   "source": [
    "#visualize Image \n",
    "plt.imshow(image.squeeze(), cmap='gray')\n",
    "plt.axis(False)\n",
    "plt.show()"
   ]
  },
  {
   "cell_type": "code",
   "execution_count": 57,
   "id": "82d00a30-8ee7-451c-862a-a6422642eb02",
   "metadata": {},
   "outputs": [
    {
     "data": {
      "text/plain": [
       "torch.Size([1, 28, 28])"
      ]
     },
     "execution_count": 57,
     "metadata": {},
     "output_type": "execute_result"
    }
   ],
   "source": [
    "image.shape"
   ]
  },
  {
   "cell_type": "code",
   "execution_count": 58,
   "id": "97bc5b46-b889-4fa7-97d4-368e30641ef3",
   "metadata": {},
   "outputs": [
    {
     "data": {
      "text/plain": [
       "490"
      ]
     },
     "execution_count": 58,
     "metadata": {},
     "output_type": "execute_result"
    }
   ],
   "source": [
    "7*7*10"
   ]
  },
  {
   "cell_type": "markdown",
   "id": "a6a17e46-5646-4d42-94fe-16fbde845ecc",
   "metadata": {},
   "source": [
    "Output of conv_block_2: [10, 7, 7]\n",
    "\n",
    "This will be flattened: 10 * 7 * 7 => 490 \n",
    "\n",
    "10 --> Hidden units\n",
    "\n",
    "7 ---> height \n",
    "\n",
    "7 ---> weight\n",
    "\n",
    "This 490 should sent to output layer!"
   ]
  },
  {
   "cell_type": "code",
   "execution_count": 59,
   "id": "3771b94b-4f7a-480d-86aa-84318d7174a5",
   "metadata": {},
   "outputs": [
    {
     "ename": "RuntimeError",
     "evalue": "mat1 and mat2 shapes cannot be multiplied (10x49 and 490x10)",
     "output_type": "error",
     "traceback": [
      "\u001b[1;31m---------------------------------------------------------------------------\u001b[0m",
      "\u001b[1;31mRuntimeError\u001b[0m                              Traceback (most recent call last)",
      "Cell \u001b[1;32mIn[59], line 2\u001b[0m\n\u001b[0;32m      1\u001b[0m \u001b[38;5;66;03m#pass Image through our Tiny VGG model \u001b[39;00m\n\u001b[1;32m----> 2\u001b[0m random_pred \u001b[38;5;241m=\u001b[39m \u001b[43mmodel_2\u001b[49m\u001b[43m(\u001b[49m\u001b[43mimage\u001b[49m\u001b[38;5;241;43m.\u001b[39;49m\u001b[43mto\u001b[49m\u001b[43m(\u001b[49m\u001b[43mdevice\u001b[49m\u001b[43m)\u001b[49m\u001b[43m)\u001b[49m\n\u001b[0;32m      4\u001b[0m random_pred\n",
      "File \u001b[1;32mc:\\users\\karth\\appdata\\local\\programs\\python\\python39\\lib\\site-packages\\torch\\nn\\modules\\module.py:1518\u001b[0m, in \u001b[0;36mModule._wrapped_call_impl\u001b[1;34m(self, *args, **kwargs)\u001b[0m\n\u001b[0;32m   1516\u001b[0m     \u001b[38;5;28;01mreturn\u001b[39;00m \u001b[38;5;28mself\u001b[39m\u001b[38;5;241m.\u001b[39m_compiled_call_impl(\u001b[38;5;241m*\u001b[39margs, \u001b[38;5;241m*\u001b[39m\u001b[38;5;241m*\u001b[39mkwargs)  \u001b[38;5;66;03m# type: ignore[misc]\u001b[39;00m\n\u001b[0;32m   1517\u001b[0m \u001b[38;5;28;01melse\u001b[39;00m:\n\u001b[1;32m-> 1518\u001b[0m     \u001b[38;5;28;01mreturn\u001b[39;00m \u001b[38;5;28mself\u001b[39m\u001b[38;5;241m.\u001b[39m_call_impl(\u001b[38;5;241m*\u001b[39margs, \u001b[38;5;241m*\u001b[39m\u001b[38;5;241m*\u001b[39mkwargs)\n",
      "File \u001b[1;32mc:\\users\\karth\\appdata\\local\\programs\\python\\python39\\lib\\site-packages\\torch\\nn\\modules\\module.py:1527\u001b[0m, in \u001b[0;36mModule._call_impl\u001b[1;34m(self, *args, **kwargs)\u001b[0m\n\u001b[0;32m   1522\u001b[0m \u001b[38;5;66;03m# If we don't have any hooks, we want to skip the rest of the logic in\u001b[39;00m\n\u001b[0;32m   1523\u001b[0m \u001b[38;5;66;03m# this function, and just call forward.\u001b[39;00m\n\u001b[0;32m   1524\u001b[0m \u001b[38;5;28;01mif\u001b[39;00m \u001b[38;5;129;01mnot\u001b[39;00m (\u001b[38;5;28mself\u001b[39m\u001b[38;5;241m.\u001b[39m_backward_hooks \u001b[38;5;129;01mor\u001b[39;00m \u001b[38;5;28mself\u001b[39m\u001b[38;5;241m.\u001b[39m_backward_pre_hooks \u001b[38;5;129;01mor\u001b[39;00m \u001b[38;5;28mself\u001b[39m\u001b[38;5;241m.\u001b[39m_forward_hooks \u001b[38;5;129;01mor\u001b[39;00m \u001b[38;5;28mself\u001b[39m\u001b[38;5;241m.\u001b[39m_forward_pre_hooks\n\u001b[0;32m   1525\u001b[0m         \u001b[38;5;129;01mor\u001b[39;00m _global_backward_pre_hooks \u001b[38;5;129;01mor\u001b[39;00m _global_backward_hooks\n\u001b[0;32m   1526\u001b[0m         \u001b[38;5;129;01mor\u001b[39;00m _global_forward_hooks \u001b[38;5;129;01mor\u001b[39;00m _global_forward_pre_hooks):\n\u001b[1;32m-> 1527\u001b[0m     \u001b[38;5;28;01mreturn\u001b[39;00m forward_call(\u001b[38;5;241m*\u001b[39margs, \u001b[38;5;241m*\u001b[39m\u001b[38;5;241m*\u001b[39mkwargs)\n\u001b[0;32m   1529\u001b[0m \u001b[38;5;28;01mtry\u001b[39;00m:\n\u001b[0;32m   1530\u001b[0m     result \u001b[38;5;241m=\u001b[39m \u001b[38;5;28;01mNone\u001b[39;00m\n",
      "Cell \u001b[1;32mIn[52], line 56\u001b[0m, in \u001b[0;36mFashionMNISTModelV2.forward\u001b[1;34m(self, x)\u001b[0m\n\u001b[0;32m     54\u001b[0m x \u001b[38;5;241m=\u001b[39m \u001b[38;5;28mself\u001b[39m\u001b[38;5;241m.\u001b[39mconv_block2(x)\n\u001b[0;32m     55\u001b[0m \u001b[38;5;66;03m#print(f'Output shape of conv_block_2: {x.shape}')\u001b[39;00m\n\u001b[1;32m---> 56\u001b[0m output \u001b[38;5;241m=\u001b[39m \u001b[38;5;28;43mself\u001b[39;49m\u001b[38;5;241;43m.\u001b[39;49m\u001b[43mclassifier\u001b[49m\u001b[43m(\u001b[49m\u001b[43mx\u001b[49m\u001b[43m)\u001b[49m\n\u001b[0;32m     57\u001b[0m \u001b[38;5;66;03m#print(f'Output shape of Classifier: {output.shape}')\u001b[39;00m\n\u001b[0;32m     58\u001b[0m \u001b[38;5;28;01mreturn\u001b[39;00m output\n",
      "File \u001b[1;32mc:\\users\\karth\\appdata\\local\\programs\\python\\python39\\lib\\site-packages\\torch\\nn\\modules\\module.py:1518\u001b[0m, in \u001b[0;36mModule._wrapped_call_impl\u001b[1;34m(self, *args, **kwargs)\u001b[0m\n\u001b[0;32m   1516\u001b[0m     \u001b[38;5;28;01mreturn\u001b[39;00m \u001b[38;5;28mself\u001b[39m\u001b[38;5;241m.\u001b[39m_compiled_call_impl(\u001b[38;5;241m*\u001b[39margs, \u001b[38;5;241m*\u001b[39m\u001b[38;5;241m*\u001b[39mkwargs)  \u001b[38;5;66;03m# type: ignore[misc]\u001b[39;00m\n\u001b[0;32m   1517\u001b[0m \u001b[38;5;28;01melse\u001b[39;00m:\n\u001b[1;32m-> 1518\u001b[0m     \u001b[38;5;28;01mreturn\u001b[39;00m \u001b[38;5;28mself\u001b[39m\u001b[38;5;241m.\u001b[39m_call_impl(\u001b[38;5;241m*\u001b[39margs, \u001b[38;5;241m*\u001b[39m\u001b[38;5;241m*\u001b[39mkwargs)\n",
      "File \u001b[1;32mc:\\users\\karth\\appdata\\local\\programs\\python\\python39\\lib\\site-packages\\torch\\nn\\modules\\module.py:1527\u001b[0m, in \u001b[0;36mModule._call_impl\u001b[1;34m(self, *args, **kwargs)\u001b[0m\n\u001b[0;32m   1522\u001b[0m \u001b[38;5;66;03m# If we don't have any hooks, we want to skip the rest of the logic in\u001b[39;00m\n\u001b[0;32m   1523\u001b[0m \u001b[38;5;66;03m# this function, and just call forward.\u001b[39;00m\n\u001b[0;32m   1524\u001b[0m \u001b[38;5;28;01mif\u001b[39;00m \u001b[38;5;129;01mnot\u001b[39;00m (\u001b[38;5;28mself\u001b[39m\u001b[38;5;241m.\u001b[39m_backward_hooks \u001b[38;5;129;01mor\u001b[39;00m \u001b[38;5;28mself\u001b[39m\u001b[38;5;241m.\u001b[39m_backward_pre_hooks \u001b[38;5;129;01mor\u001b[39;00m \u001b[38;5;28mself\u001b[39m\u001b[38;5;241m.\u001b[39m_forward_hooks \u001b[38;5;129;01mor\u001b[39;00m \u001b[38;5;28mself\u001b[39m\u001b[38;5;241m.\u001b[39m_forward_pre_hooks\n\u001b[0;32m   1525\u001b[0m         \u001b[38;5;129;01mor\u001b[39;00m _global_backward_pre_hooks \u001b[38;5;129;01mor\u001b[39;00m _global_backward_hooks\n\u001b[0;32m   1526\u001b[0m         \u001b[38;5;129;01mor\u001b[39;00m _global_forward_hooks \u001b[38;5;129;01mor\u001b[39;00m _global_forward_pre_hooks):\n\u001b[1;32m-> 1527\u001b[0m     \u001b[38;5;28;01mreturn\u001b[39;00m forward_call(\u001b[38;5;241m*\u001b[39margs, \u001b[38;5;241m*\u001b[39m\u001b[38;5;241m*\u001b[39mkwargs)\n\u001b[0;32m   1529\u001b[0m \u001b[38;5;28;01mtry\u001b[39;00m:\n\u001b[0;32m   1530\u001b[0m     result \u001b[38;5;241m=\u001b[39m \u001b[38;5;28;01mNone\u001b[39;00m\n",
      "File \u001b[1;32mc:\\users\\karth\\appdata\\local\\programs\\python\\python39\\lib\\site-packages\\torch\\nn\\modules\\container.py:215\u001b[0m, in \u001b[0;36mSequential.forward\u001b[1;34m(self, input)\u001b[0m\n\u001b[0;32m    213\u001b[0m \u001b[38;5;28;01mdef\u001b[39;00m \u001b[38;5;21mforward\u001b[39m(\u001b[38;5;28mself\u001b[39m, \u001b[38;5;28minput\u001b[39m):\n\u001b[0;32m    214\u001b[0m     \u001b[38;5;28;01mfor\u001b[39;00m module \u001b[38;5;129;01min\u001b[39;00m \u001b[38;5;28mself\u001b[39m:\n\u001b[1;32m--> 215\u001b[0m         \u001b[38;5;28minput\u001b[39m \u001b[38;5;241m=\u001b[39m \u001b[43mmodule\u001b[49m\u001b[43m(\u001b[49m\u001b[38;5;28;43minput\u001b[39;49m\u001b[43m)\u001b[49m\n\u001b[0;32m    216\u001b[0m     \u001b[38;5;28;01mreturn\u001b[39;00m \u001b[38;5;28minput\u001b[39m\n",
      "File \u001b[1;32mc:\\users\\karth\\appdata\\local\\programs\\python\\python39\\lib\\site-packages\\torch\\nn\\modules\\module.py:1518\u001b[0m, in \u001b[0;36mModule._wrapped_call_impl\u001b[1;34m(self, *args, **kwargs)\u001b[0m\n\u001b[0;32m   1516\u001b[0m     \u001b[38;5;28;01mreturn\u001b[39;00m \u001b[38;5;28mself\u001b[39m\u001b[38;5;241m.\u001b[39m_compiled_call_impl(\u001b[38;5;241m*\u001b[39margs, \u001b[38;5;241m*\u001b[39m\u001b[38;5;241m*\u001b[39mkwargs)  \u001b[38;5;66;03m# type: ignore[misc]\u001b[39;00m\n\u001b[0;32m   1517\u001b[0m \u001b[38;5;28;01melse\u001b[39;00m:\n\u001b[1;32m-> 1518\u001b[0m     \u001b[38;5;28;01mreturn\u001b[39;00m \u001b[38;5;28mself\u001b[39m\u001b[38;5;241m.\u001b[39m_call_impl(\u001b[38;5;241m*\u001b[39margs, \u001b[38;5;241m*\u001b[39m\u001b[38;5;241m*\u001b[39mkwargs)\n",
      "File \u001b[1;32mc:\\users\\karth\\appdata\\local\\programs\\python\\python39\\lib\\site-packages\\torch\\nn\\modules\\module.py:1527\u001b[0m, in \u001b[0;36mModule._call_impl\u001b[1;34m(self, *args, **kwargs)\u001b[0m\n\u001b[0;32m   1522\u001b[0m \u001b[38;5;66;03m# If we don't have any hooks, we want to skip the rest of the logic in\u001b[39;00m\n\u001b[0;32m   1523\u001b[0m \u001b[38;5;66;03m# this function, and just call forward.\u001b[39;00m\n\u001b[0;32m   1524\u001b[0m \u001b[38;5;28;01mif\u001b[39;00m \u001b[38;5;129;01mnot\u001b[39;00m (\u001b[38;5;28mself\u001b[39m\u001b[38;5;241m.\u001b[39m_backward_hooks \u001b[38;5;129;01mor\u001b[39;00m \u001b[38;5;28mself\u001b[39m\u001b[38;5;241m.\u001b[39m_backward_pre_hooks \u001b[38;5;129;01mor\u001b[39;00m \u001b[38;5;28mself\u001b[39m\u001b[38;5;241m.\u001b[39m_forward_hooks \u001b[38;5;129;01mor\u001b[39;00m \u001b[38;5;28mself\u001b[39m\u001b[38;5;241m.\u001b[39m_forward_pre_hooks\n\u001b[0;32m   1525\u001b[0m         \u001b[38;5;129;01mor\u001b[39;00m _global_backward_pre_hooks \u001b[38;5;129;01mor\u001b[39;00m _global_backward_hooks\n\u001b[0;32m   1526\u001b[0m         \u001b[38;5;129;01mor\u001b[39;00m _global_forward_hooks \u001b[38;5;129;01mor\u001b[39;00m _global_forward_pre_hooks):\n\u001b[1;32m-> 1527\u001b[0m     \u001b[38;5;28;01mreturn\u001b[39;00m forward_call(\u001b[38;5;241m*\u001b[39margs, \u001b[38;5;241m*\u001b[39m\u001b[38;5;241m*\u001b[39mkwargs)\n\u001b[0;32m   1529\u001b[0m \u001b[38;5;28;01mtry\u001b[39;00m:\n\u001b[0;32m   1530\u001b[0m     result \u001b[38;5;241m=\u001b[39m \u001b[38;5;28;01mNone\u001b[39;00m\n",
      "File \u001b[1;32mc:\\users\\karth\\appdata\\local\\programs\\python\\python39\\lib\\site-packages\\torch\\nn\\modules\\linear.py:114\u001b[0m, in \u001b[0;36mLinear.forward\u001b[1;34m(self, input)\u001b[0m\n\u001b[0;32m    113\u001b[0m \u001b[38;5;28;01mdef\u001b[39;00m \u001b[38;5;21mforward\u001b[39m(\u001b[38;5;28mself\u001b[39m, \u001b[38;5;28minput\u001b[39m: Tensor) \u001b[38;5;241m-\u001b[39m\u001b[38;5;241m>\u001b[39m Tensor:\n\u001b[1;32m--> 114\u001b[0m     \u001b[38;5;28;01mreturn\u001b[39;00m \u001b[43mF\u001b[49m\u001b[38;5;241;43m.\u001b[39;49m\u001b[43mlinear\u001b[49m\u001b[43m(\u001b[49m\u001b[38;5;28;43minput\u001b[39;49m\u001b[43m,\u001b[49m\u001b[43m \u001b[49m\u001b[38;5;28;43mself\u001b[39;49m\u001b[38;5;241;43m.\u001b[39;49m\u001b[43mweight\u001b[49m\u001b[43m,\u001b[49m\u001b[43m \u001b[49m\u001b[38;5;28;43mself\u001b[39;49m\u001b[38;5;241;43m.\u001b[39;49m\u001b[43mbias\u001b[49m\u001b[43m)\u001b[49m\n",
      "\u001b[1;31mRuntimeError\u001b[0m: mat1 and mat2 shapes cannot be multiplied (10x49 and 490x10)"
     ]
    }
   ],
   "source": [
    "#pass Image through our Tiny VGG model \n",
    "random_pred = model_2(image.to(device))\n",
    "\n",
    "random_pred"
   ]
  },
  {
   "cell_type": "code",
   "execution_count": null,
   "id": "55049a91-ed58-4253-8fd5-566769dea230",
   "metadata": {},
   "outputs": [],
   "source": [
    "#prediction \n",
    "pred = torch.argmax(random_pred)\n",
    "\n",
    "print(f'Ground Truth: {class_names[label]}')\n",
    "print(f'Random Prediction: {class_names[pred]}')"
   ]
  },
  {
   "cell_type": "markdown",
   "id": "b210e398-f97a-4c3d-a77f-7338cd519a4e",
   "metadata": {},
   "source": [
    "### 7.1 Stepping through nn.Conv2d()\n",
    "\n",
    "See the documentation: https://pytorch.org/docs/stable/generated/torch.nn.Conv2d.html"
   ]
  },
  {
   "cell_type": "code",
   "execution_count": null,
   "id": "21566ead-2be3-4e82-8793-56e4ddf7c270",
   "metadata": {},
   "outputs": [],
   "source": [
    "torch.manual_seed(RANDOM_SEED)\n",
    "\n",
    "#create a batch of Images \n",
    "images = torch.rand(size=(32, 3, 64, 64)) # [N, C_in, H, W] -> (Batch, Color_channels, Height, Weight)\n",
    "test_image = images[0]\n",
    "\n",
    "print(f'Image batch shape: {images.shape}')\n",
    "print(f'Single image shape: {test_image.shape}')\n",
    "print(f'Test Image: \\n {test_image}')"
   ]
  },
  {
   "cell_type": "code",
   "execution_count": null,
   "id": "ed86e64f-93f2-40ff-a77a-58c74972315d",
   "metadata": {},
   "outputs": [],
   "source": [
    "test_image.shape"
   ]
  },
  {
   "cell_type": "code",
   "execution_count": null,
   "id": "ea2eddbb-46f4-43eb-a088-868270172588",
   "metadata": {},
   "outputs": [],
   "source": [
    "torch.manual_seed(RANDOM_SEED)\n",
    "#Create a single Conv2d layer \n",
    "conv_layer = nn.Conv2d(in_channels=3, \n",
    "                      out_channels=10, \n",
    "                      kernel_size=(3,3),\n",
    "                      stride=1,\n",
    "                      padding=1)\n",
    "\n",
    "#pass the data through the convolutional layer \n",
    "conv_output = conv_layer(test_image)\n",
    "\n",
    "conv_output.shape"
   ]
  },
  {
   "cell_type": "markdown",
   "id": "6fd63079-62a1-41f2-b7b7-943e94f27173",
   "metadata": {},
   "source": [
    " ### 7.2 Stepping through nn.MaxPool2d()"
   ]
  },
  {
   "cell_type": "code",
   "execution_count": null,
   "id": "533a4e81-27c9-4fea-ada7-f5e000df0b2b",
   "metadata": {},
   "outputs": [],
   "source": [
    "test_image.shape"
   ]
  },
  {
   "cell_type": "code",
   "execution_count": null,
   "id": "13ec98c2-f2fa-4caa-b3d9-edf5cab1473f",
   "metadata": {},
   "outputs": [],
   "source": [
    "# print out original image shape without unsqueezed dimension\n",
    "print(f'Test image original shape: {test_image.shape}')\n",
    "\n",
    "#Create a sample nn.MaxPool2d layer\n",
    "max_pool_layer = nn.MaxPool2d(kernel_size=(2,2))\n",
    "\n",
    "#Pass data through the conv layer \n",
    "test_image_through_conv = conv_layer(test_image)\n",
    "print(f'Shape after going through conv_layer(): {test_image_through_conv.shape}')\n",
    "\n",
    "#Pass convoluted image through MaxPool layer\n",
    "test_image_through_maxpool = max_pool_layer(test_image_through_conv)\n",
    "print(f'Shape after going through maxpool_layer(): {test_image_through_maxpool.shape}')"
   ]
  },
  {
   "cell_type": "markdown",
   "id": "5b5bbf2e-9ab1-46ce-8b52-1dec3d1d8425",
   "metadata": {},
   "source": [
    "#### Example of MaxPool Layer"
   ]
  },
  {
   "cell_type": "code",
   "execution_count": null,
   "id": "d4f7f3c3-02da-43a0-a7a5-d07d8ee04935",
   "metadata": {},
   "outputs": [],
   "source": [
    "torch.manual_seed(RANDOM_SEED)\n",
    "\n",
    "#create a random tensor with a similar number of dimensions to our images\n",
    "random_tensor = torch.randn(size=(1,1,2,2)) # [N, C, H, W]\n",
    "\n",
    "print(f'\\n Random Tensor:\\n {random_tensor}')\n",
    "print(f'Random Tensor Shape: {random_tensor.shape}')\n",
    "\n",
    "#Create a Max Pool layer\n",
    "maxpool_layer = nn.MaxPool2d(kernel_size=2)\n",
    "\n",
    "#Pass random tensor through maxpool layer \n",
    "max_pool_tensor = max_pool_layer(random_tensor)\n",
    "\n",
    "print(f'\\n MaxPool Tensor: \\n {max_pool_tensor}')\n",
    "print(f'Max Pool tensor shape: {max_pool_tensor.shape}')"
   ]
  },
  {
   "cell_type": "code",
   "execution_count": null,
   "id": "0f8feba0-7045-4cab-9c95-5421ed672502",
   "metadata": {},
   "outputs": [],
   "source": [
    "flatten_layer = nn.Flatten(start_dim=0)"
   ]
  },
  {
   "cell_type": "code",
   "execution_count": null,
   "id": "45547c7a-239f-4eb0-ac14-39595a4bdebd",
   "metadata": {},
   "outputs": [],
   "source": [
    "rand_img = torch.rand(size=(10,7,7))\n",
    "\n",
    "flattened_tensor = flatten_layer(rand_img)\n",
    "\n",
    "flattened_tensor.shape"
   ]
  },
  {
   "cell_type": "markdown",
   "id": "6f99ce43-2978-495c-9e7f-7d2881a013da",
   "metadata": {},
   "source": [
    "### 7.3 Setup Loss Function and Optimizer for `model_2`"
   ]
  },
  {
   "cell_type": "code",
   "execution_count": 79,
   "id": "ad0d95be-0e9b-4af6-8100-12e6aaa5df35",
   "metadata": {},
   "outputs": [],
   "source": [
    "from helper_function import accuracy_fn\n",
    "#setup loss function \n",
    "loss_fn = nn.CrossEntropyLoss()\n",
    "\n",
    "#optimizer \n",
    "optimizer = torch.optim.Adam(params=model_2.parameters(), \n",
    "                            lr=0.01)"
   ]
  },
  {
   "cell_type": "markdown",
   "id": "dde7fa9d-3091-4e6d-9e87-1f29f1bb14f3",
   "metadata": {},
   "source": [
    "### 7.4 Training Loop & Test Loop"
   ]
  },
  {
   "cell_type": "code",
   "execution_count": 80,
   "id": "d7df65da-b70a-4fcd-8957-a5f3eeffabf6",
   "metadata": {
    "scrolled": true
   },
   "outputs": [
    {
     "name": "stderr",
     "output_type": "stream",
     "text": [
      "  0%|                                                                                            | 0/3 [00:00<?, ?it/s]"
     ]
    },
    {
     "name": "stdout",
     "output_type": "stream",
     "text": [
      "Epoch: 0\n",
      "--------\n",
      "Train Loss: 0.48973 | Train Acc: 82.193%\n"
     ]
    },
    {
     "name": "stderr",
     "output_type": "stream",
     "text": [
      " 33%|████████████████████████████                                                        | 1/3 [00:24<00:49, 24.60s/it]"
     ]
    },
    {
     "name": "stdout",
     "output_type": "stream",
     "text": [
      "Test Loss: 0.40743 | Test Acc: 84.974%\n",
      "Epoch: 1\n",
      "--------\n",
      "Train Loss: 0.37864 | Train Acc: 86.240%\n"
     ]
    },
    {
     "name": "stderr",
     "output_type": "stream",
     "text": [
      " 67%|████████████████████████████████████████████████████████                            | 2/3 [00:51<00:25, 25.83s/it]"
     ]
    },
    {
     "name": "stdout",
     "output_type": "stream",
     "text": [
      "Test Loss: 0.42112 | Test Acc: 84.794%\n",
      "Epoch: 2\n",
      "--------\n",
      "Train Loss: 0.36596 | Train Acc: 86.765%\n"
     ]
    },
    {
     "name": "stderr",
     "output_type": "stream",
     "text": [
      "100%|████████████████████████████████████████████████████████████████████████████████████| 3/3 [01:18<00:00, 26.29s/it]"
     ]
    },
    {
     "name": "stdout",
     "output_type": "stream",
     "text": [
      "Test Loss: 0.39856 | Test Acc: 85.723%\n",
      "Train time on cuda: 78.868 seconds\n"
     ]
    },
    {
     "name": "stderr",
     "output_type": "stream",
     "text": [
      "\n"
     ]
    }
   ],
   "source": [
    "#Random state \n",
    "torch.manual_seed(RANDOM_SEED)\n",
    "torch.cuda.manual_seed(RANDOM_SEED)\n",
    "\n",
    "#Measure Time \n",
    "from timeit import default_timer as timer \n",
    "train_time_start_model_2 = timer()\n",
    "\n",
    "#Hyperparameters\n",
    "EPOCH = 3\n",
    "\n",
    "for epoch in tqdm(range(EPOCH)):\n",
    "    print(f'Epoch: {epoch}\\n--------')\n",
    "    ## Training loop \n",
    "    train_step(model=model_2, \n",
    "              data_loader=train_dataloader,\n",
    "              loss_fn=loss_fn,\n",
    "              optimizer=optimizer,\n",
    "              accuracy_fn=accuracy_fn,\n",
    "              device=device)\n",
    "    ##Test Loop \n",
    "    test_step(model=model_2,\n",
    "             data_loader=test_dataloader,\n",
    "             loss_fn=loss_fn,\n",
    "             accuracy_fn=accuracy_fn,\n",
    "             device=device)\n",
    "#end time \n",
    "train_time_end_model_2 = timer()\n",
    "total_train_time_model_2 = print_train_time(start=train_time_start_model_2, \n",
    "                                            end=train_time_end_model_2,device=device)"
   ]
  },
  {
   "cell_type": "markdown",
   "id": "44cb79f4-86b9-4102-aca3-fcd52966e869",
   "metadata": {},
   "source": [
    "### Flattening Layer working "
   ]
  },
  {
   "cell_type": "code",
   "execution_count": null,
   "id": "1dbfdaa2-9da1-4170-9694-32ea8aadde8e",
   "metadata": {},
   "outputs": [],
   "source": [
    "input = torch.randn(32, 10, 7, 7) #[N, C, H, W] "
   ]
  },
  {
   "cell_type": "code",
   "execution_count": null,
   "id": "34b915c3-c9dc-44bf-ac2d-30d2646786eb",
   "metadata": {},
   "outputs": [],
   "source": [
    "32*10*7*7"
   ]
  },
  {
   "cell_type": "code",
   "execution_count": null,
   "id": "dcaec63e-be1e-438f-bac2-0ee07be05eb5",
   "metadata": {},
   "outputs": [],
   "source": [
    "flatten_layer = nn.Flatten(start_dim=0)\n",
    "\n",
    "output = flatten_layer(input)\n",
    "\n",
    "output.shape"
   ]
  },
  {
   "cell_type": "markdown",
   "id": "29e18f86-2022-444e-aadc-d537179013ca",
   "metadata": {},
   "source": [
    "Here we are multiplying batches (32) with 490: 32 * 490 => 15680 "
   ]
  },
  {
   "cell_type": "code",
   "execution_count": null,
   "id": "88d265b4-49b2-411b-aa2d-55229827e29c",
   "metadata": {},
   "outputs": [],
   "source": [
    "flatten_layer = nn.Flatten()\n",
    "\n",
    "output = flatten_layer(input)\n",
    "\n",
    "output.shape"
   ]
  },
  {
   "cell_type": "code",
   "execution_count": 107,
   "id": "8c729fef-baf1-4e40-b16c-2678f2688d39",
   "metadata": {},
   "outputs": [
    {
     "name": "stderr",
     "output_type": "stream",
     "text": [
      "100%|███████████████████████████████████████████████████████████████████████████████| 313/313 [00:02<00:00, 122.30it/s]\n"
     ]
    }
   ],
   "source": [
    "# Get model_2 results\n",
    "model_2_results = eval_model(model=model_2, data_loader=test_dataloader, \n",
    "                             loss_fn=loss_fn, accuracy_fn=accuracy_fn, device=device)"
   ]
  },
  {
   "cell_type": "code",
   "execution_count": 108,
   "id": "303b12fe-bd5c-4c9e-afac-a92a23a1798e",
   "metadata": {},
   "outputs": [
    {
     "data": {
      "text/plain": [
       "{'model_name': 'FashionMNISTModelV2',\n",
       " 'model_loss': 0.39855852723121643,\n",
       " 'model_acc': 85.72284345047923}"
      ]
     },
     "execution_count": 108,
     "metadata": {},
     "output_type": "execute_result"
    }
   ],
   "source": [
    "model_2_results"
   ]
  },
  {
   "cell_type": "markdown",
   "id": "f9742405-67cb-4417-a8ed-e6455e427d78",
   "metadata": {},
   "source": [
    "### 8. Comapare model results and training time."
   ]
  },
  {
   "cell_type": "code",
   "execution_count": 109,
   "id": "2856b154-99c7-4480-8644-71322d4aa4a4",
   "metadata": {},
   "outputs": [
    {
     "data": {
      "text/html": [
       "<div>\n",
       "<style scoped>\n",
       "    .dataframe tbody tr th:only-of-type {\n",
       "        vertical-align: middle;\n",
       "    }\n",
       "\n",
       "    .dataframe tbody tr th {\n",
       "        vertical-align: top;\n",
       "    }\n",
       "\n",
       "    .dataframe thead th {\n",
       "        text-align: right;\n",
       "    }\n",
       "</style>\n",
       "<table border=\"1\" class=\"dataframe\">\n",
       "  <thead>\n",
       "    <tr style=\"text-align: right;\">\n",
       "      <th></th>\n",
       "      <th>model_name</th>\n",
       "      <th>model_loss</th>\n",
       "      <th>model_acc</th>\n",
       "    </tr>\n",
       "  </thead>\n",
       "  <tbody>\n",
       "    <tr>\n",
       "      <th>0</th>\n",
       "      <td>FashionMNISTModelV0</td>\n",
       "      <td>0.477043</td>\n",
       "      <td>83.456470</td>\n",
       "    </tr>\n",
       "    <tr>\n",
       "      <th>1</th>\n",
       "      <td>FashionMNISTModelV1</td>\n",
       "      <td>0.432850</td>\n",
       "      <td>85.363419</td>\n",
       "    </tr>\n",
       "    <tr>\n",
       "      <th>2</th>\n",
       "      <td>FashionMNISTModelV2</td>\n",
       "      <td>0.398559</td>\n",
       "      <td>85.722843</td>\n",
       "    </tr>\n",
       "  </tbody>\n",
       "</table>\n",
       "</div>"
      ],
      "text/plain": [
       "            model_name  model_loss  model_acc\n",
       "0  FashionMNISTModelV0    0.477043  83.456470\n",
       "1  FashionMNISTModelV1    0.432850  85.363419\n",
       "2  FashionMNISTModelV2    0.398559  85.722843"
      ]
     },
     "execution_count": 109,
     "metadata": {},
     "output_type": "execute_result"
    }
   ],
   "source": [
    "import pandas as pd \n",
    "compare_results = pd.DataFrame([model_0_results, model_1_results,\n",
    "                               model_2_results])\n",
    "\n",
    "compare_results"
   ]
  },
  {
   "cell_type": "markdown",
   "id": "29340752-3158-48af-b5c6-3376e3310e7c",
   "metadata": {},
   "source": [
    "### Add Training Time to results comparision"
   ]
  },
  {
   "cell_type": "code",
   "execution_count": 110,
   "id": "b4192c8d-57e4-4d10-b6b3-2e0b1bdf56b1",
   "metadata": {},
   "outputs": [],
   "source": [
    "compare_results['training_time'] = [total_train_time_model_0,\n",
    "                                    total_time_model_1, \n",
    "                                    total_train_time_model_2  ]"
   ]
  },
  {
   "cell_type": "code",
   "execution_count": 111,
   "id": "62d69d48-8866-4f5d-9d62-4404491f4a25",
   "metadata": {},
   "outputs": [
    {
     "data": {
      "text/html": [
       "<div>\n",
       "<style scoped>\n",
       "    .dataframe tbody tr th:only-of-type {\n",
       "        vertical-align: middle;\n",
       "    }\n",
       "\n",
       "    .dataframe tbody tr th {\n",
       "        vertical-align: top;\n",
       "    }\n",
       "\n",
       "    .dataframe thead th {\n",
       "        text-align: right;\n",
       "    }\n",
       "</style>\n",
       "<table border=\"1\" class=\"dataframe\">\n",
       "  <thead>\n",
       "    <tr style=\"text-align: right;\">\n",
       "      <th></th>\n",
       "      <th>model_name</th>\n",
       "      <th>model_loss</th>\n",
       "      <th>model_acc</th>\n",
       "      <th>training_time</th>\n",
       "    </tr>\n",
       "  </thead>\n",
       "  <tbody>\n",
       "    <tr>\n",
       "      <th>0</th>\n",
       "      <td>FashionMNISTModelV0</td>\n",
       "      <td>0.477043</td>\n",
       "      <td>83.456470</td>\n",
       "      <td>46.913373</td>\n",
       "    </tr>\n",
       "    <tr>\n",
       "      <th>1</th>\n",
       "      <td>FashionMNISTModelV1</td>\n",
       "      <td>0.432850</td>\n",
       "      <td>85.363419</td>\n",
       "      <td>122.528937</td>\n",
       "    </tr>\n",
       "    <tr>\n",
       "      <th>2</th>\n",
       "      <td>FashionMNISTModelV2</td>\n",
       "      <td>0.398559</td>\n",
       "      <td>85.722843</td>\n",
       "      <td>78.867658</td>\n",
       "    </tr>\n",
       "  </tbody>\n",
       "</table>\n",
       "</div>"
      ],
      "text/plain": [
       "            model_name  model_loss  model_acc  training_time\n",
       "0  FashionMNISTModelV0    0.477043  83.456470      46.913373\n",
       "1  FashionMNISTModelV1    0.432850  85.363419     122.528937\n",
       "2  FashionMNISTModelV2    0.398559  85.722843      78.867658"
      ]
     },
     "execution_count": 111,
     "metadata": {},
     "output_type": "execute_result"
    }
   ],
   "source": [
    "compare_results"
   ]
  },
  {
   "cell_type": "code",
   "execution_count": 112,
   "id": "10689767-50dd-4091-b16e-bb4691ee89c5",
   "metadata": {},
   "outputs": [
    {
     "data": {
      "text/plain": [
       "Text(0, 0.5, 'model')"
      ]
     },
     "execution_count": 112,
     "metadata": {},
     "output_type": "execute_result"
    },
    {
     "data": {
      "image/png": "[encoded data removed]",
      "text/plain": [
       "<Figure size 640x480 with 1 Axes>"
      ]
     },
     "metadata": {},
     "output_type": "display_data"
    }
   ],
   "source": [
    "#Visualize our model results \n",
    "compare_results.set_index('model_name')['model_acc'].plot(kind='barh')\n",
    "plt.xlabel('accuracy (%)')\n",
    "plt.ylabel('model')"
   ]
  },
  {
   "cell_type": "markdown",
   "id": "49e566e3-f290-422b-9b74-378a9c50bd53",
   "metadata": {},
   "source": [
    "### 9. Make and Evaluate random predictions with best model "
   ]
  },
  {
   "cell_type": "code",
   "execution_count": 113,
   "id": "e0f6ee88-9bb7-4d44-ac3f-7b14facfffd1",
   "metadata": {},
   "outputs": [],
   "source": [
    "def make_predictions(model: torch.nn.Module, data: list, \n",
    "                    device: torch.device = device): \n",
    "    pred_probs = []\n",
    "    #put our model into evaluation\n",
    "    model.eval()\n",
    "    model.to(device)\n",
    "    with torch.inference_mode():\n",
    "        for sample in data: \n",
    "            #prepare the sample (add a batch dimension and pass to target device)\n",
    "            sample = torch.unsqueeze(sample, dim=0).to(device)\n",
    "\n",
    "            #forward pass (model outputs raw logits)\n",
    "            pred_logit = model(sample)\n",
    "\n",
    "            #get predicition probability (logits --> predictions)\n",
    "            pred_prob = torch.softmax(pred_logit.squeeze(), dim=0)\n",
    "\n",
    "            #get prediction labels\n",
    "            pred_prob = torch.argmax(pred_prob, dim=0)\n",
    "\n",
    "            #Get pred_prob off the GPU for further calculations \n",
    "            pred_probs.append(pred_prob.cpu())\n",
    "\n",
    "    # Stack the pred_probs to turn list into a tensor\n",
    "    return torch.stack(pred_probs)"
   ]
  },
  {
   "cell_type": "code",
   "execution_count": 114,
   "id": "25580465-b9f5-4288-8a78-2e2dab4dc40a",
   "metadata": {},
   "outputs": [
    {
     "data": {
      "text/plain": [
       "torch.Size([1, 28, 28])"
      ]
     },
     "execution_count": 114,
     "metadata": {},
     "output_type": "execute_result"
    }
   ],
   "source": [
    "import random \n",
    "#random.seed(RANDOM_SEED)\n",
    "\n",
    "test_samples = []\n",
    "test_labels = [] \n",
    "for sample, label in random.sample(list(test_data), k=9):\n",
    "    test_samples.append(sample)\n",
    "    test_labels.append(label)\n",
    "\n",
    "#view the first sample shape \n",
    "test_samples[0].shape"
   ]
  },
  {
   "cell_type": "code",
   "execution_count": 115,
   "id": "8af5fb33-4a46-4d78-ab60-cd122de70ff4",
   "metadata": {},
   "outputs": [
    {
     "data": {
      "image/png": "[encoded data removed]",
      "text/plain": [
       "<Figure size 640x480 with 1 Axes>"
      ]
     },
     "metadata": {},
     "output_type": "display_data"
    }
   ],
   "source": [
    "#sample display\n",
    "plt.imshow(test_samples[0].squeeze(),cmap='gray')\n",
    "plt.title(class_names[test_labels[0]])\n",
    "plt.axis(False)\n",
    "plt.show()"
   ]
  },
  {
   "cell_type": "code",
   "execution_count": 116,
   "id": "9a672ee8-0d58-42cb-8ed8-c9f989d89642",
   "metadata": {},
   "outputs": [
    {
     "data": {
      "text/plain": [
       "tensor([8, 1, 4, 4, 2, 0, 4, 7, 9])"
      ]
     },
     "execution_count": 116,
     "metadata": {},
     "output_type": "execute_result"
    }
   ],
   "source": [
    "#Make Predictions \n",
    "pred_probs = make_predictions(model=model_2,\n",
    "                             data=test_samples)\n",
    "\n",
    "pred_probs"
   ]
  },
  {
   "cell_type": "code",
   "execution_count": 117,
   "id": "c44b0b05-cd30-4e85-9f33-c3f68564898e",
   "metadata": {},
   "outputs": [
    {
     "data": {
      "image/png": "[encoded data removed]",
      "text/plain": [
       "<Figure size 900x900 with 9 Axes>"
      ]
     },
     "metadata": {},
     "output_type": "display_data"
    }
   ],
   "source": [
    "#plot the predictions \n",
    "plt.figure(figsize=(9,9))\n",
    "nrows, ncols = 3,3\n",
    "for i,sample in enumerate(test_samples):\n",
    "    #create a subplot \n",
    "    plt.subplot(nrows, ncols, i+1)\n",
    "\n",
    "    #plot target image \n",
    "    plt.imshow(sample.squeeze(), cmap='gray')\n",
    "\n",
    "    #Find the prediction (in text form, e.g: Sandal)\n",
    "    pred_label = class_names[pred_probs[i]] \n",
    "\n",
    "    #get the truth label\n",
    "    truth_label = class_names[test_labels[i]]\n",
    "\n",
    "    #create a title for the plot\n",
    "    title_text = f'Pred: {pred_label} | Truth:{truth_label}'\n",
    "\n",
    "    #check the equality between pred and truth and change color of title text\n",
    "    if pred_label == truth_label:\n",
    "        plt.title(title_text, fontsize=10, c='g')\n",
    "    else:\n",
    "        plt.title(title_text, fontsize=10, c='r')\n",
    "\n",
    "    plt.axis(False)"
   ]
  },
  {
   "cell_type": "markdown",
   "id": "77d057c9-bdf4-49f1-93da-08b7df0337ab",
   "metadata": {},
   "source": [
    "## 10. Making a Confusion Matrix for further predictions Evaluation.\n",
    "\n",
    "A confusion matrix is a fantastic way of evaluating your classification models visually!\n",
    "\n",
    "1. Make predictions with our trained model on the test dataset.\n",
    "2. Make a confusion matrix `torchmetrics.ConfusionMatrix()`\n",
    "3. Plot the Confusion Matrix using `mlxtend.plotting.plot_confusion_matrix()`"
   ]
  },
  {
   "cell_type": "code",
   "execution_count": null,
   "id": "3423d689-4441-453b-8f2b-76d58b4a5097",
   "metadata": {},
   "outputs": [],
   "source": [
    "!pip install mlxtend"
   ]
  },
  {
   "cell_type": "code",
   "execution_count": 120,
   "id": "cb4285b9-53c7-436d-81c7-37fef9403acc",
   "metadata": {},
   "outputs": [
    {
     "name": "stderr",
     "output_type": "stream",
     "text": [
      "Making Predictions...: 100%|████████████████████████████████████████████████████████| 313/313 [00:02<00:00, 115.22it/s]\n"
     ]
    },
    {
     "data": {
      "text/plain": [
       "tensor([9, 2, 1, 1, 6, 1, 4, 6, 5, 7])"
      ]
     },
     "execution_count": 120,
     "metadata": {},
     "output_type": "execute_result"
    }
   ],
   "source": [
    "#1. Make predictions with trained model \n",
    "y_preds = []\n",
    "model_2.eval() \n",
    "with torch.inference_mode():\n",
    "    for X,y in tqdm(test_dataloader,desc='Making Predictions...'):\n",
    "        #put the data on target device\n",
    "        X, y = X.to(device), y.to(device)\n",
    "        #forward pass \n",
    "        y_logits = model_2(X)\n",
    "        #turn logits to prediction probs \n",
    "        y_pred = torch.softmax(y_logits.squeeze(), dim=1).argmax(dim=1)\n",
    "        #put prediction on CPU\n",
    "        y_preds.append(y_pred.cpu())\n",
    "        \n",
    "#concatenate list of tensor into a single tensor\n",
    "#print(y_preds)\n",
    "y_preds_tensor = torch.cat(y_preds)\n",
    "y_preds_tensor[:10]"
   ]
  },
  {
   "cell_type": "code",
   "execution_count": 121,
   "id": "5a5d0767-94ad-4be1-bcb7-d879f9f977e1",
   "metadata": {},
   "outputs": [
    {
     "data": {
      "text/plain": [
       "10000"
      ]
     },
     "execution_count": 121,
     "metadata": {},
     "output_type": "execute_result"
    }
   ],
   "source": [
    "len(y_preds_tensor)"
   ]
  },
  {
   "cell_type": "code",
   "execution_count": 122,
   "id": "11ec502a-5c3d-4d63-a1de-94429a7c768c",
   "metadata": {},
   "outputs": [
    {
     "name": "stdout",
     "output_type": "stream",
     "text": [
      "mlxtend: 0.23.0\n"
     ]
    }
   ],
   "source": [
    "import mlxtend \n",
    "print(f'mlxtend: {mlxtend.__version__}')"
   ]
  },
  {
   "cell_type": "code",
   "execution_count": 123,
   "id": "64fdbcb5-23f0-4653-89ed-be72330dc068",
   "metadata": {},
   "outputs": [
    {
     "ename": "AssertionError",
     "evalue": "mlxtend version should be 0.19.0 or Higher!",
     "output_type": "error",
     "traceback": [
      "\u001b[1;31m---------------------------------------------------------------------------\u001b[0m",
      "\u001b[1;31mAssertionError\u001b[0m                            Traceback (most recent call last)",
      "Cell \u001b[1;32mIn[123], line 1\u001b[0m\n\u001b[1;32m----> 1\u001b[0m \u001b[38;5;28;01massert\u001b[39;00m \u001b[38;5;28mint\u001b[39m(mlxtend\u001b[38;5;241m.\u001b[39m__version__\u001b[38;5;241m.\u001b[39msplit(\u001b[38;5;124m'\u001b[39m\u001b[38;5;124m.\u001b[39m\u001b[38;5;124m'\u001b[39m)[\u001b[38;5;241m1\u001b[39m]) \u001b[38;5;241m>\u001b[39m\u001b[38;5;241m=\u001b[39m \u001b[38;5;241m25\u001b[39m, \u001b[38;5;124m'\u001b[39m\u001b[38;5;124mmlxtend version should be 0.19.0 or Higher!\u001b[39m\u001b[38;5;124m'\u001b[39m\n",
      "\u001b[1;31mAssertionError\u001b[0m: mlxtend version should be 0.19.0 or Higher!"
     ]
    }
   ],
   "source": [
    "assert int(mlxtend.__version__.split('.')[1]) >= 25, 'mlxtend version should be 0.19.0 or Higher!'"
   ]
  },
  {
   "cell_type": "code",
   "execution_count": 124,
   "id": "115ddbb4-b5e5-43dd-a1b9-2247bd8b9e45",
   "metadata": {},
   "outputs": [
    {
     "name": "stdout",
     "output_type": "stream",
     "text": [
      "mlxtend version: 0.23.0\n",
      "torchmetrics version: 1.2.1\n"
     ]
    }
   ],
   "source": [
    "#see if required packages are installed and if not, install them...\n",
    "try:\n",
    "    import torchmetrics, mlxtend\n",
    "    print(f'mlxtend version: {mlxtend.__version__}')\n",
    "    print(f'torchmetrics version: {torchmetrics.__version__}')\n",
    "    assert int(mlxtend.__version__.split('.')[1]) >= 19, 'mlxtend version should be 0.19.0 or Higher!'\n",
    "except:\n",
    "    !pip install -q torchmetrics -U mlxtend\n",
    "    import torchmetrics, mlxtend\n",
    "    print(f'mlxtend version: {mlxtend.__version__}')\n",
    "    print(f'torchmetrics version: {torchmetrics.__version__}')"
   ]
  },
  {
   "cell_type": "code",
   "execution_count": 125,
   "id": "d043e025-6065-4b21-8ecc-771237ea7ce3",
   "metadata": {},
   "outputs": [],
   "source": [
    "from torchmetrics import ConfusionMatrix\n",
    "from mlxtend.plotting import plot_confusion_matrix"
   ]
  },
  {
   "cell_type": "code",
   "execution_count": 126,
   "id": "56dd9ae7-3ffa-4afd-94d4-8cbe8bb8b947",
   "metadata": {},
   "outputs": [
    {
     "data": {
      "text/plain": [
       "['T-shirt/top',\n",
       " 'Trouser',\n",
       " 'Pullover',\n",
       " 'Dress',\n",
       " 'Coat',\n",
       " 'Sandal',\n",
       " 'Shirt',\n",
       " 'Sneaker',\n",
       " 'Bag',\n",
       " 'Ankle boot']"
      ]
     },
     "execution_count": 126,
     "metadata": {},
     "output_type": "execute_result"
    }
   ],
   "source": [
    "class_names"
   ]
  },
  {
   "cell_type": "code",
   "execution_count": 127,
   "id": "4263030b-e3a5-4360-9370-4e2703e07be0",
   "metadata": {},
   "outputs": [
    {
     "data": {
      "text/plain": [
       "tensor([9, 2, 1, 1, 6])"
      ]
     },
     "execution_count": 127,
     "metadata": {},
     "output_type": "execute_result"
    }
   ],
   "source": [
    "y_preds_tensor[:5]"
   ]
  },
  {
   "cell_type": "code",
   "execution_count": 128,
   "id": "9efac9a6-7007-4eca-a2e9-87bc00208ffd",
   "metadata": {},
   "outputs": [
    {
     "data": {
      "text/plain": [
       "tensor([9, 2, 1, 1, 6])"
      ]
     },
     "execution_count": 128,
     "metadata": {},
     "output_type": "execute_result"
    }
   ],
   "source": [
    "test_data.targets[:5]"
   ]
  },
  {
   "cell_type": "code",
   "execution_count": 129,
   "id": "d160d057-13f0-4559-a78e-712904a99ddc",
   "metadata": {},
   "outputs": [],
   "source": [
    "#setup confusion instance and compare predictions to target  \n",
    "conf_mat = ConfusionMatrix(num_classes=len(class_names), task='multiclass') \n",
    "conf_mat_tensor = conf_mat(preds=y_preds_tensor, target=test_data.targets)"
   ]
  },
  {
   "cell_type": "code",
   "execution_count": 130,
   "id": "9120871a-9ca1-47f1-9558-035fd0709e9d",
   "metadata": {},
   "outputs": [
    {
     "data": {
      "text/plain": [
       "tensor([[855,   0,  14,  25,   9,   0,  80,   0,  17,   0],\n",
       "        [  5, 966,   3,  16,   5,   0,   1,   0,   4,   0],\n",
       "        [ 11,   1, 644,   7, 261,   0,  68,   0,   8,   0],\n",
       "        [ 34,  10,  12, 867,  31,   0,  39,   0,   7,   0],\n",
       "        [  1,   0,  41,  39, 876,   0,  34,   0,   9,   0],\n",
       "        [  0,   0,   0,   2,   0, 953,   0,  23,   7,  15],\n",
       "        [175,   1,  58,  28, 193,   0, 518,   0,  27,   0],\n",
       "        [  0,   0,   0,   0,   0,   9,   0, 957,   1,  33],\n",
       "        [  2,   1,   2,   4,   5,   5,   8,   2, 971,   0],\n",
       "        [  0,   0,   0,   2,   1,   4,   0,  27,   1, 965]])"
      ]
     },
     "execution_count": 130,
     "metadata": {},
     "output_type": "execute_result"
    }
   ],
   "source": [
    "conf_mat_tensor"
   ]
  },
  {
   "cell_type": "code",
   "execution_count": 131,
   "id": "f6828af1-0c30-4126-9691-5ccfa2fc6fd3",
   "metadata": {},
   "outputs": [
    {
     "data": {
      "image/png": "[encoded data removed]",
      "text/plain": [
       "<Figure size 1000x700 with 1 Axes>"
      ]
     },
     "metadata": {},
     "output_type": "display_data"
    }
   ],
   "source": [
    "#plot the confusion matrix\n",
    "fig, ax = plot_confusion_matrix(\n",
    "    conf_mat=conf_mat_tensor.numpy(), # matplotlib likes working with numpy\n",
    "    class_names=class_names,\n",
    "    figsize=(10,7)\n",
    ")"
   ]
  },
  {
   "cell_type": "markdown",
   "id": "ac1ee911-1323-4204-bf50-705f6efbe1c8",
   "metadata": {},
   "source": [
    "## 11. Save and reload Best performance model"
   ]
  },
  {
   "cell_type": "code",
   "execution_count": 104,
   "id": "b631dbc6-a2e9-45aa-959c-35e72be27830",
   "metadata": {},
   "outputs": [
    {
     "name": "stdout",
     "output_type": "stream",
     "text": [
      "Saving model to: models\\03_pytorch_computervision_model_2.pth\n"
     ]
    }
   ],
   "source": [
    "from pathlib import Path \n",
    "\n",
    "#create a model directory path \n",
    "MODEL_PATH = Path('models')\n",
    "MODEL_PATH.mkdir(parents=True, exist_ok=True)\n",
    "\n",
    "#create a model save path \n",
    "MODEL_NAME = '03_pytorch_computervision_model_2.pth' #pt or pth\n",
    "\n",
    "MODEL_SAVE_PATH = MODEL_PATH / MODEL_NAME\n",
    "\n",
    "#save model state dict \n",
    "print(f'Saving model to: {MODEL_SAVE_PATH}')\n",
    "torch.save(obj=model_2.state_dict(), f=MODEL_SAVE_PATH)"
   ]
  },
  {
   "cell_type": "code",
   "execution_count": 105,
   "id": "39cc7d4e-db76-4588-96be-8150d69ba0f8",
   "metadata": {},
   "outputs": [
    {
     "data": {
      "text/plain": [
       "FashionMNISTModelV2(\n",
       "  (conv_block1): Sequential(\n",
       "    (0): Conv2d(1, 10, kernel_size=(3, 3), stride=(1, 1), padding=(1, 1))\n",
       "    (1): ReLU()\n",
       "    (2): Conv2d(10, 10, kernel_size=(3, 3), stride=(1, 1), padding=(1, 1))\n",
       "    (3): ReLU()\n",
       "    (4): MaxPool2d(kernel_size=(2, 2), stride=(2, 2), padding=0, dilation=1, ceil_mode=False)\n",
       "  )\n",
       "  (conv_block2): Sequential(\n",
       "    (0): Conv2d(10, 10, kernel_size=(3, 3), stride=(1, 1), padding=(1, 1))\n",
       "    (1): ReLU()\n",
       "    (2): Conv2d(10, 10, kernel_size=(3, 3), stride=(1, 1), padding=(1, 1))\n",
       "    (3): ReLU()\n",
       "    (4): MaxPool2d(kernel_size=(2, 2), stride=(2, 2), padding=0, dilation=1, ceil_mode=False)\n",
       "  )\n",
       "  (classifier): Sequential(\n",
       "    (0): Flatten(start_dim=1, end_dim=-1)\n",
       "    (1): Linear(in_features=490, out_features=10, bias=True)\n",
       "  )\n",
       ")"
      ]
     },
     "execution_count": 105,
     "metadata": {},
     "output_type": "execute_result"
    }
   ],
   "source": [
    "#random state \n",
    "torch.manual_seed(RANDOM_SEED)\n",
    "\n",
    "#create a new instance of our model \n",
    "loaded_model = FashionMNISTModelV2(input_shape=1, hidden_units=10, \n",
    "                                  output_shape=len(class_names)) \n",
    "\n",
    "#Load in saved state_dict() \n",
    "loaded_model.load_state_dict(torch.load(f=MODEL_SAVE_PATH))\n",
    "\n",
    "#send model to the target devcie \n",
    "loaded_model.to(device)"
   ]
  },
  {
   "cell_type": "code",
   "execution_count": 132,
   "id": "c1f1a7d4-2654-4c61-810b-89378e1387a8",
   "metadata": {},
   "outputs": [
    {
     "data": {
      "text/plain": [
       "{'model_name': 'FashionMNISTModelV2',\n",
       " 'model_loss': 0.39855852723121643,\n",
       " 'model_acc': 85.72284345047923}"
      ]
     },
     "execution_count": 132,
     "metadata": {},
     "output_type": "execute_result"
    }
   ],
   "source": [
    "model_2_results"
   ]
  },
  {
   "cell_type": "code",
   "execution_count": 133,
   "id": "42c3e592-332f-44d0-bbc8-7d2362575476",
   "metadata": {},
   "outputs": [
    {
     "name": "stderr",
     "output_type": "stream",
     "text": [
      "100%|███████████████████████████████████████████████████████████████████████████████| 313/313 [00:02<00:00, 110.13it/s]\n"
     ]
    },
    {
     "data": {
      "text/plain": [
       "{'model_name': 'FashionMNISTModelV2',\n",
       " 'model_loss': 0.39855852723121643,\n",
       " 'model_acc': 85.72284345047923}"
      ]
     },
     "execution_count": 133,
     "metadata": {},
     "output_type": "execute_result"
    }
   ],
   "source": [
    "#Evaluate the loaded model \n",
    "torch.manual_seed(RANDOM_SEED)\n",
    "\n",
    "loaded_model_results = eval_model(model=loaded_model, \n",
    "                                  data_loader=test_dataloader, \n",
    "                                  loss_fn=loss_fn,\n",
    "                                  accuracy_fn=accuracy_fn,\n",
    "                                  device=device)\n",
    "\n",
    "loaded_model_results"
   ]
  },
  {
   "cell_type": "code",
   "execution_count": 139,
   "id": "60634cb7-51a1-4bb8-b9ad-51d183a19003",
   "metadata": {},
   "outputs": [
    {
     "data": {
      "text/plain": [
       "tensor(True)"
      ]
     },
     "execution_count": 139,
     "metadata": {},
     "output_type": "execute_result"
    }
   ],
   "source": [
    "## check if model results are close to eachother \n",
    "torch.isclose(torch.tensor(model_2_results['model_loss']), \n",
    "             torch.tensor(loaded_model_results['model_loss']),\n",
    "             atol=1e-03)"
   ]
  },
  {
   "cell_type": "code",
   "execution_count": null,
   "id": "c7d68c0c-20cd-42ff-bee6-3ca8ac9b31f7",
   "metadata": {},
   "outputs": [],
   "source": [
    " "
   ]
  }
 ],
 "metadata": {
  "kernelspec": {
   "display_name": "Python 3 (ipykernel)",
   "language": "python",
   "name": "python3"
  },
  "language_info": {
   "codemirror_mode": {
    "name": "ipython",
    "version": 3
   },
   "file_extension": ".py",
   "mimetype": "text/x-python",
   "name": "python",
   "nbconvert_exporter": "python",
   "pygments_lexer": "ipython3",
   "version": "3.9.0"
  }
 },
 "nbformat": 4,
 "nbformat_minor": 5
}

{
 "cells": [
  {
   "cell_type": "markdown",
   "id": "40863123-9c37-497b-80e4-6941891dd78a",
   "metadata": {},
   "source": [
    "# PyTorch Computer Vision"
   ]
  },
  {
   "cell_type": "markdown",
   "id": "ede9988f-f949-419b-a9b9-dedce32821c8",
   "metadata": {
    "jp-MarkdownHeadingCollapsed": true
   },
   "source": [
    "## 1. Importing Dependencies"
   ]
  },
  {
   "cell_type": "code",
   "execution_count": 35,
   "id": "24ed9963-1963-4db5-b7ce-58246eb60f1b",
   "metadata": {},
   "outputs": [
    {
     "name": "stdout",
     "output_type": "stream",
     "text": [
      "PyTorch version: 2.1.0+cu121\n",
      "torchvision version: 0.16.0+cu121\n"
     ]
    }
   ],
   "source": [
    "# Import PyTorch\n",
    "import torch\n",
    "from torch import nn\n",
    "\n",
    "# Import torchvision \n",
    "import torchvision\n",
    "from torchvision import datasets\n",
    "from torchvision.transforms import ToTensor\n",
    "\n",
    "# Import matplotlib for visualization\n",
    "import matplotlib.pyplot as plt\n",
    "\n",
    "# Check versions\n",
    "# Note: your PyTorch version shouldn't be lower than 1.10.0 and torchvision version shouldn't be lower than 0.11\n",
    "print(f\"PyTorch version: {torch.__version__}\\ntorchvision version: {torchvision.__version__}\")"
   ]
  },
  {
   "cell_type": "markdown",
   "id": "033ecf4a-6a7c-4018-87d4-d62671814abd",
   "metadata": {},
   "source": [
    "## 2. Getting Dataset"
   ]
  },
  {
   "cell_type": "code",
   "execution_count": 36,
   "id": "8ffb4584-8e91-41fa-8a3a-e0514c6df396",
   "metadata": {},
   "outputs": [],
   "source": [
    "# Setup training data\n",
    "train_data = datasets.FashionMNIST(\n",
    "    root=\"data\", # where to download data to?\n",
    "    train=True, # get training data\n",
    "    download=True, # download data if it doesn't exist on disk\n",
    "    transform=ToTensor(), # images come as PIL format, we want to turn into Torch tensors\n",
    "    target_transform=None # you can transform labels as well\n",
    ")\n",
    "\n",
    "# Setup testing data\n",
    "test_data = datasets.FashionMNIST(\n",
    "    root=\"data\",\n",
    "    train=False, # get test data\n",
    "    download=True,\n",
    "    transform=ToTensor()\n",
    ")"
   ]
  },
  {
   "cell_type": "code",
   "execution_count": 37,
   "id": "8428bf2f-2081-4917-9731-97f469878363",
   "metadata": {},
   "outputs": [
    {
     "data": {
      "text/plain": [
       "(tensor([[[0.0000, 0.0000, 0.0000, 0.0000, 0.0000, 0.0000, 0.0000, 0.0000,\n",
       "           0.0000, 0.0000, 0.0000, 0.0000, 0.0000, 0.0000, 0.0000, 0.0000,\n",
       "           0.0000, 0.0000, 0.0000, 0.0000, 0.0000, 0.0000, 0.0000, 0.0000,\n",
       "           0.0000, 0.0000, 0.0000, 0.0000],\n",
       "          [0.0000, 0.0000, 0.0000, 0.0000, 0.0000, 0.0000, 0.0000, 0.0000,\n",
       "           0.0000, 0.0000, 0.0000, 0.0000, 0.0000, 0.0000, 0.0000, 0.0000,\n",
       "           0.0000, 0.0000, 0.0000, 0.0000, 0.0000, 0.0000, 0.0000, 0.0000,\n",
       "           0.0000, 0.0000, 0.0000, 0.0000],\n",
       "          [0.0000, 0.0000, 0.0000, 0.0000, 0.0000, 0.0000, 0.0000, 0.0000,\n",
       "           0.0000, 0.0000, 0.0000, 0.0000, 0.0000, 0.0000, 0.0000, 0.0000,\n",
       "           0.0000, 0.0000, 0.0000, 0.0000, 0.0000, 0.0000, 0.0000, 0.0000,\n",
       "           0.0000, 0.0000, 0.0000, 0.0000],\n",
       "          [0.0000, 0.0000, 0.0000, 0.0000, 0.0000, 0.0000, 0.0000, 0.0000,\n",
       "           0.0000, 0.0000, 0.0000, 0.0000, 0.0039, 0.0000, 0.0000, 0.0510,\n",
       "           0.2863, 0.0000, 0.0000, 0.0039, 0.0157, 0.0000, 0.0000, 0.0000,\n",
       "           0.0000, 0.0039, 0.0039, 0.0000],\n",
       "          [0.0000, 0.0000, 0.0000, 0.0000, 0.0000, 0.0000, 0.0000, 0.0000,\n",
       "           0.0000, 0.0000, 0.0000, 0.0000, 0.0118, 0.0000, 0.1412, 0.5333,\n",
       "           0.4980, 0.2431, 0.2118, 0.0000, 0.0000, 0.0000, 0.0039, 0.0118,\n",
       "           0.0157, 0.0000, 0.0000, 0.0118],\n",
       "          [0.0000, 0.0000, 0.0000, 0.0000, 0.0000, 0.0000, 0.0000, 0.0000,\n",
       "           0.0000, 0.0000, 0.0000, 0.0000, 0.0235, 0.0000, 0.4000, 0.8000,\n",
       "           0.6902, 0.5255, 0.5647, 0.4824, 0.0902, 0.0000, 0.0000, 0.0000,\n",
       "           0.0000, 0.0471, 0.0392, 0.0000],\n",
       "          [0.0000, 0.0000, 0.0000, 0.0000, 0.0000, 0.0000, 0.0000, 0.0000,\n",
       "           0.0000, 0.0000, 0.0000, 0.0000, 0.0000, 0.0000, 0.6078, 0.9255,\n",
       "           0.8118, 0.6980, 0.4196, 0.6118, 0.6314, 0.4275, 0.2510, 0.0902,\n",
       "           0.3020, 0.5098, 0.2824, 0.0588],\n",
       "          [0.0000, 0.0000, 0.0000, 0.0000, 0.0000, 0.0000, 0.0000, 0.0000,\n",
       "           0.0000, 0.0000, 0.0000, 0.0039, 0.0000, 0.2706, 0.8118, 0.8745,\n",
       "           0.8549, 0.8471, 0.8471, 0.6392, 0.4980, 0.4745, 0.4784, 0.5725,\n",
       "           0.5529, 0.3451, 0.6745, 0.2588],\n",
       "          [0.0000, 0.0000, 0.0000, 0.0000, 0.0000, 0.0000, 0.0000, 0.0000,\n",
       "           0.0000, 0.0039, 0.0039, 0.0039, 0.0000, 0.7843, 0.9098, 0.9098,\n",
       "           0.9137, 0.8980, 0.8745, 0.8745, 0.8431, 0.8353, 0.6431, 0.4980,\n",
       "           0.4824, 0.7686, 0.8980, 0.0000],\n",
       "          [0.0000, 0.0000, 0.0000, 0.0000, 0.0000, 0.0000, 0.0000, 0.0000,\n",
       "           0.0000, 0.0000, 0.0000, 0.0000, 0.0000, 0.7176, 0.8824, 0.8471,\n",
       "           0.8745, 0.8941, 0.9216, 0.8902, 0.8784, 0.8706, 0.8784, 0.8667,\n",
       "           0.8745, 0.9608, 0.6784, 0.0000],\n",
       "          [0.0000, 0.0000, 0.0000, 0.0000, 0.0000, 0.0000, 0.0000, 0.0000,\n",
       "           0.0000, 0.0000, 0.0000, 0.0000, 0.0000, 0.7569, 0.8941, 0.8549,\n",
       "           0.8353, 0.7765, 0.7059, 0.8314, 0.8235, 0.8275, 0.8353, 0.8745,\n",
       "           0.8627, 0.9529, 0.7922, 0.0000],\n",
       "          [0.0000, 0.0000, 0.0000, 0.0000, 0.0000, 0.0000, 0.0000, 0.0000,\n",
       "           0.0000, 0.0039, 0.0118, 0.0000, 0.0471, 0.8588, 0.8627, 0.8314,\n",
       "           0.8549, 0.7529, 0.6627, 0.8902, 0.8157, 0.8549, 0.8784, 0.8314,\n",
       "           0.8863, 0.7725, 0.8196, 0.2039],\n",
       "          [0.0000, 0.0000, 0.0000, 0.0000, 0.0000, 0.0000, 0.0000, 0.0000,\n",
       "           0.0000, 0.0000, 0.0235, 0.0000, 0.3882, 0.9569, 0.8706, 0.8627,\n",
       "           0.8549, 0.7961, 0.7765, 0.8667, 0.8431, 0.8353, 0.8706, 0.8627,\n",
       "           0.9608, 0.4667, 0.6549, 0.2196],\n",
       "          [0.0000, 0.0000, 0.0000, 0.0000, 0.0000, 0.0000, 0.0000, 0.0000,\n",
       "           0.0000, 0.0157, 0.0000, 0.0000, 0.2157, 0.9255, 0.8941, 0.9020,\n",
       "           0.8941, 0.9412, 0.9098, 0.8353, 0.8549, 0.8745, 0.9176, 0.8510,\n",
       "           0.8510, 0.8196, 0.3608, 0.0000],\n",
       "          [0.0000, 0.0000, 0.0039, 0.0157, 0.0235, 0.0275, 0.0078, 0.0000,\n",
       "           0.0000, 0.0000, 0.0000, 0.0000, 0.9294, 0.8863, 0.8510, 0.8745,\n",
       "           0.8706, 0.8588, 0.8706, 0.8667, 0.8471, 0.8745, 0.8980, 0.8431,\n",
       "           0.8549, 1.0000, 0.3020, 0.0000],\n",
       "          [0.0000, 0.0118, 0.0000, 0.0000, 0.0000, 0.0000, 0.0000, 0.0000,\n",
       "           0.0000, 0.2431, 0.5686, 0.8000, 0.8941, 0.8118, 0.8353, 0.8667,\n",
       "           0.8549, 0.8157, 0.8275, 0.8549, 0.8784, 0.8745, 0.8588, 0.8431,\n",
       "           0.8784, 0.9569, 0.6235, 0.0000],\n",
       "          [0.0000, 0.0000, 0.0000, 0.0000, 0.0706, 0.1725, 0.3216, 0.4196,\n",
       "           0.7412, 0.8941, 0.8627, 0.8706, 0.8510, 0.8863, 0.7843, 0.8039,\n",
       "           0.8275, 0.9020, 0.8784, 0.9176, 0.6902, 0.7373, 0.9804, 0.9725,\n",
       "           0.9137, 0.9333, 0.8431, 0.0000],\n",
       "          [0.0000, 0.2235, 0.7333, 0.8157, 0.8784, 0.8667, 0.8784, 0.8157,\n",
       "           0.8000, 0.8392, 0.8157, 0.8196, 0.7843, 0.6235, 0.9608, 0.7569,\n",
       "           0.8078, 0.8745, 1.0000, 1.0000, 0.8667, 0.9176, 0.8667, 0.8275,\n",
       "           0.8627, 0.9098, 0.9647, 0.0000],\n",
       "          [0.0118, 0.7922, 0.8941, 0.8784, 0.8667, 0.8275, 0.8275, 0.8392,\n",
       "           0.8039, 0.8039, 0.8039, 0.8627, 0.9412, 0.3137, 0.5882, 1.0000,\n",
       "           0.8980, 0.8667, 0.7373, 0.6039, 0.7490, 0.8235, 0.8000, 0.8196,\n",
       "           0.8706, 0.8941, 0.8824, 0.0000],\n",
       "          [0.3843, 0.9137, 0.7765, 0.8235, 0.8706, 0.8980, 0.8980, 0.9176,\n",
       "           0.9765, 0.8627, 0.7608, 0.8431, 0.8510, 0.9451, 0.2549, 0.2863,\n",
       "           0.4157, 0.4588, 0.6588, 0.8588, 0.8667, 0.8431, 0.8510, 0.8745,\n",
       "           0.8745, 0.8784, 0.8980, 0.1137],\n",
       "          [0.2941, 0.8000, 0.8314, 0.8000, 0.7569, 0.8039, 0.8275, 0.8824,\n",
       "           0.8471, 0.7255, 0.7725, 0.8078, 0.7765, 0.8353, 0.9412, 0.7647,\n",
       "           0.8902, 0.9608, 0.9373, 0.8745, 0.8549, 0.8314, 0.8196, 0.8706,\n",
       "           0.8627, 0.8667, 0.9020, 0.2627],\n",
       "          [0.1882, 0.7961, 0.7176, 0.7608, 0.8353, 0.7725, 0.7255, 0.7451,\n",
       "           0.7608, 0.7529, 0.7922, 0.8392, 0.8588, 0.8667, 0.8627, 0.9255,\n",
       "           0.8824, 0.8471, 0.7804, 0.8078, 0.7294, 0.7098, 0.6941, 0.6745,\n",
       "           0.7098, 0.8039, 0.8078, 0.4510],\n",
       "          [0.0000, 0.4784, 0.8588, 0.7569, 0.7020, 0.6706, 0.7176, 0.7686,\n",
       "           0.8000, 0.8235, 0.8353, 0.8118, 0.8275, 0.8235, 0.7843, 0.7686,\n",
       "           0.7608, 0.7490, 0.7647, 0.7490, 0.7765, 0.7529, 0.6902, 0.6118,\n",
       "           0.6549, 0.6941, 0.8235, 0.3608],\n",
       "          [0.0000, 0.0000, 0.2902, 0.7412, 0.8314, 0.7490, 0.6863, 0.6745,\n",
       "           0.6863, 0.7098, 0.7255, 0.7373, 0.7412, 0.7373, 0.7569, 0.7765,\n",
       "           0.8000, 0.8196, 0.8235, 0.8235, 0.8275, 0.7373, 0.7373, 0.7608,\n",
       "           0.7529, 0.8471, 0.6667, 0.0000],\n",
       "          [0.0078, 0.0000, 0.0000, 0.0000, 0.2588, 0.7843, 0.8706, 0.9294,\n",
       "           0.9373, 0.9490, 0.9647, 0.9529, 0.9569, 0.8667, 0.8627, 0.7569,\n",
       "           0.7490, 0.7020, 0.7137, 0.7137, 0.7098, 0.6902, 0.6510, 0.6588,\n",
       "           0.3882, 0.2275, 0.0000, 0.0000],\n",
       "          [0.0000, 0.0000, 0.0000, 0.0000, 0.0000, 0.0000, 0.0000, 0.1569,\n",
       "           0.2392, 0.1725, 0.2824, 0.1608, 0.1373, 0.0000, 0.0000, 0.0000,\n",
       "           0.0000, 0.0000, 0.0000, 0.0000, 0.0000, 0.0000, 0.0000, 0.0000,\n",
       "           0.0000, 0.0000, 0.0000, 0.0000],\n",
       "          [0.0000, 0.0000, 0.0000, 0.0000, 0.0000, 0.0000, 0.0000, 0.0000,\n",
       "           0.0000, 0.0000, 0.0000, 0.0000, 0.0000, 0.0000, 0.0000, 0.0000,\n",
       "           0.0000, 0.0000, 0.0000, 0.0000, 0.0000, 0.0000, 0.0000, 0.0000,\n",
       "           0.0000, 0.0000, 0.0000, 0.0000],\n",
       "          [0.0000, 0.0000, 0.0000, 0.0000, 0.0000, 0.0000, 0.0000, 0.0000,\n",
       "           0.0000, 0.0000, 0.0000, 0.0000, 0.0000, 0.0000, 0.0000, 0.0000,\n",
       "           0.0000, 0.0000, 0.0000, 0.0000, 0.0000, 0.0000, 0.0000, 0.0000,\n",
       "           0.0000, 0.0000, 0.0000, 0.0000]]]),\n",
       " 9)"
      ]
     },
     "execution_count": 37,
     "metadata": {},
     "output_type": "execute_result"
    }
   ],
   "source": [
    "# See first training sample\n",
    "image, label = train_data[0]\n",
    "image, label"
   ]
  },
  {
   "cell_type": "code",
   "execution_count": 38,
   "id": "b5c6ae1f-32b6-4457-98fe-1f16fef920e2",
   "metadata": {},
   "outputs": [
    {
     "data": {
      "text/plain": [
       "torch.Size([1, 28, 28])"
      ]
     },
     "execution_count": 38,
     "metadata": {},
     "output_type": "execute_result"
    }
   ],
   "source": [
    "image.shape"
   ]
  },
  {
   "cell_type": "code",
   "execution_count": 39,
   "id": "7159738f-ff2a-4056-9c61-f9548416a2e3",
   "metadata": {},
   "outputs": [
    {
     "data": {
      "text/plain": [
       "(60000, 60000, 10000, 10000)"
      ]
     },
     "execution_count": 39,
     "metadata": {},
     "output_type": "execute_result"
    }
   ],
   "source": [
    "# How many samples are there? \n",
    "len(train_data.data), len(train_data.targets), len(test_data.data), len(test_data.targets)"
   ]
  },
  {
   "cell_type": "code",
   "execution_count": 40,
   "id": "4d58fb0a-063b-4724-8223-ff5154fa60a2",
   "metadata": {},
   "outputs": [
    {
     "data": {
      "text/plain": [
       "['T-shirt/top',\n",
       " 'Trouser',\n",
       " 'Pullover',\n",
       " 'Dress',\n",
       " 'Coat',\n",
       " 'Sandal',\n",
       " 'Shirt',\n",
       " 'Sneaker',\n",
       " 'Bag',\n",
       " 'Ankle boot']"
      ]
     },
     "execution_count": 40,
     "metadata": {},
     "output_type": "execute_result"
    }
   ],
   "source": [
    "#class names\n",
    "# See classes\n",
    "class_names = train_data.classes\n",
    "class_names"
   ]
  },
  {
   "cell_type": "code",
   "execution_count": 41,
   "id": "a9f9b414-ce48-49f8-be25-0201fba364f8",
   "metadata": {},
   "outputs": [
    {
     "data": {
      "text/plain": [
       "{'T-shirt/top': 0,\n",
       " 'Trouser': 1,\n",
       " 'Pullover': 2,\n",
       " 'Dress': 3,\n",
       " 'Coat': 4,\n",
       " 'Sandal': 5,\n",
       " 'Shirt': 6,\n",
       " 'Sneaker': 7,\n",
       " 'Bag': 8,\n",
       " 'Ankle boot': 9}"
      ]
     },
     "execution_count": 41,
     "metadata": {},
     "output_type": "execute_result"
    }
   ],
   "source": [
    "#clasess to idx \n",
    "classes_to_idx = train_data.class_to_idx\n",
    "classes_to_idx"
   ]
  },
  {
   "cell_type": "markdown",
   "id": "92d454b0-1be6-45ff-9ba0-5d78b996bdb9",
   "metadata": {},
   "source": [
    "### 1.2 Visualization of data"
   ]
  },
  {
   "cell_type": "code",
   "execution_count": 42,
   "id": "5924231d-fceb-445e-858b-1a0b9e5e1ece",
   "metadata": {},
   "outputs": [
    {
     "data": {
      "text/plain": [
       "<matplotlib.image.AxesImage at 0x139c26fb790>"
      ]
     },
     "execution_count": 42,
     "metadata": {},
     "output_type": "execute_result"
    },
    {
     "data": {
      "image/png": "[encoded data removed]",
      "text/plain": [
       "<Figure size 500x500 with 1 Axes>"
      ]
     },
     "metadata": {},
     "output_type": "display_data"
    }
   ],
   "source": [
    "image, label = train_data[1]\n",
    "plt.figure(figsize=(5,5))\n",
    "plt.title(class_names[label])\n",
    "plt.imshow(image.squeeze(),cmap='gray')"
   ]
  },
  {
   "cell_type": "code",
   "execution_count": 43,
   "id": "c7c79151-1ee9-4b04-8079-da390f406b01",
   "metadata": {},
   "outputs": [
    {
     "data": {
      "image/png": "[encoded data removed]",
      "text/plain": [
       "<Figure size 900x900 with 16 Axes>"
      ]
     },
     "metadata": {},
     "output_type": "display_data"
    }
   ],
   "source": [
    "#plot more random images from the dataset\n",
    "torch.manual_seed(42)\n",
    "\n",
    "fig = plt.figure(figsize=(9,9))\n",
    "rows, cols = 4,4 #16 images, labels\n",
    "\n",
    "for i in range(1,rows*cols+1):\n",
    "    random_idx = torch.randint(0,len(train_data), size=[1]).item()\n",
    "    img, label = train_data[random_idx]\n",
    "    fig.add_subplot(rows, cols, i)\n",
    "    plt.imshow(img.squeeze(), cmap='gray')\n",
    "    plt.title(class_names[label])\n",
    "    plt.axis(False)"
   ]
  },
  {
   "cell_type": "markdown",
   "id": "99ba57ee-c161-4a63-bb23-117230bfb3a4",
   "metadata": {},
   "source": [
    "## 2. Preparing DataLoader"
   ]
  },
  {
   "cell_type": "code",
   "execution_count": 44,
   "id": "85a73781-9649-4b2d-a1b8-f93cfe921e6f",
   "metadata": {},
   "outputs": [],
   "source": [
    "from torch.utils.data import DataLoader"
   ]
  },
  {
   "cell_type": "code",
   "execution_count": 45,
   "id": "1c08a351-c9fe-4f54-b52e-6f3e6aff2fe9",
   "metadata": {},
   "outputs": [
    {
     "data": {
      "text/plain": [
       "(<torch.utils.data.dataloader.DataLoader at 0x139d2a67cd0>,\n",
       " <torch.utils.data.dataloader.DataLoader at 0x139d2a374f0>)"
      ]
     },
     "execution_count": 45,
     "metadata": {},
     "output_type": "execute_result"
    }
   ],
   "source": [
    "#Setup Batch size hyperparameters\n",
    "BATCH_SIZE = 32 \n",
    "\n",
    "#Dataloader - Turn dataset into iterable (batches)\n",
    "train_dataloader = DataLoader(dataset=train_data, \n",
    "                             batch_size=BATCH_SIZE, \n",
    "                             shuffle=True)\n",
    "\n",
    "test_dataloader = DataLoader(dataset=test_data, \n",
    "                            batch_size=BATCH_SIZE,\n",
    "                            shuffle=False)\n",
    "\n",
    "train_dataloader, test_dataloader"
   ]
  },
  {
   "cell_type": "code",
   "execution_count": 46,
   "id": "f43a54d6-f499-49ed-9e6e-fcec3dc31503",
   "metadata": {},
   "outputs": [
    {
     "name": "stdout",
     "output_type": "stream",
     "text": [
      "Dataloader: (<torch.utils.data.dataloader.DataLoader object at 0x00000139D2A67CD0>, <torch.utils.data.dataloader.DataLoader object at 0x00000139D2A374F0>)\n",
      "Batch Size: 32\n",
      "Length of Train Dataloader: 1875\n",
      "Length of Test Dataloader: 313\n",
      "1875.0\n"
     ]
    }
   ],
   "source": [
    "#Let's check out what's we've created\n",
    "print(f'Dataloader: {train_dataloader, test_dataloader}')\n",
    "print('Batch Size: 32')\n",
    "print(f'Length of Train Dataloader: {len(train_dataloader)}')\n",
    "print(f'Length of Test Dataloader: {len(test_dataloader)}')\n",
    "print(f'{len(train_data)/32}')"
   ]
  },
  {
   "cell_type": "code",
   "execution_count": 47,
   "id": "0eb6ea36-4568-4f8b-a667-29a0f57dcda2",
   "metadata": {},
   "outputs": [
    {
     "data": {
      "text/plain": [
       "(torch.Size([32, 1, 28, 28]), torch.Size([32]))"
      ]
     },
     "execution_count": 47,
     "metadata": {},
     "output_type": "execute_result"
    }
   ],
   "source": [
    "#check out what's inside the train dataloader\n",
    "train_features_batch, train_labels_batch = next(iter(train_dataloader)) \n",
    "train_features_batch.shape, train_labels_batch.shape"
   ]
  },
  {
   "cell_type": "code",
   "execution_count": 48,
   "id": "e782bcdf-9688-4dd2-ad5b-cf4faff0c7fd",
   "metadata": {},
   "outputs": [
    {
     "data": {
      "image/png": "[encoded data removed]",
      "text/plain": [
       "<Figure size 640x480 with 1 Axes>"
      ]
     },
     "metadata": {},
     "output_type": "display_data"
    }
   ],
   "source": [
    "#Show a sample (random)\n",
    "random_idx = torch.randint(1,len(train_features_batch),size=[1]).item()\n",
    "img, label = train_features_batch[random_idx], train_labels_batch[random_idx]\n",
    "plt.imshow(img.squeeze(),cmap='gray')\n",
    "plt.title(class_names[label])\n",
    "plt.show()"
   ]
  },
  {
   "cell_type": "markdown",
   "id": "0486f219-d403-4ac3-92a2-183e8a068e73",
   "metadata": {},
   "source": [
    "## 3. Model 0: Build a Basline Model\n",
    "\n",
    "When starting to build a series of machine learning modelling experiments, it's best pratice to start with a baseline model.\n",
    "\n",
    "A Baseline model is a simple model you will try and improve upon with subsequent models/experiments. \n",
    "\n",
    "In other words: start simply and add complexity when neccessary!"
   ]
  },
  {
   "cell_type": "code",
   "execution_count": 49,
   "id": "b1662101-cf98-4383-8d2c-40801f97b8e0",
   "metadata": {},
   "outputs": [
    {
     "name": "stdout",
     "output_type": "stream",
     "text": [
      "Orginal Shape: torch.Size([1, 28, 28]) -> [color_channel, height, width]\n",
      "Flattened X shape: torch.Size([1, 784]) -> [color_channel, height*width]\n"
     ]
    }
   ],
   "source": [
    "#creating a Flatten layer \n",
    "flatten_model = nn.Flatten()\n",
    "\n",
    "#get a single sample \n",
    "x = train_features_batch[0]\n",
    "\n",
    "print(f'Orginal Shape: {x.shape} -> [color_channel, height, width]')\n",
    "\n",
    "#Flatten the sample \n",
    "output = flatten_model(x)\n",
    "\n",
    "#print what's happening \n",
    "print(f'Flattened X shape: {output.shape} -> [color_channel, height*width]') #flattened output"
   ]
  },
  {
   "cell_type": "code",
   "execution_count": 50,
   "id": "21e6cdac-7482-4a8c-909e-955cd354b985",
   "metadata": {},
   "outputs": [
    {
     "data": {
      "text/plain": [
       "784"
      ]
     },
     "execution_count": 50,
     "metadata": {},
     "output_type": "execute_result"
    }
   ],
   "source": [
    "28*28 "
   ]
  },
  {
   "cell_type": "markdown",
   "id": "c4683ee2-777d-4dc5-9218-e26e9bc13d00",
   "metadata": {},
   "source": [
    "One value per pixel!"
   ]
  },
  {
   "cell_type": "code",
   "execution_count": 51,
   "id": "3f1aacee-13fe-45a9-8f64-1f4fdbbd0bde",
   "metadata": {},
   "outputs": [],
   "source": [
    "from torch import nn \n",
    "\n",
    "class FashionMNISTModelV0(nn.Module):\n",
    "    def __init__(self, input_shape: int, hidden_units: int, output_shape: int):\n",
    "        super().__init__()\n",
    "        self.layer_stack = nn.Sequential(\n",
    "            nn.Flatten(),\n",
    "            nn.Linear(in_features=input_shape, out_features=hidden_units),\n",
    "            nn.Linear(in_features=hidden_units, out_features=output_shape)\n",
    "        ) \n",
    "    def forward(self,x: torch.Tensor) -> torch.Tensor:\n",
    "        return self.layer_stack(x)"
   ]
  },
  {
   "cell_type": "code",
   "execution_count": 52,
   "id": "7a0df96c-7229-4b1e-aa75-60e829193fe0",
   "metadata": {},
   "outputs": [],
   "source": [
    "#does our model need non-linearity to learn!\n",
    "#let's find out!\n",
    "\n",
    "torch.manual_seed(42)\n",
    "\n",
    "#setup model with input parameters\n",
    "model_0 = FashionMNISTModelV0(input_shape=784, #28*28 (flattened)\n",
    "                              hidden_units=524,\n",
    "                             output_shape=len(class_names) #class labels\n",
    "                             ).to('cpu')"
   ]
  },
  {
   "cell_type": "code",
   "execution_count": 53,
   "id": "d5e63f38-35a4-43ad-82c6-ab181a05c7ea",
   "metadata": {},
   "outputs": [
    {
     "data": {
      "text/plain": [
       "torch.Size([1, 1, 28, 28])"
      ]
     },
     "execution_count": 53,
     "metadata": {},
     "output_type": "execute_result"
    }
   ],
   "source": [
    "#pass a dummy x \n",
    "dummy_x = torch.rand([1,1,28,28]) #[batch_size (1), color_channels(1) - gray, height, weight]\n",
    "\n",
    "dummy_x.shape"
   ]
  },
  {
   "cell_type": "code",
   "execution_count": 54,
   "id": "55f99fa1-dbc0-4fc3-bae2-1afef0337804",
   "metadata": {},
   "outputs": [
    {
     "data": {
      "text/plain": [
       "<matplotlib.image.AxesImage at 0x139d3418970>"
      ]
     },
     "execution_count": 54,
     "metadata": {},
     "output_type": "execute_result"
    },
    {
     "data": {
      "image/png": "[encoded data removed]",
      "text/plain": [
       "<Figure size 640x480 with 1 Axes>"
      ]
     },
     "metadata": {},
     "output_type": "display_data"
    }
   ],
   "source": [
    "#plot this dummy x (random)\n",
    "plt.imshow(dummy_x.squeeze())"
   ]
  },
  {
   "cell_type": "code",
   "execution_count": 55,
   "id": "0dac53c4-c755-4ff3-ba5e-de679dd7bc3f",
   "metadata": {},
   "outputs": [
    {
     "data": {
      "text/plain": [
       "tensor([[ 0.1566, -0.0282,  0.0274, -0.2790,  0.4473,  0.1897, -0.0755, -0.0300,\n",
       "         -0.0104,  0.0050]], grad_fn=<AddmmBackward0>)"
      ]
     },
     "execution_count": 55,
     "metadata": {},
     "output_type": "execute_result"
    }
   ],
   "source": [
    "model_0(dummy_x)"
   ]
  },
  {
   "cell_type": "code",
   "execution_count": 56,
   "id": "14c7ce7b-9e96-4d3c-9baf-069f6de803e4",
   "metadata": {},
   "outputs": [
    {
     "data": {
      "text/plain": [
       "OrderedDict([('layer_stack.1.weight',\n",
       "              tensor([[ 0.0273,  0.0296, -0.0084,  ..., -0.0142,  0.0093,  0.0135],\n",
       "                      [-0.0188, -0.0354,  0.0187,  ..., -0.0106, -0.0001,  0.0115],\n",
       "                      [-0.0008,  0.0017,  0.0045,  ..., -0.0127, -0.0188,  0.0059],\n",
       "                      ...,\n",
       "                      [-0.0041,  0.0226, -0.0340,  ...,  0.0312, -0.0041,  0.0036],\n",
       "                      [-0.0144, -0.0357, -0.0258,  ...,  0.0058, -0.0035,  0.0034],\n",
       "                      [ 0.0311, -0.0223, -0.0316,  ...,  0.0181, -0.0326,  0.0032]])),\n",
       "             ('layer_stack.1.bias',\n",
       "              tensor([-0.0141,  0.0156,  0.0253,  0.0164,  0.0193, -0.0355, -0.0276,  0.0266,\n",
       "                      -0.0250, -0.0264,  0.0052, -0.0179,  0.0296,  0.0309, -0.0246,  0.0017,\n",
       "                      -0.0017, -0.0159,  0.0062,  0.0316,  0.0211,  0.0215,  0.0133, -0.0229,\n",
       "                      -0.0190,  0.0186, -0.0297,  0.0193,  0.0146, -0.0201,  0.0235, -0.0294,\n",
       "                      -0.0247, -0.0267,  0.0049,  0.0141,  0.0341,  0.0112, -0.0039,  0.0342,\n",
       "                       0.0226, -0.0181,  0.0010, -0.0276, -0.0155,  0.0076,  0.0165,  0.0210,\n",
       "                       0.0316, -0.0193,  0.0195,  0.0252, -0.0251,  0.0295,  0.0114, -0.0239,\n",
       "                      -0.0096, -0.0319,  0.0169,  0.0092,  0.0087,  0.0232,  0.0343, -0.0023,\n",
       "                      -0.0057, -0.0267,  0.0292,  0.0144,  0.0092,  0.0157, -0.0231, -0.0087,\n",
       "                      -0.0198, -0.0224, -0.0026, -0.0082,  0.0298, -0.0119, -0.0314,  0.0031,\n",
       "                       0.0288, -0.0087, -0.0220, -0.0203,  0.0029,  0.0230, -0.0292,  0.0252,\n",
       "                      -0.0297,  0.0249, -0.0299, -0.0132,  0.0322,  0.0352, -0.0018, -0.0321,\n",
       "                      -0.0342,  0.0233, -0.0159,  0.0184,  0.0055, -0.0298,  0.0170,  0.0013,\n",
       "                      -0.0071,  0.0340, -0.0125,  0.0064, -0.0160, -0.0211, -0.0006,  0.0274,\n",
       "                      -0.0098, -0.0160, -0.0013,  0.0258, -0.0318, -0.0270,  0.0024,  0.0246,\n",
       "                       0.0117, -0.0108,  0.0028,  0.0087, -0.0035,  0.0024,  0.0299,  0.0234,\n",
       "                       0.0234, -0.0322,  0.0167, -0.0285,  0.0275,  0.0242, -0.0165, -0.0285,\n",
       "                       0.0108,  0.0246, -0.0324,  0.0123,  0.0008, -0.0128, -0.0200, -0.0173,\n",
       "                       0.0274, -0.0155,  0.0356,  0.0229,  0.0344,  0.0207, -0.0280, -0.0328,\n",
       "                      -0.0035,  0.0207, -0.0034,  0.0230,  0.0027, -0.0223, -0.0230,  0.0257,\n",
       "                      -0.0106, -0.0208, -0.0159,  0.0301,  0.0161,  0.0294,  0.0089,  0.0099,\n",
       "                       0.0253, -0.0214,  0.0096,  0.0027, -0.0307,  0.0018,  0.0116,  0.0277,\n",
       "                      -0.0271,  0.0158, -0.0284,  0.0249,  0.0292, -0.0138,  0.0101,  0.0235,\n",
       "                      -0.0076, -0.0117, -0.0348, -0.0192,  0.0068, -0.0317,  0.0215, -0.0142,\n",
       "                      -0.0248,  0.0266, -0.0180, -0.0193,  0.0264,  0.0354,  0.0277, -0.0134,\n",
       "                       0.0161,  0.0339, -0.0144, -0.0232, -0.0097,  0.0042, -0.0134,  0.0021,\n",
       "                      -0.0320,  0.0135,  0.0030,  0.0313,  0.0128, -0.0196,  0.0331,  0.0027,\n",
       "                      -0.0062,  0.0063,  0.0229,  0.0098, -0.0234, -0.0167,  0.0173, -0.0305,\n",
       "                      -0.0206,  0.0280, -0.0225, -0.0196, -0.0343, -0.0039,  0.0067,  0.0255,\n",
       "                       0.0151, -0.0337,  0.0195, -0.0043,  0.0032, -0.0287,  0.0337,  0.0153,\n",
       "                       0.0078, -0.0088,  0.0202, -0.0230,  0.0205,  0.0255,  0.0287, -0.0200,\n",
       "                       0.0341,  0.0295, -0.0201,  0.0158, -0.0271, -0.0248, -0.0130, -0.0194,\n",
       "                       0.0335, -0.0183,  0.0157, -0.0275,  0.0003,  0.0155,  0.0330,  0.0288,\n",
       "                      -0.0155,  0.0083,  0.0105, -0.0027, -0.0055,  0.0026, -0.0315,  0.0057,\n",
       "                      -0.0102, -0.0172,  0.0065, -0.0269,  0.0287,  0.0290, -0.0059,  0.0161,\n",
       "                       0.0040, -0.0016,  0.0031,  0.0234, -0.0324, -0.0189,  0.0332, -0.0354,\n",
       "                       0.0089,  0.0130,  0.0325, -0.0072,  0.0329, -0.0066, -0.0153, -0.0064,\n",
       "                      -0.0346, -0.0095, -0.0284, -0.0218, -0.0346, -0.0320,  0.0328, -0.0354,\n",
       "                      -0.0118,  0.0177,  0.0029, -0.0317,  0.0214, -0.0318, -0.0106, -0.0100,\n",
       "                      -0.0150,  0.0275,  0.0205,  0.0198,  0.0130, -0.0247,  0.0238,  0.0118,\n",
       "                       0.0189, -0.0027, -0.0100, -0.0023, -0.0032, -0.0079,  0.0322,  0.0128,\n",
       "                       0.0150,  0.0334, -0.0315, -0.0152, -0.0290, -0.0201,  0.0068, -0.0145,\n",
       "                      -0.0127, -0.0129, -0.0258, -0.0021, -0.0252,  0.0043,  0.0107,  0.0019,\n",
       "                       0.0027, -0.0119,  0.0155, -0.0263, -0.0151,  0.0339, -0.0028,  0.0102,\n",
       "                      -0.0180,  0.0276, -0.0047,  0.0282, -0.0150, -0.0217,  0.0107, -0.0001,\n",
       "                      -0.0336, -0.0130, -0.0228,  0.0073, -0.0156, -0.0336,  0.0296, -0.0104,\n",
       "                      -0.0231, -0.0070,  0.0161,  0.0096, -0.0332, -0.0133,  0.0088,  0.0012,\n",
       "                       0.0314,  0.0173,  0.0026, -0.0323, -0.0262,  0.0150,  0.0022,  0.0136,\n",
       "                      -0.0242,  0.0061, -0.0339,  0.0351,  0.0179, -0.0345, -0.0289,  0.0023,\n",
       "                      -0.0312, -0.0260,  0.0024, -0.0029, -0.0189,  0.0012, -0.0091,  0.0076,\n",
       "                      -0.0195,  0.0034, -0.0002,  0.0073,  0.0030,  0.0337,  0.0099,  0.0134,\n",
       "                      -0.0166,  0.0186, -0.0013,  0.0059,  0.0306, -0.0193,  0.0323,  0.0272,\n",
       "                      -0.0348, -0.0295, -0.0011, -0.0316, -0.0229,  0.0182, -0.0070, -0.0202,\n",
       "                       0.0187, -0.0055,  0.0121, -0.0013,  0.0173, -0.0168, -0.0315,  0.0323,\n",
       "                       0.0064,  0.0340,  0.0087,  0.0302, -0.0227, -0.0095,  0.0276,  0.0237,\n",
       "                       0.0221, -0.0327,  0.0032, -0.0047, -0.0044,  0.0192,  0.0110,  0.0221,\n",
       "                       0.0272, -0.0230,  0.0117,  0.0143,  0.0176, -0.0168, -0.0347,  0.0280,\n",
       "                       0.0343, -0.0084,  0.0152, -0.0090,  0.0270,  0.0122,  0.0087, -0.0230,\n",
       "                      -0.0320, -0.0138,  0.0088, -0.0176, -0.0338, -0.0152, -0.0118,  0.0111,\n",
       "                       0.0053, -0.0201, -0.0166,  0.0279,  0.0071,  0.0258,  0.0303,  0.0098,\n",
       "                      -0.0320,  0.0259,  0.0231,  0.0357, -0.0151, -0.0141,  0.0345, -0.0167,\n",
       "                       0.0044, -0.0158,  0.0217,  0.0044, -0.0305, -0.0022, -0.0253, -0.0112,\n",
       "                      -0.0082,  0.0285, -0.0085,  0.0325, -0.0224,  0.0108,  0.0033, -0.0033,\n",
       "                      -0.0035,  0.0327,  0.0126, -0.0047,  0.0027, -0.0311, -0.0200, -0.0263,\n",
       "                       0.0350,  0.0110,  0.0230, -0.0185, -0.0191, -0.0065, -0.0262,  0.0042,\n",
       "                       0.0237,  0.0337,  0.0136,  0.0292])),\n",
       "             ('layer_stack.2.weight',\n",
       "              tensor([[-0.0171, -0.0052,  0.0034,  ..., -0.0248, -0.0126, -0.0070],\n",
       "                      [ 0.0327, -0.0295,  0.0185,  ...,  0.0361, -0.0213, -0.0303],\n",
       "                      [ 0.0212,  0.0010,  0.0206,  ...,  0.0122, -0.0301, -0.0171],\n",
       "                      ...,\n",
       "                      [-0.0252, -0.0143,  0.0182,  ..., -0.0232, -0.0076,  0.0150],\n",
       "                      [ 0.0391,  0.0118, -0.0051,  ..., -0.0303,  0.0372,  0.0311],\n",
       "                      [ 0.0011, -0.0433,  0.0163,  ..., -0.0225,  0.0143, -0.0413]])),\n",
       "             ('layer_stack.2.bias',\n",
       "              tensor([ 0.0307,  0.0300, -0.0031, -0.0308, -0.0280,  0.0056, -0.0225,  0.0166,\n",
       "                      -0.0186,  0.0355]))])"
      ]
     },
     "execution_count": 56,
     "metadata": {},
     "output_type": "execute_result"
    }
   ],
   "source": [
    "model_0.state_dict()"
   ]
  },
  {
   "cell_type": "markdown",
   "id": "812c884f-a34f-4cda-9cc2-9d24d944b444",
   "metadata": {},
   "source": [
    "### 3.1 Setup Loss, Optimizer and Evaluation metrics\n",
    "\n",
    "* **Loss function** - since we're working with multi-class data, our loss function will be `nn.CrossEntropyLoss()` \n",
    "* **Optimizer** - SGD or Adam.\n",
    "* **Evaluation Metric** - since we are working with classification, let's use Accuracy as our evaluation metric. "
   ]
  },
  {
   "cell_type": "code",
   "execution_count": 57,
   "id": "42b2158a-28a2-4ac0-b10d-3db3f09fac99",
   "metadata": {},
   "outputs": [
    {
     "name": "stdout",
     "output_type": "stream",
     "text": [
      "Downloading helper_function.py\n"
     ]
    }
   ],
   "source": [
    "import requests \n",
    "from pathlib import Path\n",
    "\n",
    "#Download helper functions from repo\n",
    "url = 'https://raw.githubusercontent.com/mrdbourke/pytorch-deep-learning/main/helper_functions.py'\n",
    "\n",
    "if Path('helper_functions.py').is_file(): \n",
    "    print('helper_function.py Already exists!, Skipping Download...')\n",
    "else: \n",
    "    print('Downloading helper_function.py')\n",
    "    request = requests.get(url)\n",
    "    with open('helper_function.py','wb') as f: \n",
    "        f.write(request.content)"
   ]
  },
  {
   "cell_type": "code",
   "execution_count": 58,
   "id": "660792b1-c5b0-4263-84b0-b4006aeabe79",
   "metadata": {},
   "outputs": [],
   "source": [
    "#import accuracy metric \n",
    "from helper_function import accuracy_fn\n",
    "\n",
    "#setup loss function\n",
    "loss_fn = nn.CrossEntropyLoss() \n",
    "\n",
    "#setup optimizer \n",
    "optimizer = torch.optim.SGD(params=model_0.parameters(), \n",
    "                            lr=0.1)"
   ]
  },
  {
   "cell_type": "markdown",
   "id": "84dd9169-925a-4367-b2d4-001ee8087066",
   "metadata": {},
   "source": [
    "### 3.2 Creating a function to time our experiments \n",
    "\n",
    "Machine Learning is very experimental. \n",
    "\n",
    "Two of the main things you'll often want to track are: \n",
    "\n",
    "1. Model's Performance (loss and Accuracy values). (Effective-ness)\n",
    "2. How fast it runs. (Efficency)"
   ]
  },
  {
   "cell_type": "code",
   "execution_count": 59,
   "id": "7471e5a3-46ab-4d00-92a5-9cc1336af15f",
   "metadata": {},
   "outputs": [],
   "source": [
    "from timeit import default_timer as timer \n",
    "\n",
    "def print_train_time(start: float, end: float, device: torch.device = None):\n",
    "    '''\n",
    "    Prints Difference between start and end time.\n",
    "    '''\n",
    "    total_time = end - start \n",
    "    print(f'Train time on {device}: {total_time:.3f} seconds')\n",
    "    return total_time"
   ]
  },
  {
   "cell_type": "code",
   "execution_count": 60,
   "id": "44f19227-39a9-48ac-ba15-758b0c8a4cb2",
   "metadata": {},
   "outputs": [
    {
     "name": "stdout",
     "output_type": "stream",
     "text": [
      "Train time on cpu: 0.000 seconds\n"
     ]
    },
    {
     "data": {
      "text/plain": [
       "4.4899992644786835e-05"
      ]
     },
     "execution_count": 60,
     "metadata": {},
     "output_type": "execute_result"
    }
   ],
   "source": [
    "#sample test \n",
    "start_time = timer() \n",
    "##\n",
    "## Some code here!\n",
    "##\n",
    "end_time = timer() \n",
    "print_train_time(start=start_time, end=end_time, device='cpu')"
   ]
  },
  {
   "cell_type": "markdown",
   "id": "55802922-a6f3-492e-a863-b40e09c02cbf",
   "metadata": {},
   "source": [
    "### 3.3 Creating a Training Loop and training a Model on batches of data.\n",
    "\n",
    "1. Loop through epochs.\n",
    "2. Loop through training batches, perform training steps, calculate the train loss **per batch**.\n",
    "3. Loop through testing batches, perform testing steps, calculate the test loss **per batch**.\n",
    "4. Print out what's happening.\n",
    "5. Time it all."
   ]
  },
  {
   "cell_type": "code",
   "execution_count": 61,
   "id": "9e4f668e-97c7-4f49-adcc-c2048355d383",
   "metadata": {},
   "outputs": [],
   "source": [
    "#import tqdm for progress bar"
   ]
  },
  {
   "cell_type": "code",
   "execution_count": 62,
   "id": "337fb42a-50b5-47f5-9b9e-8d295cd03c8f",
   "metadata": {},
   "outputs": [
    {
     "name": "stderr",
     "output_type": "stream",
     "text": [
      "  0%|                                                                                            | 0/3 [00:00<?, ?it/s]"
     ]
    },
    {
     "name": "stdout",
     "output_type": "stream",
     "text": [
      "Epoch: 0\n",
      "------\n",
      "Looked at 0/60000 samples.\n",
      "Looked at 12800/60000 samples.\n",
      "Looked at 25600/60000 samples.\n",
      "Looked at 38400/60000 samples.\n",
      "Looked at 51200/60000 samples.\n"
     ]
    },
    {
     "name": "stderr",
     "output_type": "stream",
     "text": [
      " 33%|████████████████████████████                                                        | 1/3 [00:35<01:10, 35.02s/it]"
     ]
    },
    {
     "name": "stdout",
     "output_type": "stream",
     "text": [
      "\n",
      "Train Loss: 0.5696 | Test Loss: 0.5005 - Test Acc: 82.5379\n",
      "Epoch: 1\n",
      "------\n",
      "Looked at 0/60000 samples.\n",
      "Looked at 12800/60000 samples.\n",
      "Looked at 25600/60000 samples.\n",
      "Looked at 38400/60000 samples.\n",
      "Looked at 51200/60000 samples.\n"
     ]
    },
    {
     "name": "stderr",
     "output_type": "stream",
     "text": [
      " 67%|████████████████████████████████████████████████████████                            | 2/3 [01:09<00:34, 34.94s/it]"
     ]
    },
    {
     "name": "stdout",
     "output_type": "stream",
     "text": [
      "\n",
      "Train Loss: 0.4738 | Test Loss: 0.4848 - Test Acc: 82.9073\n",
      "Epoch: 2\n",
      "------\n",
      "Looked at 0/60000 samples.\n",
      "Looked at 12800/60000 samples.\n",
      "Looked at 25600/60000 samples.\n",
      "Looked at 38400/60000 samples.\n",
      "Looked at 51200/60000 samples.\n"
     ]
    },
    {
     "name": "stderr",
     "output_type": "stream",
     "text": [
      "100%|████████████████████████████████████████████████████████████████████████████████████| 3/3 [01:51<00:00, 37.19s/it]"
     ]
    },
    {
     "name": "stdout",
     "output_type": "stream",
     "text": [
      "\n",
      "Train Loss: 0.4539 | Test Loss: 0.4770 - Test Acc: 83.4565\n",
      "Train time on cpu: 111.568 seconds\n"
     ]
    },
    {
     "name": "stderr",
     "output_type": "stream",
     "text": [
      "\n"
     ]
    }
   ],
   "source": [
    "#import tqdm for progress bar \n",
    "from tqdm import tqdm \n",
    "\n",
    "#set the seed and start tim\n",
    "torch.manual_seed(42)\n",
    "train_time_start_on_cpu = timer()\n",
    "\n",
    "#set the number of Epochs \n",
    "EPOCHS = 3 \n",
    "\n",
    "#Create training and test loop \n",
    "for epoch in tqdm(range(EPOCHS)):\n",
    "    print(f'Epoch: {epoch}\\n------')\n",
    "    #Training \n",
    "    train_loss = 0\n",
    "    #Add a loop to loop through the training batches\n",
    "    for batch, (X,y) in enumerate(train_dataloader):\n",
    "        #training mode\n",
    "        model_0.train()\n",
    "        #1. forward pass \n",
    "        y_pred = model_0(X)\n",
    "\n",
    "        #2. Calculate the loss (per Batch) \n",
    "        loss = loss_fn(y_pred, y)\n",
    "        train_loss += loss # accumulate the train loss\n",
    "\n",
    "        #3. optimizer zero grad \n",
    "        optimizer.zero_grad()\n",
    "\n",
    "        #4. Loss backwards \n",
    "        loss.backward()\n",
    "\n",
    "        #5. optimizer step \n",
    "        optimizer.step()\n",
    "\n",
    "        #printing out what's happening\n",
    "        if batch % 400 == 0: \n",
    "            print(f'Looked at {batch * len(X)}/{len(train_dataloader.dataset)} samples.')\n",
    "\n",
    "    #Divide total train loss by length of train dataloader \n",
    "    train_loss /= len(train_dataloader)\n",
    "\n",
    "    ### Testing\n",
    "    test_loss, test_acc = 0,0 \n",
    "    model_0.eval()\n",
    "    with torch.inference_mode():\n",
    "        for X_test, y_test in test_dataloader:\n",
    "            #1. forward pass \n",
    "            test_pred = model_0(X_test)\n",
    "\n",
    "            #2. calculate the loss (accumulatively)\n",
    "            test_loss += loss_fn(test_pred, y_test )\n",
    "\n",
    "            #3 accuracy \n",
    "            test_acc += accuracy_fn(y_true=y_test, y_pred=test_pred.argmax(dim=1)) \n",
    "     \n",
    "        ## Calculate the Test loss Average per batch\n",
    "        test_loss /= len(test_dataloader)\n",
    "    \n",
    "        ## calculate the test accuracy average per batch\n",
    "        test_acc /= len(test_dataloader)\n",
    "\n",
    "    #printing what's happening!\n",
    "    print(f'\\nTrain Loss: {train_loss:.4f} | Test Loss: {test_loss:.4f} - Test Acc: {test_acc:.4f}')\n",
    "\n",
    "#calculate training time\n",
    "train_time_end_on_cpu = timer()\n",
    "total_train_time_model_0 = print_train_time(start=train_time_start_on_cpu, \n",
    "                                            end=train_time_end_on_cpu, \n",
    "                                            device=str(next(model_0.parameters()).device))"
   ]
  },
  {
   "cell_type": "code",
   "execution_count": 63,
   "id": "63f1de31-6cf4-4823-b0e7-82189c13b399",
   "metadata": {},
   "outputs": [
    {
     "data": {
      "text/plain": [
       "'cpu'"
      ]
     },
     "execution_count": 63,
     "metadata": {},
     "output_type": "execute_result"
    }
   ],
   "source": [
    "str(next(model_0.parameters()).device)"
   ]
  },
  {
   "cell_type": "markdown",
   "id": "2c6a56c5-6ade-4a45-9485-a2f778afe4d1",
   "metadata": {},
   "source": [
    "## 4. Make Predictions and get Model 0 results"
   ]
  },
  {
   "cell_type": "code",
   "execution_count": 71,
   "id": "6e2ca47d-f46e-4d85-b513-840d3d1c99f5",
   "metadata": {},
   "outputs": [],
   "source": [
    "#random seed\n",
    "torch.manual_seed(42) \n",
    "\n",
    "def eval_model(model: torch.nn.Module,\n",
    "              data_loader: torch.utils.data.DataLoader, loss_fn: torch.nn.Module, accuracy_fn, device):\n",
    "    \"\"\"Returns a dictionary containing the results of model predicting on data_loader. \"\"\"\n",
    "    \n",
    "    loss, acc = 0, 0\n",
    "    model.eval() \n",
    "    with torch.inference_mode():\n",
    "        for X,y in tqdm(data_loader):\n",
    "            # put the data on device \n",
    "            X, y = X.to(device), y.to(device)\n",
    "            # Make Predictions\n",
    "            y_pred = model(X)\n",
    "\n",
    "            #Accumulate the loss and acc values per batch\n",
    "            loss += loss_fn(y_pred, y)\n",
    "            acc += accuracy_fn(y, y_pred.argmax(dim=1))\n",
    "        \n",
    "        # Scale loss and acc to find the average loss/acc per batch. \n",
    "        loss /= len(data_loader)\n",
    "        acc /= len(data_loader)\n",
    "\n",
    "    return {'model_name': model.__class__.__name__, #only works when our model was created with a Class\n",
    "           'model_loss': loss.item(), \n",
    "           'model_acc':acc}"
   ]
  },
  {
   "cell_type": "code",
   "execution_count": 72,
   "id": "d03d5817-6bdf-4ef3-bbab-70f6b1bfea6a",
   "metadata": {},
   "outputs": [
    {
     "name": "stderr",
     "output_type": "stream",
     "text": [
      "100%|███████████████████████████████████████████████████████████████████████████████| 313/313 [00:02<00:00, 132.24it/s]\n"
     ]
    },
    {
     "data": {
      "text/plain": [
       "{'model_name': 'FashionMNISTModelV0',\n",
       " 'model_loss': 0.4770430326461792,\n",
       " 'model_acc': 83.4564696485623}"
      ]
     },
     "execution_count": 72,
     "metadata": {},
     "output_type": "execute_result"
    }
   ],
   "source": [
    "#Calculate model_0 results on test dataset\n",
    "model_0_results = eval_model(model=model_0, \n",
    "                             data_loader=test_dataloader,\n",
    "                             loss_fn=loss_fn, \n",
    "                             accuracy_fn=accuracy_fn, device='cpu')\n",
    "model_0_results"
   ]
  },
  {
   "cell_type": "markdown",
   "id": "9e931fdd-4182-4507-a21b-d54d245f2df6",
   "metadata": {},
   "source": [
    "## 5. Setup Device Agnostic-code (for using a GPU if there is one!)"
   ]
  },
  {
   "cell_type": "code",
   "execution_count": 73,
   "id": "1df0fb4c-724e-4730-9dbf-176a87462ce0",
   "metadata": {},
   "outputs": [
    {
     "name": "stdout",
     "output_type": "stream",
     "text": [
      "Fri Dec  8 11:13:51 2023       \n",
      "+-----------------------------------------------------------------------------+\n",
      "| NVIDIA-SMI 529.08       Driver Version: 529.08       CUDA Version: 12.0     |\n",
      "|-------------------------------+----------------------+----------------------+\n",
      "| GPU  Name            TCC/WDDM | Bus-Id        Disp.A | Volatile Uncorr. ECC |\n",
      "| Fan  Temp  Perf  Pwr:Usage/Cap|         Memory-Usage | GPU-Util  Compute M. |\n",
      "|                               |                      |               MIG M. |\n",
      "|===============================+======================+======================|\n",
      "|   0  NVIDIA T1200 La... WDDM  | 00000000:01:00.0 Off |                  N/A |\n",
      "| N/A   31C    P8     6W /  30W |     55MiB /  4096MiB |      0%      Default |\n",
      "|                               |                      |                  N/A |\n",
      "+-------------------------------+----------------------+----------------------+\n",
      "                                                                               \n",
      "+-----------------------------------------------------------------------------+\n",
      "| Processes:                                                                  |\n",
      "|  GPU   GI   CI        PID   Type   Process name                  GPU Memory |\n",
      "|        ID   ID                                                   Usage      |\n",
      "|=============================================================================|\n",
      "|    0   N/A  N/A     19976    C+G   ...ser\\Application\\brave.exe    N/A      |\n",
      "+-----------------------------------------------------------------------------+\n"
     ]
    }
   ],
   "source": [
    "!nvidia-smi"
   ]
  },
  {
   "cell_type": "code",
   "execution_count": 74,
   "id": "23f8a3f1-3ef1-4480-b5c0-d0ba893bde89",
   "metadata": {},
   "outputs": [
    {
     "name": "stdout",
     "output_type": "stream",
     "text": [
      "Target Device: cuda\n"
     ]
    }
   ],
   "source": [
    "device = 'cuda' if torch.cuda.is_available() else 'cpu'\n",
    "\n",
    "print(f'Target Device: {device}')"
   ]
  },
  {
   "cell_type": "markdown",
   "id": "ae1fc322-34da-431a-93a8-4e4549d7ff22",
   "metadata": {},
   "source": [
    "### 6. Model-1: Building a better model with (Linearity & Non-Linearity) \n",
    "\n",
    "We learned about the power of Non-linearity"
   ]
  },
  {
   "cell_type": "code",
   "execution_count": 75,
   "id": "fb7a568d-2cfa-439c-9c5a-53bd2d08147d",
   "metadata": {},
   "outputs": [],
   "source": [
    "#Create a model with linear layers and non-linear layers\n",
    "from torch import nn \n",
    "class FashionMNISTModelV1(nn.Module):\n",
    "    def __init__(self, input_shape: int, hidden_units:int, output_shape: int):\n",
    "        super().__init__()\n",
    "        self.layers_stack = nn.Sequential(\n",
    "            nn.Flatten(), # flatten inputs into single vector.\n",
    "            nn.Linear(in_features=input_shape, out_features=hidden_units),\n",
    "            nn.ReLU(),\n",
    "            nn.Linear(in_features=hidden_units, out_features=hidden_units),\n",
    "            nn.ReLU(),\n",
    "            nn.Linear(in_features=hidden_units, out_features=output_shape)\n",
    "        )\n",
    "\n",
    "    def forward(self,x: torch.Tensor) -> torch.Tensor:\n",
    "        return self.layers_stack(x)"
   ]
  },
  {
   "cell_type": "code",
   "execution_count": 76,
   "id": "136401fd-35b6-41d7-8585-31968da25574",
   "metadata": {},
   "outputs": [
    {
     "data": {
      "text/plain": [
       "784"
      ]
     },
     "execution_count": 76,
     "metadata": {},
     "output_type": "execute_result"
    }
   ],
   "source": [
    "28*28"
   ]
  },
  {
   "cell_type": "code",
   "execution_count": 77,
   "id": "d94b9809-b805-43c5-b5d4-6f05c954337f",
   "metadata": {},
   "outputs": [
    {
     "data": {
      "text/plain": [
       "FashionMNISTModelV1(\n",
       "  (layers_stack): Sequential(\n",
       "    (0): Flatten(start_dim=1, end_dim=-1)\n",
       "    (1): Linear(in_features=784, out_features=524, bias=True)\n",
       "    (2): ReLU()\n",
       "    (3): Linear(in_features=524, out_features=524, bias=True)\n",
       "    (4): ReLU()\n",
       "    (5): Linear(in_features=524, out_features=10, bias=True)\n",
       "  )\n",
       ")"
      ]
     },
     "execution_count": 77,
     "metadata": {},
     "output_type": "execute_result"
    }
   ],
   "source": [
    "#create a instance of model\n",
    "model_1 = FashionMNISTModelV1(input_shape=784, hidden_units=524, output_shape=len(class_names))\n",
    "\n",
    "model_1.to(device)"
   ]
  },
  {
   "cell_type": "code",
   "execution_count": 78,
   "id": "bf01e9cc-1c62-4a4c-96d2-ddeeca4a1809",
   "metadata": {},
   "outputs": [
    {
     "data": {
      "text/plain": [
       "OrderedDict([('layers_stack.1.weight',\n",
       "              tensor([[-0.0084,  0.0328, -0.0078,  ...,  0.0135, -0.0188, -0.0354],\n",
       "                      [ 0.0187,  0.0085, -0.0182,  ...,  0.0115, -0.0008,  0.0017],\n",
       "                      [ 0.0045,  0.0133, -0.0108,  ...,  0.0059,  0.0100,  0.0273],\n",
       "                      ...,\n",
       "                      [-0.0340,  0.0078,  0.0110,  ...,  0.0036, -0.0144, -0.0357],\n",
       "                      [-0.0258, -0.0112,  0.0320,  ...,  0.0034,  0.0311, -0.0223],\n",
       "                      [-0.0316,  0.0255, -0.0300,  ...,  0.0032, -0.0141,  0.0156]],\n",
       "                     device='cuda:0')),\n",
       "             ('layers_stack.1.bias',\n",
       "              tensor([ 0.0253,  0.0164,  0.0193, -0.0355, -0.0276,  0.0266, -0.0250, -0.0264,\n",
       "                       0.0052, -0.0179,  0.0296,  0.0309, -0.0246,  0.0017, -0.0017, -0.0159,\n",
       "                       0.0062,  0.0316,  0.0211,  0.0215,  0.0133, -0.0229, -0.0190,  0.0186,\n",
       "                      -0.0297,  0.0193,  0.0146, -0.0201,  0.0235, -0.0294, -0.0247, -0.0267,\n",
       "                       0.0049,  0.0141,  0.0341,  0.0112, -0.0039,  0.0342,  0.0226, -0.0181,\n",
       "                       0.0010, -0.0276, -0.0155,  0.0076,  0.0165,  0.0210,  0.0316, -0.0193,\n",
       "                       0.0195,  0.0252, -0.0251,  0.0295,  0.0114, -0.0239, -0.0096, -0.0319,\n",
       "                       0.0169,  0.0092,  0.0087,  0.0232,  0.0343, -0.0023, -0.0057, -0.0267,\n",
       "                       0.0292,  0.0144,  0.0092,  0.0157, -0.0231, -0.0087, -0.0198, -0.0224,\n",
       "                      -0.0026, -0.0082,  0.0298, -0.0119, -0.0314,  0.0031,  0.0288, -0.0087,\n",
       "                      -0.0220, -0.0203,  0.0029,  0.0230, -0.0292,  0.0252, -0.0297,  0.0249,\n",
       "                      -0.0299, -0.0132,  0.0322,  0.0352, -0.0018, -0.0321, -0.0342,  0.0233,\n",
       "                      -0.0159,  0.0184,  0.0055, -0.0298,  0.0170,  0.0013, -0.0071,  0.0340,\n",
       "                      -0.0125,  0.0064, -0.0160, -0.0211, -0.0006,  0.0274, -0.0098, -0.0160,\n",
       "                      -0.0013,  0.0258, -0.0318, -0.0270,  0.0024,  0.0246,  0.0117, -0.0108,\n",
       "                       0.0028,  0.0087, -0.0035,  0.0024,  0.0299,  0.0234,  0.0234, -0.0322,\n",
       "                       0.0167, -0.0285,  0.0275,  0.0242, -0.0165, -0.0285,  0.0108,  0.0246,\n",
       "                      -0.0324,  0.0123,  0.0008, -0.0128, -0.0200, -0.0173,  0.0274, -0.0155,\n",
       "                       0.0356,  0.0229,  0.0344,  0.0207, -0.0280, -0.0328, -0.0035,  0.0207,\n",
       "                      -0.0034,  0.0230,  0.0027, -0.0223, -0.0230,  0.0257, -0.0106, -0.0208,\n",
       "                      -0.0159,  0.0301,  0.0161,  0.0294,  0.0089,  0.0099,  0.0253, -0.0214,\n",
       "                       0.0096,  0.0027, -0.0307,  0.0018,  0.0116,  0.0277, -0.0271,  0.0158,\n",
       "                      -0.0284,  0.0249,  0.0292, -0.0138,  0.0101,  0.0235, -0.0076, -0.0117,\n",
       "                      -0.0348, -0.0192,  0.0068, -0.0317,  0.0215, -0.0142, -0.0248,  0.0266,\n",
       "                      -0.0180, -0.0193,  0.0264,  0.0354,  0.0277, -0.0134,  0.0161,  0.0339,\n",
       "                      -0.0144, -0.0232, -0.0097,  0.0042, -0.0134,  0.0021, -0.0320,  0.0135,\n",
       "                       0.0030,  0.0313,  0.0128, -0.0196,  0.0331,  0.0027, -0.0062,  0.0063,\n",
       "                       0.0229,  0.0098, -0.0234, -0.0167,  0.0173, -0.0305, -0.0206,  0.0280,\n",
       "                      -0.0225, -0.0196, -0.0343, -0.0039,  0.0067,  0.0255,  0.0151, -0.0337,\n",
       "                       0.0195, -0.0043,  0.0032, -0.0287,  0.0337,  0.0153,  0.0078, -0.0088,\n",
       "                       0.0202, -0.0230,  0.0205,  0.0255,  0.0287, -0.0200,  0.0341,  0.0295,\n",
       "                      -0.0201,  0.0158, -0.0271, -0.0248, -0.0130, -0.0194,  0.0335, -0.0183,\n",
       "                       0.0157, -0.0275,  0.0003,  0.0155,  0.0330,  0.0288, -0.0155,  0.0083,\n",
       "                       0.0105, -0.0027, -0.0055,  0.0026, -0.0315,  0.0057, -0.0102, -0.0172,\n",
       "                       0.0065, -0.0269,  0.0287,  0.0290, -0.0059,  0.0161,  0.0040, -0.0016,\n",
       "                       0.0031,  0.0234, -0.0324, -0.0189,  0.0332, -0.0354,  0.0089,  0.0130,\n",
       "                       0.0325, -0.0072,  0.0329, -0.0066, -0.0153, -0.0064, -0.0346, -0.0095,\n",
       "                      -0.0284, -0.0218, -0.0346, -0.0320,  0.0328, -0.0354, -0.0118,  0.0177,\n",
       "                       0.0029, -0.0317,  0.0214, -0.0318, -0.0106, -0.0100, -0.0150,  0.0275,\n",
       "                       0.0205,  0.0198,  0.0130, -0.0247,  0.0238,  0.0118,  0.0189, -0.0027,\n",
       "                      -0.0100, -0.0023, -0.0032, -0.0079,  0.0322,  0.0128,  0.0150,  0.0334,\n",
       "                      -0.0315, -0.0152, -0.0290, -0.0201,  0.0068, -0.0145, -0.0127, -0.0129,\n",
       "                      -0.0258, -0.0021, -0.0252,  0.0043,  0.0107,  0.0019,  0.0027, -0.0119,\n",
       "                       0.0155, -0.0263, -0.0151,  0.0339, -0.0028,  0.0102, -0.0180,  0.0276,\n",
       "                      -0.0047,  0.0282, -0.0150, -0.0217,  0.0107, -0.0001, -0.0336, -0.0130,\n",
       "                      -0.0228,  0.0073, -0.0156, -0.0336,  0.0296, -0.0104, -0.0231, -0.0070,\n",
       "                       0.0161,  0.0096, -0.0332, -0.0133,  0.0088,  0.0012,  0.0314,  0.0173,\n",
       "                       0.0026, -0.0323, -0.0262,  0.0150,  0.0022,  0.0136, -0.0242,  0.0061,\n",
       "                      -0.0339,  0.0351,  0.0179, -0.0345, -0.0289,  0.0023, -0.0312, -0.0260,\n",
       "                       0.0024, -0.0029, -0.0189,  0.0012, -0.0091,  0.0076, -0.0195,  0.0034,\n",
       "                      -0.0002,  0.0073,  0.0030,  0.0337,  0.0099,  0.0134, -0.0166,  0.0186,\n",
       "                      -0.0013,  0.0059,  0.0306, -0.0193,  0.0323,  0.0272, -0.0348, -0.0295,\n",
       "                      -0.0011, -0.0316, -0.0229,  0.0182, -0.0070, -0.0202,  0.0187, -0.0055,\n",
       "                       0.0121, -0.0013,  0.0173, -0.0168, -0.0315,  0.0323,  0.0064,  0.0340,\n",
       "                       0.0087,  0.0302, -0.0227, -0.0095,  0.0276,  0.0237,  0.0221, -0.0327,\n",
       "                       0.0032, -0.0047, -0.0044,  0.0192,  0.0110,  0.0221,  0.0272, -0.0230,\n",
       "                       0.0117,  0.0143,  0.0176, -0.0168, -0.0347,  0.0280,  0.0343, -0.0084,\n",
       "                       0.0152, -0.0090,  0.0270,  0.0122,  0.0087, -0.0230, -0.0320, -0.0138,\n",
       "                       0.0088, -0.0176, -0.0338, -0.0152, -0.0118,  0.0111,  0.0053, -0.0201,\n",
       "                      -0.0166,  0.0279,  0.0071,  0.0258,  0.0303,  0.0098, -0.0320,  0.0259,\n",
       "                       0.0231,  0.0357, -0.0151, -0.0141,  0.0345, -0.0167,  0.0044, -0.0158,\n",
       "                       0.0217,  0.0044, -0.0305, -0.0022, -0.0253, -0.0112, -0.0082,  0.0285,\n",
       "                      -0.0085,  0.0325, -0.0224,  0.0108,  0.0033, -0.0033, -0.0035,  0.0327,\n",
       "                       0.0126, -0.0047,  0.0027, -0.0311, -0.0200, -0.0263,  0.0350,  0.0110,\n",
       "                       0.0230, -0.0185, -0.0191, -0.0065, -0.0262,  0.0042,  0.0237,  0.0337,\n",
       "                       0.0136,  0.0292, -0.0140, -0.0042], device='cuda:0')),\n",
       "             ('layers_stack.3.weight',\n",
       "              tensor([[ 0.0034,  0.0412,  0.0180,  ..., -0.0070,  0.0327, -0.0295],\n",
       "                      [ 0.0185,  0.0364, -0.0434,  ..., -0.0303,  0.0212,  0.0010],\n",
       "                      [ 0.0206,  0.0290,  0.0232,  ..., -0.0171, -0.0299,  0.0223],\n",
       "                      ...,\n",
       "                      [-0.0278,  0.0294, -0.0268,  ..., -0.0211,  0.0110,  0.0210],\n",
       "                      [-0.0348,  0.0246,  0.0131,  ..., -0.0091,  0.0135, -0.0194],\n",
       "                      [-0.0338,  0.0143, -0.0147,  ..., -0.0119,  0.0084,  0.0256]],\n",
       "                     device='cuda:0')),\n",
       "             ('layers_stack.3.bias',\n",
       "              tensor([-0.0258, -0.0346,  0.0402,  0.0002, -0.0387,  0.0299,  0.0229, -0.0289,\n",
       "                      -0.0115, -0.0088, -0.0081,  0.0376,  0.0309, -0.0268,  0.0341,  0.0378,\n",
       "                      -0.0124, -0.0409, -0.0149,  0.0024,  0.0178, -0.0229,  0.0244,  0.0273,\n",
       "                      -0.0251,  0.0401,  0.0425, -0.0018,  0.0012, -0.0318,  0.0345,  0.0085,\n",
       "                       0.0093, -0.0233,  0.0022, -0.0293, -0.0093, -0.0344, -0.0391, -0.0266,\n",
       "                      -0.0100,  0.0081, -0.0231, -0.0224,  0.0354, -0.0251,  0.0323,  0.0170,\n",
       "                       0.0004,  0.0035,  0.0084,  0.0181,  0.0267, -0.0218,  0.0110, -0.0100,\n",
       "                       0.0058,  0.0088, -0.0315, -0.0018,  0.0270, -0.0312, -0.0429,  0.0035,\n",
       "                      -0.0318,  0.0107, -0.0341,  0.0228,  0.0232,  0.0028, -0.0116,  0.0382,\n",
       "                      -0.0280, -0.0006, -0.0007,  0.0197, -0.0242,  0.0143, -0.0411, -0.0138,\n",
       "                      -0.0394, -0.0111,  0.0361,  0.0266, -0.0096,  0.0320, -0.0416, -0.0226,\n",
       "                       0.0377,  0.0295,  0.0397,  0.0426, -0.0127,  0.0049, -0.0076, -0.0114,\n",
       "                      -0.0042,  0.0009,  0.0414, -0.0088,  0.0349,  0.0365,  0.0419,  0.0094,\n",
       "                      -0.0171, -0.0403,  0.0052, -0.0165,  0.0353, -0.0038, -0.0093, -0.0430,\n",
       "                       0.0403,  0.0122, -0.0054,  0.0408,  0.0099,  0.0170,  0.0243, -0.0170,\n",
       "                      -0.0177,  0.0166,  0.0073,  0.0221,  0.0176, -0.0266, -0.0237,  0.0274,\n",
       "                       0.0228,  0.0184,  0.0279,  0.0367,  0.0099, -0.0166,  0.0051, -0.0426,\n",
       "                       0.0172, -0.0066, -0.0138,  0.0322,  0.0220,  0.0404, -0.0367, -0.0166,\n",
       "                       0.0280,  0.0002,  0.0116, -0.0211, -0.0210, -0.0065,  0.0240,  0.0073,\n",
       "                      -0.0412,  0.0165,  0.0185, -0.0430, -0.0216,  0.0151, -0.0291, -0.0041,\n",
       "                       0.0053,  0.0112, -0.0408,  0.0393, -0.0190, -0.0305, -0.0010, -0.0415,\n",
       "                       0.0273, -0.0164,  0.0305,  0.0328,  0.0036, -0.0190,  0.0367, -0.0109,\n",
       "                       0.0317,  0.0101,  0.0282, -0.0299,  0.0389, -0.0277, -0.0428,  0.0345,\n",
       "                      -0.0213,  0.0259,  0.0060,  0.0334,  0.0294, -0.0117, -0.0410,  0.0414,\n",
       "                      -0.0167, -0.0388,  0.0247, -0.0287, -0.0377,  0.0009, -0.0002, -0.0053,\n",
       "                       0.0213, -0.0080,  0.0433, -0.0427,  0.0190, -0.0371,  0.0012,  0.0137,\n",
       "                       0.0348, -0.0165,  0.0224, -0.0153,  0.0357, -0.0131, -0.0372, -0.0387,\n",
       "                       0.0283,  0.0206, -0.0423,  0.0272, -0.0333, -0.0397, -0.0223,  0.0072,\n",
       "                      -0.0073, -0.0192, -0.0129, -0.0151, -0.0358, -0.0385,  0.0215, -0.0344,\n",
       "                       0.0405, -0.0357, -0.0089, -0.0250, -0.0037, -0.0328, -0.0177, -0.0020,\n",
       "                       0.0033, -0.0155,  0.0370, -0.0208, -0.0267, -0.0365,  0.0425, -0.0287,\n",
       "                      -0.0028,  0.0115,  0.0405,  0.0281, -0.0134, -0.0418, -0.0122, -0.0286,\n",
       "                      -0.0210,  0.0094, -0.0330,  0.0415, -0.0137,  0.0283, -0.0339,  0.0306,\n",
       "                       0.0389,  0.0409,  0.0305, -0.0127,  0.0274, -0.0075,  0.0103, -0.0358,\n",
       "                      -0.0278,  0.0324,  0.0121, -0.0128,  0.0064, -0.0398, -0.0116,  0.0254,\n",
       "                      -0.0001,  0.0118,  0.0223, -0.0089,  0.0303, -0.0102, -0.0298,  0.0236,\n",
       "                       0.0400, -0.0022, -0.0032,  0.0148, -0.0240,  0.0237,  0.0270, -0.0289,\n",
       "                       0.0226, -0.0109, -0.0299,  0.0123, -0.0244, -0.0138,  0.0111, -0.0287,\n",
       "                       0.0058,  0.0038,  0.0150,  0.0086,  0.0267, -0.0334, -0.0090, -0.0265,\n",
       "                       0.0308,  0.0216, -0.0365,  0.0417,  0.0120, -0.0085, -0.0365, -0.0237,\n",
       "                       0.0117,  0.0075,  0.0208, -0.0052, -0.0032,  0.0430, -0.0169,  0.0317,\n",
       "                       0.0355, -0.0149, -0.0281,  0.0042, -0.0099,  0.0072, -0.0282,  0.0103,\n",
       "                       0.0295,  0.0147,  0.0229, -0.0199,  0.0331,  0.0343, -0.0052, -0.0032,\n",
       "                       0.0037, -0.0093,  0.0245, -0.0434,  0.0435, -0.0327, -0.0361, -0.0133,\n",
       "                      -0.0233,  0.0394, -0.0185, -0.0257, -0.0371,  0.0358, -0.0296,  0.0217,\n",
       "                      -0.0340, -0.0192,  0.0288,  0.0070,  0.0047,  0.0339, -0.0201,  0.0109,\n",
       "                       0.0148,  0.0200,  0.0320,  0.0390,  0.0413,  0.0020,  0.0251,  0.0357,\n",
       "                       0.0336, -0.0119, -0.0037, -0.0109,  0.0068, -0.0105,  0.0108, -0.0220,\n",
       "                       0.0342, -0.0183,  0.0221, -0.0014,  0.0033,  0.0184, -0.0113, -0.0313,\n",
       "                      -0.0108, -0.0273, -0.0181,  0.0309,  0.0329,  0.0330,  0.0236,  0.0300,\n",
       "                      -0.0366,  0.0147,  0.0269,  0.0252, -0.0219,  0.0215,  0.0237, -0.0373,\n",
       "                      -0.0167, -0.0233, -0.0313, -0.0079,  0.0138, -0.0141, -0.0186, -0.0194,\n",
       "                      -0.0036,  0.0266, -0.0327,  0.0322,  0.0277,  0.0262, -0.0008,  0.0355,\n",
       "                      -0.0079, -0.0349,  0.0332, -0.0038,  0.0169, -0.0133,  0.0338, -0.0067,\n",
       "                       0.0365,  0.0421,  0.0100, -0.0385, -0.0260, -0.0276,  0.0375,  0.0098,\n",
       "                       0.0260,  0.0383, -0.0196, -0.0343, -0.0069, -0.0187,  0.0168,  0.0190,\n",
       "                       0.0408,  0.0316,  0.0228, -0.0322,  0.0377,  0.0436,  0.0100,  0.0433,\n",
       "                      -0.0345, -0.0169, -0.0418, -0.0170, -0.0383, -0.0196, -0.0417, -0.0214,\n",
       "                      -0.0386,  0.0261,  0.0218,  0.0144, -0.0320,  0.0394, -0.0305,  0.0010,\n",
       "                       0.0171, -0.0364, -0.0108, -0.0033,  0.0110, -0.0411,  0.0142,  0.0098,\n",
       "                      -0.0016, -0.0151,  0.0185, -0.0016, -0.0296, -0.0376,  0.0088, -0.0151,\n",
       "                       0.0011, -0.0287, -0.0090, -0.0293, -0.0055,  0.0225,  0.0170, -0.0338,\n",
       "                       0.0372, -0.0008, -0.0021,  0.0387,  0.0046,  0.0241, -0.0156, -0.0079,\n",
       "                      -0.0305,  0.0136, -0.0035,  0.0323,  0.0009, -0.0173, -0.0285,  0.0110,\n",
       "                      -0.0221,  0.0188,  0.0282,  0.0285,  0.0050,  0.0150, -0.0334, -0.0126,\n",
       "                      -0.0267, -0.0004, -0.0148, -0.0223], device='cuda:0')),\n",
       "             ('layers_stack.5.weight',\n",
       "              tensor([[-0.0379, -0.0219,  0.0288,  ..., -0.0007,  0.0233,  0.0053],\n",
       "                      [ 0.0314, -0.0101, -0.0047,  ..., -0.0277, -0.0223, -0.0147],\n",
       "                      [-0.0055,  0.0118,  0.0025,  ...,  0.0257,  0.0409, -0.0286],\n",
       "                      ...,\n",
       "                      [ 0.0094, -0.0236,  0.0317,  ...,  0.0363, -0.0058, -0.0374],\n",
       "                      [ 0.0303, -0.0416,  0.0405,  ...,  0.0419,  0.0380,  0.0087],\n",
       "                      [ 0.0371, -0.0004,  0.0358,  ..., -0.0071, -0.0135,  0.0288]],\n",
       "                     device='cuda:0')),\n",
       "             ('layers_stack.5.bias',\n",
       "              tensor([-0.0387,  0.0066,  0.0150,  0.0357, -0.0087, -0.0310, -0.0376,  0.0361,\n",
       "                      -0.0102, -0.0153], device='cuda:0'))])"
      ]
     },
     "execution_count": 78,
     "metadata": {},
     "output_type": "execute_result"
    }
   ],
   "source": [
    "model_1.state_dict()"
   ]
  },
  {
   "cell_type": "markdown",
   "id": "846f2465-9f54-4f66-8849-695059d43d1b",
   "metadata": {},
   "source": [
    "Here, we couldn't find ReLu layer weights & Bias, because it's not learnable layer! "
   ]
  },
  {
   "cell_type": "code",
   "execution_count": 79,
   "id": "cabec16e-1acf-4e59-a883-9d07d0f98540",
   "metadata": {},
   "outputs": [
    {
     "data": {
      "text/plain": [
       "device(type='cuda', index=0)"
      ]
     },
     "execution_count": 79,
     "metadata": {},
     "output_type": "execute_result"
    }
   ],
   "source": [
    "#check on what device we are on? \n",
    "next(model_1.parameters()).device"
   ]
  },
  {
   "cell_type": "markdown",
   "id": "1149108e-171f-48b2-971d-9cf2aff74f28",
   "metadata": {},
   "source": [
    "So, now our model is going to train using GPU!"
   ]
  },
  {
   "cell_type": "code",
   "execution_count": 80,
   "id": "40269e81-d13e-4fd9-b809-05b5b0df3832",
   "metadata": {},
   "outputs": [],
   "source": [
    "#create random dummy x \n",
    "dummy_x = torch.rand([1,28,28]) #[batch_size, color_channel, height, weight]"
   ]
  },
  {
   "cell_type": "code",
   "execution_count": 81,
   "id": "0ea8f6e6-cecc-4689-843f-7601b73c2ebb",
   "metadata": {},
   "outputs": [
    {
     "data": {
      "text/plain": [
       "<matplotlib.image.AxesImage at 0x139d3467580>"
      ]
     },
     "execution_count": 81,
     "metadata": {},
     "output_type": "execute_result"
    },
    {
     "data": {
      "image/png": "[encoded data removed]",
      "text/plain": [
       "<Figure size 640x480 with 1 Axes>"
      ]
     },
     "metadata": {},
     "output_type": "display_data"
    }
   ],
   "source": [
    "#visualize dummy_x\n",
    "plt.imshow(dummy_x.squeeze(), cmap='gray')"
   ]
  },
  {
   "cell_type": "code",
   "execution_count": 82,
   "id": "05bb9820-2f68-49d9-9184-f334c5560f10",
   "metadata": {},
   "outputs": [
    {
     "ename": "NameError",
     "evalue": "name 'random_sample' is not defined",
     "output_type": "error",
     "traceback": [
      "\u001b[1;31m---------------------------------------------------------------------------\u001b[0m",
      "\u001b[1;31mNameError\u001b[0m                                 Traceback (most recent call last)",
      "Cell \u001b[1;32mIn[82], line 1\u001b[0m\n\u001b[1;32m----> 1\u001b[0m \u001b[43mrandom_sample\u001b[49m\u001b[38;5;241m.\u001b[39mshape\n",
      "\u001b[1;31mNameError\u001b[0m: name 'random_sample' is not defined"
     ]
    }
   ],
   "source": [
    "random_sample.shape"
   ]
  },
  {
   "cell_type": "code",
   "execution_count": null,
   "id": "e2281f18-716a-464a-8cf3-9418039bc5bc",
   "metadata": {},
   "outputs": [],
   "source": [
    "#random prediction on dummy_x\n",
    "model_1.eval()\n",
    "with torch.inference_mode():\n",
    "    pred = model_1(random_sample.to(device)).squeeze()"
   ]
  },
  {
   "cell_type": "code",
   "execution_count": null,
   "id": "56ed070e-0ca9-4e99-97ec-9d83b13ea4e9",
   "metadata": {},
   "outputs": [],
   "source": [
    "pred"
   ]
  },
  {
   "cell_type": "code",
   "execution_count": null,
   "id": "240bdec6-2840-46d3-966c-3f12dc87cb7a",
   "metadata": {},
   "outputs": [],
   "source": [
    "#raw logits of 10 classes\n",
    "len(pred)"
   ]
  },
  {
   "cell_type": "code",
   "execution_count": null,
   "id": "0f7d8252-06db-4bbe-82e1-0a054a6c9da3",
   "metadata": {},
   "outputs": [],
   "source": [
    "pred_label = pred.argmax()\n",
    "\n",
    "print(f'Predicted label: {class_names[pred_label]}')"
   ]
  },
  {
   "cell_type": "markdown",
   "id": "26d7e2f0-66dd-4fba-9e47-94afd288118a",
   "metadata": {},
   "source": [
    "### 6.1  Setup Loss function & Optimizer "
   ]
  },
  {
   "cell_type": "code",
   "execution_count": 86,
   "id": "a18a87b4-a680-4bd8-9885-b8c0182982ff",
   "metadata": {},
   "outputs": [],
   "source": [
    "loss_fn = nn.CrossEntropyLoss()\n",
    "\n",
    "optimizer = torch.optim.Adam(params=model_1.parameters(),\n",
    "                            lr=0.01)"
   ]
  },
  {
   "cell_type": "markdown",
   "id": "d48723e7-a798-4b48-aece-eef5de4d6905",
   "metadata": {},
   "source": [
    "### 6.2 Functionizing Training Loop & Test Loop  \n",
    "\n",
    "Let's create a function for: \n",
    "* Training loop - `train_step()`\n",
    "* Testing loop - `test_step()`"
   ]
  },
  {
   "cell_type": "code",
   "execution_count": 87,
   "id": "64c11fcc-b803-4fa9-aa81-adb6edf299c1",
   "metadata": {},
   "outputs": [],
   "source": [
    "def train_step(model: torch.nn.Module, data_loader: torch.utils.data.DataLoader, \n",
    "               loss_fn: torch.nn.Module, optimizer: torch.optim.Optimizer, \n",
    "               accuracy_fn, device: torch.device = device):\n",
    "    '''Performs Training loop'''\n",
    "    train_loss, train_acc = 0,0\n",
    "    \n",
    "    # putting model imto train mode\n",
    "    model.train()\n",
    "\n",
    "    #Add a loop to loop through the training batches\n",
    "    for batch, (X,y) in enumerate(data_loader):\n",
    "        # put data on target device\n",
    "        X, y = X.to(device), y.to(device)\n",
    "\n",
    "        #1.forward pass\n",
    "        y_pred = model(X)\n",
    "\n",
    "        #2.calculate the loss\n",
    "        loss = loss_fn(y_pred, y)\n",
    "        train_loss += loss #Accumulating train_loss\n",
    "\n",
    "        #accuracy \n",
    "        acc = accuracy_fn(y, \n",
    "                          y_pred.argmax(dim=1)) # go from logits --> prediction labels\n",
    "        train_acc += acc #accumulating train acc\n",
    "        \n",
    "        #3. optimizer zero grad\n",
    "        optimizer.zero_grad()\n",
    "\n",
    "        #4. loss backward \n",
    "        loss.backward()\n",
    "\n",
    "        #5. optimizer step \n",
    "        optimizer.step()\n",
    "\n",
    "    # Divide total loss and acc by length of train dataloader\n",
    "    train_loss /= len(data_loader)\n",
    "    train_acc /= len(data_loader)\n",
    "\n",
    "    #print out what's happening\n",
    "    print(f'Train Loss: {train_loss:.5f} | Train Acc: {train_acc:.2f}%')"
   ]
  },
  {
   "cell_type": "code",
   "execution_count": 88,
   "id": "f8b0c347-70e4-43d6-827d-1eb7f2518006",
   "metadata": {},
   "outputs": [],
   "source": [
    "def test_step(model: torch.nn.Module, data_loader: torch.utils.data.DataLoader,\n",
    "              loss_fn: torch.nn.Module, accuracy_fn,\n",
    "                device: torch.device = device):\n",
    "    '''Performs a Test loop on dataloader..'''\n",
    "    test_loss, test_acc = 0,0 \n",
    "    \n",
    "    #put the model in eval mode\n",
    "    model.eval()\n",
    "    \n",
    "    #turn on inference mode\n",
    "    with torch.inference_mode():\n",
    "        for X,y in data_loader:\n",
    "            #send the data to target device\n",
    "            X,y = X.to(device), y.to(device)\n",
    "\n",
    "            #forward pass \n",
    "            y_pred = model(X)\n",
    "\n",
    "            #calculate the loss \n",
    "            loss = loss_fn(y_pred, y)\n",
    "            test_loss += loss #accumulating loss\n",
    "\n",
    "            #accuracy \n",
    "            acc = accuracy_fn(y, y_pred.argmax(dim=1))\n",
    "            test_acc += acc\n",
    "\n",
    "        # Adjust metrics and print out \n",
    "        test_loss /= len(data_loader)\n",
    "        test_acc /= len(data_loader)\n",
    "    \n",
    "        #print out what's happening\n",
    "        print(f'Test Loss: {test_loss:.4f} | Test Acc: {test_acc:.2f}%')"
   ]
  },
  {
   "cell_type": "code",
   "execution_count": 89,
   "id": "44faad44-c726-44fc-8cf3-9d0590b6ff81",
   "metadata": {},
   "outputs": [],
   "source": [
    "## Hyperparameters ## \n",
    "RANDOM_SEED = 42 \n",
    "EPOCHS = 5"
   ]
  },
  {
   "cell_type": "code",
   "execution_count": 90,
   "id": "e654394d-1b60-4462-a71d-a18a1f83e8ea",
   "metadata": {},
   "outputs": [
    {
     "name": "stderr",
     "output_type": "stream",
     "text": [
      "  0%|                                                                                            | 0/5 [00:00<?, ?it/s]"
     ]
    },
    {
     "name": "stdout",
     "output_type": "stream",
     "text": [
      "Epoch: 0\n",
      "------\n",
      "Train Loss: 0.58863 | Train Acc: 78.98%\n"
     ]
    },
    {
     "name": "stderr",
     "output_type": "stream",
     "text": [
      " 20%|████████████████▊                                                                   | 1/5 [00:25<01:40, 25.12s/it]"
     ]
    },
    {
     "name": "stdout",
     "output_type": "stream",
     "text": [
      "Test Loss: 0.5100 | Test Acc: 82.10%\n",
      "Epoch: 1\n",
      "------\n",
      "Train Loss: 0.48345 | Train Acc: 83.18%\n"
     ]
    },
    {
     "name": "stderr",
     "output_type": "stream",
     "text": [
      " 40%|█████████████████████████████████▌                                                  | 2/5 [00:46<01:08, 22.74s/it]"
     ]
    },
    {
     "name": "stdout",
     "output_type": "stream",
     "text": [
      "Test Loss: 0.4668 | Test Acc: 83.57%\n",
      "Epoch: 2\n",
      "------\n",
      "Train Loss: 0.44629 | Train Acc: 84.48%\n"
     ]
    },
    {
     "name": "stderr",
     "output_type": "stream",
     "text": [
      " 60%|██████████████████████████████████████████████████▍                                 | 3/5 [01:09<00:45, 22.81s/it]"
     ]
    },
    {
     "name": "stdout",
     "output_type": "stream",
     "text": [
      "Test Loss: 0.5028 | Test Acc: 82.60%\n",
      "Epoch: 3\n",
      "------\n",
      "Train Loss: 0.44019 | Train Acc: 84.59%\n"
     ]
    },
    {
     "name": "stderr",
     "output_type": "stream",
     "text": [
      " 80%|███████████████████████████████████████████████████████████████████▏                | 4/5 [01:31<00:22, 22.72s/it]"
     ]
    },
    {
     "name": "stdout",
     "output_type": "stream",
     "text": [
      "Test Loss: 0.4792 | Test Acc: 83.46%\n",
      "Epoch: 4\n",
      "------\n",
      "Train Loss: 0.42611 | Train Acc: 85.10%\n"
     ]
    },
    {
     "name": "stderr",
     "output_type": "stream",
     "text": [
      "100%|████████████████████████████████████████████████████████████████████████████████████| 5/5 [01:52<00:00, 22.54s/it]"
     ]
    },
    {
     "name": "stdout",
     "output_type": "stream",
     "text": [
      "Test Loss: 0.4677 | Test Acc: 84.03%\n",
      "Train time on cuda: 112.734 seconds\n"
     ]
    },
    {
     "name": "stderr",
     "output_type": "stream",
     "text": [
      "\n"
     ]
    }
   ],
   "source": [
    "#Random seed\n",
    "torch.manual_seed(RANDOM_SEED)\n",
    "\n",
    "#start time\n",
    "train_time_start_on_gpu = timer()\n",
    "\n",
    "#Create a Optimization and evalaution loop using train_step() and test_step()\n",
    "for epoch in tqdm(range(EPOCHS)):\n",
    "    print(f'Epoch: {epoch}\\n------')\n",
    "\n",
    "    #training loop\n",
    "    train_step(model=model_1, data_loader=train_dataloader,\n",
    "              loss_fn=loss_fn, optimizer=optimizer, \n",
    "              accuracy_fn=accuracy_fn, device=device)\n",
    "    #test loop\n",
    "    test_step(model=model_1, data_loader=test_dataloader,\n",
    "             loss_fn=loss_fn, accuracy_fn=accuracy_fn, device=device)\n",
    "\n",
    "#end time\n",
    "train_time_end_on_gpu = timer()\n",
    "total_time_model_1 = print_train_time(start=train_time_start_on_gpu, end=train_time_end_on_gpu, device=device)"
   ]
  },
  {
   "cell_type": "markdown",
   "id": "fbbf368f-2b95-4278-a360-c3ac4f7273cc",
   "metadata": {},
   "source": [
    "> **Note**: Sometimes, depending on your data/hardware you might find that your model trains faster on CPU than GPU.\n",
    ">\n",
    "> Why is this ?\n",
    ">\n",
    "> 1. It could be that the overhead for copying data/model to and from the GPU outweighs the compute benefits offered by GPU.\n",
    "> 2. The hardware you're using has a better CPU in terms compute capability than the GPU.\n",
    ">\n",
    ">   more: https://horace.io/brrr_intro.html"
   ]
  },
  {
   "cell_type": "code",
   "execution_count": 92,
   "id": "13bcb90c-3309-4398-8095-4ec513356213",
   "metadata": {},
   "outputs": [
    {
     "name": "stderr",
     "output_type": "stream",
     "text": [
      "100%|███████████████████████████████████████████████████████████████████████████████| 313/313 [00:02<00:00, 136.99it/s]\n"
     ]
    },
    {
     "data": {
      "text/plain": [
       "{'model_name': 'FashionMNISTModelV1',\n",
       " 'model_loss': 0.4677440822124481,\n",
       " 'model_acc': 84.02555910543131}"
      ]
     },
     "execution_count": 92,
     "metadata": {},
     "output_type": "execute_result"
    }
   ],
   "source": [
    "#get model_1 results dictionary \n",
    "model_1_results = eval_model(model=model_1, data_loader=test_dataloader, \n",
    "                            loss_fn=loss_fn, accuracy_fn=accuracy_fn, device=device)\n",
    "\n",
    "model_1_results"
   ]
  },
  {
   "cell_type": "code",
   "execution_count": 93,
   "id": "85da68c3-4ae9-42df-a103-6a73ad77b6fd",
   "metadata": {},
   "outputs": [
    {
     "data": {
      "text/plain": [
       "{'model_name': 'FashionMNISTModelV0',\n",
       " 'model_loss': 0.4770430326461792,\n",
       " 'model_acc': 83.4564696485623}"
      ]
     },
     "execution_count": 93,
     "metadata": {},
     "output_type": "execute_result"
    }
   ],
   "source": [
    "model_0_results"
   ]
  },
  {
   "cell_type": "markdown",
   "id": "e8a2f2d9-3a1d-4bb8-83f5-61370122e320",
   "metadata": {},
   "source": [
    "## 7. Model-2: Building a Convolutional Neural Network (CNN)\n",
    "\n",
    "* CNN's are also known as ConvNets. \n",
    "\n",
    "* CNN's are known for their capabilities to find patterns in visual data.\n",
    "\n",
    "To find out what's happening inside a CNN, see this website: https://poloclub.github.io/cnn-explainer/"
   ]
  },
  {
   "cell_type": "code",
   "execution_count": 162,
   "id": "b7c729e3-f3d2-49ef-98cd-fae3540ef98c",
   "metadata": {},
   "outputs": [],
   "source": [
    "#Create a convolutional neural network \n",
    "class FashionMNISTModelV2(nn.Module):\n",
    "    '''\n",
    "    Model architecture that replicates the Tiny-VGG \n",
    "    model from CNN explainer website.  \n",
    "    '''\n",
    "    def __init__(self, input_shape: int, hidden_units: int, output_shape: int):\n",
    "        super().__init__()\n",
    "        # Conv Block -> block is comprised of multi-layers \n",
    "        # ex of block: [conv_layer, ReLu, MaxPool]\n",
    "        # overall architecture comprised of multi-blocks\n",
    "        # Architecture: input_layer + block1 + block2 + .. + block_n + output_layer\n",
    "        #Feature extractor 1\n",
    "        self.conv_block1 = nn.Sequential(\n",
    "            nn.Conv2d(in_channels=input_shape, \n",
    "                      out_channels=hidden_units, \n",
    "                      kernel_size=(3,3),\n",
    "                      stride=1, \n",
    "                      padding=1), #values we can set ourselves in our NN's are Hyperparameters\n",
    "            nn.ReLU(), \n",
    "            nn.Conv2d(in_channels=hidden_units, \n",
    "                      out_channels=hidden_units, \n",
    "                      kernel_size=(3,3), \n",
    "                      stride=1,\n",
    "                      padding=1),\n",
    "            nn.ReLU(), \n",
    "            nn.MaxPool2d(kernel_size=(2,2))\n",
    "        )\n",
    "        #Feature extractor 2\n",
    "        self.conv_block2 = nn.Sequential(\n",
    "            nn.Conv2d(in_channels=hidden_units, \n",
    "                     out_channels=hidden_units,\n",
    "                     kernel_size=(3,3),\n",
    "                     stride=1,\n",
    "                     padding=1), \n",
    "            nn.ReLU(), \n",
    "            nn.Conv2d(in_channels=hidden_units,\n",
    "                     out_channels=hidden_units, \n",
    "                     kernel_size=3, \n",
    "                     stride=1,\n",
    "                     padding=1),\n",
    "            nn.ReLU(),\n",
    "            nn.MaxPool2d(kernel_size=(2,2))\n",
    "        )\n",
    "        #classifier layer\n",
    "        self.classifier = nn.Sequential(\n",
    "            nn.Flatten(start_dim=0), \n",
    "            nn.Linear(in_features=hidden_units*7*7, #there is a trick to calculating this...\n",
    "                     out_features=output_shape)\n",
    "        )\n",
    "    def forward(self,x: torch.Tensor) -> torch.Tensor:\n",
    "        x = self.conv_block1(x)\n",
    "        print(f'Output shape of conv_block_1: {x.shape}')\n",
    "        x = self.conv_block2(x)\n",
    "        print(f'Output shape of conv_block_2: {x.shape}')\n",
    "        output = self.classifier(x)\n",
    "        print(f'Output shape of Classifier: {output.shape}')\n",
    "        return output"
   ]
  },
  {
   "cell_type": "code",
   "execution_count": 163,
   "id": "b3dcac3e-870f-4546-bab7-a60904a8e6d4",
   "metadata": {},
   "outputs": [
    {
     "data": {
      "text/plain": [
       "torch.Size([1, 28, 28])"
      ]
     },
     "execution_count": 163,
     "metadata": {},
     "output_type": "execute_result"
    }
   ],
   "source": [
    "image.shape"
   ]
  },
  {
   "cell_type": "code",
   "execution_count": 164,
   "id": "ef5297b1-3844-497b-9add-0b594bf8439f",
   "metadata": {},
   "outputs": [
    {
     "data": {
      "text/plain": [
       "FashionMNISTModelV2(\n",
       "  (conv_block1): Sequential(\n",
       "    (0): Conv2d(1, 10, kernel_size=(3, 3), stride=(1, 1), padding=(1, 1))\n",
       "    (1): ReLU()\n",
       "    (2): Conv2d(10, 10, kernel_size=(3, 3), stride=(1, 1), padding=(1, 1))\n",
       "    (3): ReLU()\n",
       "    (4): MaxPool2d(kernel_size=(2, 2), stride=(2, 2), padding=0, dilation=1, ceil_mode=False)\n",
       "  )\n",
       "  (conv_block2): Sequential(\n",
       "    (0): Conv2d(10, 10, kernel_size=(3, 3), stride=(1, 1), padding=(1, 1))\n",
       "    (1): ReLU()\n",
       "    (2): Conv2d(10, 10, kernel_size=(3, 3), stride=(1, 1), padding=(1, 1))\n",
       "    (3): ReLU()\n",
       "    (4): MaxPool2d(kernel_size=(2, 2), stride=(2, 2), padding=0, dilation=1, ceil_mode=False)\n",
       "  )\n",
       "  (classifier): Sequential(\n",
       "    (0): Flatten(start_dim=0, end_dim=-1)\n",
       "    (1): Linear(in_features=490, out_features=10, bias=True)\n",
       "  )\n",
       ")"
      ]
     },
     "execution_count": 164,
     "metadata": {},
     "output_type": "execute_result"
    }
   ],
   "source": [
    "#random seed\n",
    "torch.manual_seed(RANDOM_SEED)\n",
    "\n",
    "#instantiating our model \n",
    "#input_shape is number of channels in the input image.\n",
    "model_2 = FashionMNISTModelV2(input_shape=1, \n",
    "                              hidden_units=10, \n",
    "                              output_shape=len(class_names)).to(device)\n",
    "model_2"
   ]
  },
  {
   "cell_type": "markdown",
   "id": "a4ee482a-a680-4c5e-91ae-dbacc2d2e272",
   "metadata": {},
   "source": [
    "## * Passing Sample Image through our TinyVGG model"
   ]
  },
  {
   "cell_type": "code",
   "execution_count": 184,
   "id": "b6a3bddc-ed4c-4878-becb-3ee31eeaecb7",
   "metadata": {},
   "outputs": [],
   "source": [
    "#pick random image and label from the data\n",
    "image, label = train_data[500]"
   ]
  },
  {
   "cell_type": "code",
   "execution_count": 185,
   "id": "a4a22414-0ef7-4dbb-b988-f1f7c56fd589",
   "metadata": {},
   "outputs": [
    {
     "data": {
      "image/png": "[encoded data removed]",
      "text/plain": [
       "<Figure size 640x480 with 1 Axes>"
      ]
     },
     "metadata": {},
     "output_type": "display_data"
    }
   ],
   "source": [
    "#visualize Image \n",
    "plt.imshow(image.squeeze(), cmap='gray')\n",
    "plt.axis(False)\n",
    "plt.show()"
   ]
  },
  {
   "cell_type": "code",
   "execution_count": 186,
   "id": "82d00a30-8ee7-451c-862a-a6422642eb02",
   "metadata": {},
   "outputs": [
    {
     "data": {
      "text/plain": [
       "torch.Size([1, 28, 28])"
      ]
     },
     "execution_count": 186,
     "metadata": {},
     "output_type": "execute_result"
    }
   ],
   "source": [
    "image.shape"
   ]
  },
  {
   "cell_type": "code",
   "execution_count": 187,
   "id": "97bc5b46-b889-4fa7-97d4-368e30641ef3",
   "metadata": {},
   "outputs": [
    {
     "data": {
      "text/plain": [
       "490"
      ]
     },
     "execution_count": 187,
     "metadata": {},
     "output_type": "execute_result"
    }
   ],
   "source": [
    "7*7*10"
   ]
  },
  {
   "cell_type": "markdown",
   "id": "a6a17e46-5646-4d42-94fe-16fbde845ecc",
   "metadata": {},
   "source": [
    "Output of conv_block_2: [10, 7, 7]\n",
    "\n",
    "This will be flattened: 10 * 7 * 7 => 490 \n",
    "\n",
    "10 --> Hidden units\n",
    "\n",
    "7 ---> height \n",
    "\n",
    "7 ---> weight\n",
    "\n",
    "This 490 should sent to output layer!"
   ]
  },
  {
   "cell_type": "code",
   "execution_count": 188,
   "id": "3771b94b-4f7a-480d-86aa-84318d7174a5",
   "metadata": {},
   "outputs": [
    {
     "name": "stdout",
     "output_type": "stream",
     "text": [
      "Output shape of conv_block_1: torch.Size([10, 14, 14])\n",
      "Output shape of conv_block_2: torch.Size([10, 7, 7])\n",
      "Output shape of Classifier: torch.Size([10])\n"
     ]
    },
    {
     "data": {
      "text/plain": [
       "tensor([ 0.0407, -0.0686,  0.0564, -0.0370, -0.0073,  0.0164, -0.0026, -0.0181,\n",
       "         0.0266,  0.0084], device='cuda:0', grad_fn=<ViewBackward0>)"
      ]
     },
     "execution_count": 188,
     "metadata": {},
     "output_type": "execute_result"
    }
   ],
   "source": [
    "#pass Image through our Tiny VGG model \n",
    "random_pred = model_2(image.to(device))\n",
    "\n",
    "random_pred"
   ]
  },
  {
   "cell_type": "code",
   "execution_count": 189,
   "id": "55049a91-ed58-4253-8fd5-566769dea230",
   "metadata": {},
   "outputs": [
    {
     "name": "stdout",
     "output_type": "stream",
     "text": [
      "Ground Truth: Dress\n",
      "Random Prediction: Pullover\n"
     ]
    }
   ],
   "source": [
    "#prediction \n",
    "pred = torch.argmax(random_pred)\n",
    "\n",
    "print(f'Ground Truth: {class_names[label]}')\n",
    "print(f'Random Prediction: {class_names[pred]}')"
   ]
  },
  {
   "cell_type": "markdown",
   "id": "b210e398-f97a-4c3d-a77f-7338cd519a4e",
   "metadata": {},
   "source": [
    "### 7.1 Stepping through nn.Conv2d()\n",
    "\n",
    "See the documentation: https://pytorch.org/docs/stable/generated/torch.nn.Conv2d.html"
   ]
  },
  {
   "cell_type": "code",
   "execution_count": 97,
   "id": "21566ead-2be3-4e82-8793-56e4ddf7c270",
   "metadata": {},
   "outputs": [
    {
     "name": "stdout",
     "output_type": "stream",
     "text": [
      "Image batch shape: torch.Size([32, 3, 64, 64])\n",
      "Single image shape: torch.Size([3, 64, 64])\n",
      "Test Image: \n",
      " tensor([[[0.8823, 0.9150, 0.3829,  ..., 0.1587, 0.6542, 0.3278],\n",
      "         [0.6532, 0.3958, 0.9147,  ..., 0.2083, 0.3289, 0.1054],\n",
      "         [0.9192, 0.4008, 0.9302,  ..., 0.5535, 0.4117, 0.3510],\n",
      "         ...,\n",
      "         [0.1457, 0.1499, 0.3298,  ..., 0.9624, 0.6400, 0.7409],\n",
      "         [0.1709, 0.5797, 0.6340,  ..., 0.6885, 0.2405, 0.5956],\n",
      "         [0.9199, 0.1247, 0.3573,  ..., 0.6752, 0.2058, 0.5027]],\n",
      "\n",
      "        [[0.1458, 0.9024, 0.9217,  ..., 0.1868, 0.6352, 0.8431],\n",
      "         [0.9549, 0.4435, 0.6924,  ..., 0.1168, 0.7160, 0.5462],\n",
      "         [0.1616, 0.1054, 0.8614,  ..., 0.4531, 0.4736, 0.9448],\n",
      "         ...,\n",
      "         [0.4309, 0.3986, 0.1907,  ..., 0.9444, 0.2848, 0.3776],\n",
      "         [0.7948, 0.6855, 0.1009,  ..., 0.6147, 0.7747, 0.2323],\n",
      "         [0.5840, 0.9795, 0.3277,  ..., 0.3549, 0.1263, 0.1280]],\n",
      "\n",
      "        [[0.5027, 0.4195, 0.8893,  ..., 0.3084, 0.1567, 0.7860],\n",
      "         [0.7310, 0.9307, 0.2847,  ..., 0.8432, 0.8307, 0.0897],\n",
      "         [0.7021, 0.5967, 0.7744,  ..., 0.8485, 0.4520, 0.0401],\n",
      "         ...,\n",
      "         [0.5440, 0.0679, 0.6577,  ..., 0.9948, 0.2791, 0.4142],\n",
      "         [0.5095, 0.1246, 0.1726,  ..., 0.0984, 0.3224, 0.3125],\n",
      "         [0.3612, 0.8706, 0.4751,  ..., 0.5368, 0.2389, 0.2095]]])\n"
     ]
    }
   ],
   "source": [
    "torch.manual_seed(RANDOM_SEED)\n",
    "\n",
    "#create a batch of Images \n",
    "images = torch.rand(size=(32, 3, 64, 64)) # [N, C_in, H, W] -> (Batch, Color_channels, Height, Weight)\n",
    "test_image = images[0]\n",
    "\n",
    "print(f'Image batch shape: {images.shape}')\n",
    "print(f'Single image shape: {test_image.shape}')\n",
    "print(f'Test Image: \\n {test_image}')"
   ]
  },
  {
   "cell_type": "code",
   "execution_count": 98,
   "id": "ed86e64f-93f2-40ff-a77a-58c74972315d",
   "metadata": {},
   "outputs": [
    {
     "data": {
      "text/plain": [
       "torch.Size([3, 64, 64])"
      ]
     },
     "execution_count": 98,
     "metadata": {},
     "output_type": "execute_result"
    }
   ],
   "source": [
    "test_image.shape"
   ]
  },
  {
   "cell_type": "code",
   "execution_count": 109,
   "id": "ea2eddbb-46f4-43eb-a088-868270172588",
   "metadata": {},
   "outputs": [
    {
     "data": {
      "text/plain": [
       "torch.Size([10, 64, 64])"
      ]
     },
     "execution_count": 109,
     "metadata": {},
     "output_type": "execute_result"
    }
   ],
   "source": [
    "torch.manual_seed(RANDOM_SEED)\n",
    "#Create a single Conv2d layer \n",
    "conv_layer = nn.Conv2d(in_channels=3, \n",
    "                      out_channels=10, \n",
    "                      kernel_size=(3,3),\n",
    "                      stride=1,\n",
    "                      padding=1)\n",
    "\n",
    "#pass the data through the convolutional layer \n",
    "conv_output = conv_layer(test_image)\n",
    "\n",
    "conv_output.shape"
   ]
  },
  {
   "cell_type": "markdown",
   "id": "6fd63079-62a1-41f2-b7b7-943e94f27173",
   "metadata": {},
   "source": [
    " ### 7.2 Stepping through nn.MaxPool2d()"
   ]
  },
  {
   "cell_type": "code",
   "execution_count": 110,
   "id": "533a4e81-27c9-4fea-ada7-f5e000df0b2b",
   "metadata": {},
   "outputs": [
    {
     "data": {
      "text/plain": [
       "torch.Size([3, 64, 64])"
      ]
     },
     "execution_count": 110,
     "metadata": {},
     "output_type": "execute_result"
    }
   ],
   "source": [
    "test_image.shape"
   ]
  },
  {
   "cell_type": "code",
   "execution_count": 111,
   "id": "13ec98c2-f2fa-4caa-b3d9-edf5cab1473f",
   "metadata": {},
   "outputs": [
    {
     "name": "stdout",
     "output_type": "stream",
     "text": [
      "Test image original shape: torch.Size([3, 64, 64])\n",
      "Shape after going through conv_layer(): torch.Size([10, 64, 64])\n",
      "Shape after going through maxpool_layer(): torch.Size([10, 32, 32])\n"
     ]
    }
   ],
   "source": [
    "# print out original image shape without unsqueezed dimension\n",
    "print(f'Test image original shape: {test_image.shape}')\n",
    "\n",
    "#Create a sample nn.MaxPool2d layer\n",
    "max_pool_layer = nn.MaxPool2d(kernel_size=(2,2))\n",
    "\n",
    "#Pass data through the conv layer \n",
    "test_image_through_conv = conv_layer(test_image)\n",
    "print(f'Shape after going through conv_layer(): {test_image_through_conv.shape}')\n",
    "\n",
    "#Pass convoluted image through MaxPool layer\n",
    "test_image_through_maxpool = max_pool_layer(test_image_through_conv)\n",
    "print(f'Shape after going through maxpool_layer(): {test_image_through_maxpool.shape}')"
   ]
  },
  {
   "cell_type": "markdown",
   "id": "5b5bbf2e-9ab1-46ce-8b52-1dec3d1d8425",
   "metadata": {},
   "source": [
    "#### Example of MaxPool Layer"
   ]
  },
  {
   "cell_type": "code",
   "execution_count": 115,
   "id": "d4f7f3c3-02da-43a0-a7a5-d07d8ee04935",
   "metadata": {},
   "outputs": [
    {
     "name": "stdout",
     "output_type": "stream",
     "text": [
      "\n",
      " Random Tensor:\n",
      " tensor([[[[0.3367, 0.1288],\n",
      "          [0.2345, 0.2303]]]])\n",
      "Random Tensor Shape: torch.Size([1, 1, 2, 2])\n",
      "\n",
      " MaxPool Tensor: \n",
      " tensor([[[[0.3367]]]])\n",
      "Max Pool tensor shape: torch.Size([1, 1, 1, 1])\n"
     ]
    }
   ],
   "source": [
    "torch.manual_seed(RANDOM_SEED)\n",
    "\n",
    "#create a random tensor with a similar number of dimensions to our images\n",
    "random_tensor = torch.randn(size=(1,1,2,2)) # [N, C, H, W]\n",
    "\n",
    "print(f'\\n Random Tensor:\\n {random_tensor}')\n",
    "print(f'Random Tensor Shape: {random_tensor.shape}')\n",
    "\n",
    "#Create a Max Pool layer\n",
    "maxpool_layer = nn.MaxPool2d(kernel_size=2)\n",
    "\n",
    "#Pass random tensor through maxpool layer \n",
    "max_pool_tensor = max_pool_layer(random_tensor)\n",
    "\n",
    "print(f'\\n MaxPool Tensor: \\n {max_pool_tensor}')\n",
    "print(f'Max Pool tensor shape: {max_pool_tensor.shape}')"
   ]
  },
  {
   "cell_type": "code",
   "execution_count": 159,
   "id": "0f8feba0-7045-4cab-9c95-5421ed672502",
   "metadata": {},
   "outputs": [],
   "source": [
    "flatten_layer = nn.Flatten(start_dim=0)"
   ]
  },
  {
   "cell_type": "code",
   "execution_count": 160,
   "id": "45547c7a-239f-4eb0-ac14-39595a4bdebd",
   "metadata": {},
   "outputs": [
    {
     "data": {
      "text/plain": [
       "torch.Size([490])"
      ]
     },
     "execution_count": 160,
     "metadata": {},
     "output_type": "execute_result"
    }
   ],
   "source": [
    "rand_img = torch.rand(size=(10,7,7))\n",
    "\n",
    "flattened_tensor = flatten_layer(rand_img)\n",
    "\n",
    "flattened_tensor.shape"
   ]
  },
  {
   "cell_type": "code",
   "execution_count": null,
   "id": "44d34fc5-cc83-48c7-95bc-0f8f1e386e06",
   "metadata": {},
   "outputs": [],
   "source": []
  }
 ],
 "metadata": {
  "kernelspec": {
   "display_name": "Python 3 (ipykernel)",
   "language": "python",
   "name": "python3"
  },
  "language_info": {
   "codemirror_mode": {
    "name": "ipython",
    "version": 3
   },
   "file_extension": ".py",
   "mimetype": "text/x-python",
   "name": "python",
   "nbconvert_exporter": "python",
   "pygments_lexer": "ipython3",
   "version": "3.10.13"
  }
 },
 "nbformat": 4,
 "nbformat_minor": 5
}
